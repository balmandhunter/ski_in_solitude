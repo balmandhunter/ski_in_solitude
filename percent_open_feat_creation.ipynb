{
 "cells": [
  {
   "cell_type": "code",
   "execution_count": 1,
   "metadata": {
    "collapsed": false
   },
   "outputs": [],
   "source": [
    "import pandas as pd \n",
    "import numpy as np\n",
    "import matplotlib.pyplot as plt\n",
    "from sklearn import linear_model\n",
    "import datetime\n",
    "import seaborn as sns\n",
    "from pandas.tseries.holiday import USFederalHolidayCalendar\n",
    "from sklearn import linear_model\n",
    "from sklearn.cross_validation import cross_val_predict\n",
    "from sklearn.cross_validation import cross_val_score\n",
    "import time\n",
    "\n",
    "%load_ext autoreload\n",
    "%autoreload 2\n",
    "from functions import *\n",
    "from plots import *\n",
    "\n",
    "%matplotlib inline\n",
    "plt.rcParams['figure.figsize'] = 12, 8  # plotsize "
   ]
  },
  {
   "cell_type": "markdown",
   "metadata": {},
   "source": [
    "# Import Seasonal Data"
   ]
  },
  {
   "cell_type": "code",
   "execution_count": 2,
   "metadata": {
    "collapsed": false
   },
   "outputs": [],
   "source": [
    "df_seas1 = pd.DataFrame.from_csv('../data_ski_in_solitude/combined_data/combined_11_12.csv')\n",
    "df_seas2 = pd.DataFrame.from_csv('../data_ski_in_solitude/combined_data/combined_12_13.csv')\n",
    "df_seas3 = pd.DataFrame.from_csv('../data_ski_in_solitude/combined_data/combined_13_14.csv')\n",
    "df_seas4 = pd.DataFrame.from_csv('../data_ski_in_solitude/combined_data/combined_14_15.csv')\n",
    "df_seas5 = pd.DataFrame.from_csv('../data_ski_in_solitude/combined_data/combined_15_16.csv')"
   ]
  },
  {
   "cell_type": "code",
   "execution_count": 3,
   "metadata": {
    "collapsed": true
   },
   "outputs": [],
   "source": [
    "seas_list = [df_seas1, df_seas2, df_seas3, df_seas4, df_seas5]"
   ]
  },
  {
   "cell_type": "code",
   "execution_count": 4,
   "metadata": {
    "collapsed": false
   },
   "outputs": [],
   "source": [
    "for season in seas_list:\n",
    "    if type(season.day_of_week) != int:\n",
    "        season_list = day_of_week_col(season)"
   ]
  },
  {
   "cell_type": "code",
   "execution_count": 5,
   "metadata": {
    "collapsed": false
   },
   "outputs": [
    {
     "data": {
      "text/html": [
       "<div>\n",
       "<table border=\"1\" class=\"dataframe\">\n",
       "  <thead>\n",
       "    <tr style=\"text-align: right;\">\n",
       "      <th></th>\n",
       "      <th>away_WP</th>\n",
       "      <th>to_WP</th>\n",
       "      <th>day_of_week</th>\n",
       "      <th>skiers</th>\n",
       "      <th>new_24</th>\n",
       "      <th>basedepth</th>\n",
       "      <th>open_trails</th>\n",
       "      <th>open_lifts</th>\n",
       "      <th>open_percent</th>\n",
       "      <th>tot_snow</th>\n",
       "      <th>week_snow_tot</th>\n",
       "      <th>2day_snow_tot</th>\n",
       "      <th>3day_snow_tot</th>\n",
       "      <th>4day_snow_tot</th>\n",
       "      <th>5day_snow_tot</th>\n",
       "      <th>6day_snow_tot</th>\n",
       "    </tr>\n",
       "    <tr>\n",
       "      <th>date</th>\n",
       "      <th></th>\n",
       "      <th></th>\n",
       "      <th></th>\n",
       "      <th></th>\n",
       "      <th></th>\n",
       "      <th></th>\n",
       "      <th></th>\n",
       "      <th></th>\n",
       "      <th></th>\n",
       "      <th></th>\n",
       "      <th></th>\n",
       "      <th></th>\n",
       "      <th></th>\n",
       "      <th></th>\n",
       "      <th></th>\n",
       "      <th></th>\n",
       "    </tr>\n",
       "  </thead>\n",
       "  <tbody>\n",
       "    <tr>\n",
       "      <th>2016-04-22</th>\n",
       "      <td>NaN</td>\n",
       "      <td>NaN</td>\n",
       "      <td>4</td>\n",
       "      <td>NaN</td>\n",
       "      <td>1.4</td>\n",
       "      <td>63.5</td>\n",
       "      <td>67.0</td>\n",
       "      <td>6.5</td>\n",
       "      <td>48.5</td>\n",
       "      <td>279.7</td>\n",
       "      <td>9.8</td>\n",
       "      <td>2.8</td>\n",
       "      <td>4.2</td>\n",
       "      <td>5.6</td>\n",
       "      <td>7</td>\n",
       "      <td>8.4</td>\n",
       "    </tr>\n",
       "    <tr>\n",
       "      <th>2016-04-23</th>\n",
       "      <td>NaN</td>\n",
       "      <td>NaN</td>\n",
       "      <td>5</td>\n",
       "      <td>NaN</td>\n",
       "      <td>1.4</td>\n",
       "      <td>76.5</td>\n",
       "      <td>105.5</td>\n",
       "      <td>9.0</td>\n",
       "      <td>74.0</td>\n",
       "      <td>281.1</td>\n",
       "      <td>9.8</td>\n",
       "      <td>2.8</td>\n",
       "      <td>4.2</td>\n",
       "      <td>5.6</td>\n",
       "      <td>7</td>\n",
       "      <td>8.4</td>\n",
       "    </tr>\n",
       "    <tr>\n",
       "      <th>2016-04-24</th>\n",
       "      <td>NaN</td>\n",
       "      <td>NaN</td>\n",
       "      <td>6</td>\n",
       "      <td>NaN</td>\n",
       "      <td>1.4</td>\n",
       "      <td>83.0</td>\n",
       "      <td>104.5</td>\n",
       "      <td>9.0</td>\n",
       "      <td>73.5</td>\n",
       "      <td>282.5</td>\n",
       "      <td>9.8</td>\n",
       "      <td>2.8</td>\n",
       "      <td>4.2</td>\n",
       "      <td>5.6</td>\n",
       "      <td>7</td>\n",
       "      <td>8.4</td>\n",
       "    </tr>\n",
       "    <tr>\n",
       "      <th>2016-04-25</th>\n",
       "      <td>NaN</td>\n",
       "      <td>NaN</td>\n",
       "      <td>0</td>\n",
       "      <td>NaN</td>\n",
       "      <td>1.4</td>\n",
       "      <td>73.5</td>\n",
       "      <td>99.0</td>\n",
       "      <td>9.0</td>\n",
       "      <td>69.5</td>\n",
       "      <td>283.9</td>\n",
       "      <td>9.8</td>\n",
       "      <td>2.8</td>\n",
       "      <td>4.2</td>\n",
       "      <td>5.6</td>\n",
       "      <td>7</td>\n",
       "      <td>8.4</td>\n",
       "    </tr>\n",
       "    <tr>\n",
       "      <th>2016-04-26</th>\n",
       "      <td>NaN</td>\n",
       "      <td>NaN</td>\n",
       "      <td>1</td>\n",
       "      <td>NaN</td>\n",
       "      <td>1.4</td>\n",
       "      <td>74.5</td>\n",
       "      <td>96.0</td>\n",
       "      <td>9.0</td>\n",
       "      <td>67.5</td>\n",
       "      <td>285.3</td>\n",
       "      <td>9.8</td>\n",
       "      <td>2.8</td>\n",
       "      <td>4.2</td>\n",
       "      <td>5.6</td>\n",
       "      <td>7</td>\n",
       "      <td>8.4</td>\n",
       "    </tr>\n",
       "  </tbody>\n",
       "</table>\n",
       "</div>"
      ],
      "text/plain": [
       "            away_WP  to_WP  day_of_week  skiers  new_24  basedepth  \\\n",
       "date                                                                 \n",
       "2016-04-22      NaN    NaN            4     NaN     1.4       63.5   \n",
       "2016-04-23      NaN    NaN            5     NaN     1.4       76.5   \n",
       "2016-04-24      NaN    NaN            6     NaN     1.4       83.0   \n",
       "2016-04-25      NaN    NaN            0     NaN     1.4       73.5   \n",
       "2016-04-26      NaN    NaN            1     NaN     1.4       74.5   \n",
       "\n",
       "            open_trails  open_lifts  open_percent  tot_snow  week_snow_tot  \\\n",
       "date                                                                         \n",
       "2016-04-22         67.0         6.5          48.5     279.7            9.8   \n",
       "2016-04-23        105.5         9.0          74.0     281.1            9.8   \n",
       "2016-04-24        104.5         9.0          73.5     282.5            9.8   \n",
       "2016-04-25         99.0         9.0          69.5     283.9            9.8   \n",
       "2016-04-26         96.0         9.0          67.5     285.3            9.8   \n",
       "\n",
       "            2day_snow_tot  3day_snow_tot  4day_snow_tot  5day_snow_tot  \\\n",
       "date                                                                     \n",
       "2016-04-22            2.8            4.2            5.6              7   \n",
       "2016-04-23            2.8            4.2            5.6              7   \n",
       "2016-04-24            2.8            4.2            5.6              7   \n",
       "2016-04-25            2.8            4.2            5.6              7   \n",
       "2016-04-26            2.8            4.2            5.6              7   \n",
       "\n",
       "            6day_snow_tot  \n",
       "date                       \n",
       "2016-04-22            8.4  \n",
       "2016-04-23            8.4  \n",
       "2016-04-24            8.4  \n",
       "2016-04-25            8.4  \n",
       "2016-04-26            8.4  "
      ]
     },
     "execution_count": 5,
     "metadata": {},
     "output_type": "execute_result"
    }
   ],
   "source": [
    "df_seas5.tail()"
   ]
  },
  {
   "cell_type": "markdown",
   "metadata": {},
   "source": [
    "#### Create dummy variables for days of the week."
   ]
  },
  {
   "cell_type": "code",
   "execution_count": 6,
   "metadata": {
    "collapsed": false
   },
   "outputs": [],
   "source": [
    "seas_list = [pd.concat([season,  pd.get_dummies(season.day_of_week, prefix='day')], axis=1) for season in seas_list]"
   ]
  },
  {
   "cell_type": "markdown",
   "metadata": {},
   "source": [
    "#### Make midweek column"
   ]
  },
  {
   "cell_type": "code",
   "execution_count": 7,
   "metadata": {
    "collapsed": false
   },
   "outputs": [],
   "source": [
    "seas_list = [make_midweek_col(season) for season in seas_list]"
   ]
  },
  {
   "cell_type": "markdown",
   "metadata": {},
   "source": [
    "#### Make month column"
   ]
  },
  {
   "cell_type": "code",
   "execution_count": 8,
   "metadata": {
    "collapsed": false
   },
   "outputs": [],
   "source": [
    "for season in seas_list:\n",
    "    season['month'] = season.index.month "
   ]
  },
  {
   "cell_type": "markdown",
   "metadata": {},
   "source": [
    "#### Make monthly dummy variables and drop month column"
   ]
  },
  {
   "cell_type": "code",
   "execution_count": 9,
   "metadata": {
    "collapsed": false
   },
   "outputs": [],
   "source": [
    "seas_list = [pd.concat([season, pd.get_dummies(season.month, prefix='month')], axis=1) for season in seas_list]"
   ]
  },
  {
   "cell_type": "code",
   "execution_count": 10,
   "metadata": {
    "collapsed": false
   },
   "outputs": [],
   "source": [
    "seas_list = [season.drop(['day_1', 'day_2', 'day_3', 'day_of_week', 'month'], axis=1) for season in seas_list]"
   ]
  },
  {
   "cell_type": "markdown",
   "metadata": {},
   "source": [
    "#### Create a 'days since beginning of season' feature"
   ]
  },
  {
   "cell_type": "code",
   "execution_count": 11,
   "metadata": {
    "collapsed": false
   },
   "outputs": [],
   "source": [
    "for count, season in enumerate(seas_list):\n",
    "    row_num = []\n",
    "    for i in range(1,len(seas_list[count])+1):\n",
    "        row_num.append(i)\n",
    "    seas_list[count]['days_since_start'] = row_num"
   ]
  },
  {
   "cell_type": "markdown",
   "metadata": {},
   "source": [
    "#### Make holiday features"
   ]
  },
  {
   "cell_type": "code",
   "execution_count": 12,
   "metadata": {
    "collapsed": false
   },
   "outputs": [],
   "source": [
    "holiday_seas = [0]*5\n",
    "count = 0\n",
    "for season in seas_list:\n",
    "    L = len(season)-1\n",
    "    holiday_seas[count] = get_holiday_list(season.index[0].year, season.index[0].month, season.index[0].day, season.index[L].year, season.index[L].month, season.index[L].day)\n",
    "    count += 1"
   ]
  },
  {
   "cell_type": "code",
   "execution_count": 13,
   "metadata": {
    "collapsed": false
   },
   "outputs": [],
   "source": [
    "vet_day = []\n",
    "thanksgiv = []\n",
    "xmas = []\n",
    "mlk_day = []\n",
    "pres_day = []\n",
    "for i in range(0,len(holiday_seas)):\n",
    "    vet_day, thanksgiv, xmas, mlk_day, pres_day = get_holiday_names(holiday_seas[i], vet_day, thanksgiv, xmas, mlk_day, pres_day)"
   ]
  },
  {
   "cell_type": "code",
   "execution_count": 14,
   "metadata": {
    "collapsed": false
   },
   "outputs": [
    {
     "data": {
      "text/plain": [
       "[Timestamp('2011-11-11 00:00:00'),\n",
       " Timestamp('2012-11-12 00:00:00'),\n",
       " Timestamp('2013-11-11 00:00:00'),\n",
       " Timestamp('2014-11-11 00:00:00'),\n",
       " Timestamp('2015-11-11 00:00:00')]"
      ]
     },
     "execution_count": 14,
     "metadata": {},
     "output_type": "execute_result"
    }
   ],
   "source": [
    "vet_day"
   ]
  },
  {
   "cell_type": "code",
   "execution_count": 15,
   "metadata": {
    "collapsed": false
   },
   "outputs": [],
   "source": [
    "for count, season in enumerate(seas_list):\n",
    "    seas_list[count] = call_make_holiday_columns(season, vet_day[count], thanksgiv[count], xmas[count], mlk_day[count], pres_day[count])"
   ]
  },
  {
   "cell_type": "code",
   "execution_count": 16,
   "metadata": {
    "collapsed": true
   },
   "outputs": [],
   "source": [
    "df_all = pd.concat([seas_list[0], seas_list[1], seas_list[2], seas_list[3], seas_list[4]], axis=0)"
   ]
  },
  {
   "cell_type": "code",
   "execution_count": 17,
   "metadata": {
    "collapsed": false
   },
   "outputs": [],
   "source": [
    "df_all.drop(['away_WP', 'to_WP'], axis=1, inplace=True)"
   ]
  },
  {
   "cell_type": "markdown",
   "metadata": {},
   "source": [
    "### Make spring break column"
   ]
  },
  {
   "cell_type": "code",
   "execution_count": 18,
   "metadata": {
    "collapsed": false,
    "scrolled": true
   },
   "outputs": [],
   "source": [
    "df_all = make_spring_break_col(df_all)"
   ]
  },
  {
   "cell_type": "markdown",
   "metadata": {},
   "source": [
    "#### Drop percent open column and skiers column.\n"
   ]
  },
  {
   "cell_type": "code",
   "execution_count": 19,
   "metadata": {
    "collapsed": false
   },
   "outputs": [],
   "source": [
    "df_all.drop(['skiers', 'basedepth', 'open_lifts', 'open_percent'], inplace=True, axis=1)"
   ]
  },
  {
   "cell_type": "code",
   "execution_count": 20,
   "metadata": {
    "collapsed": true
   },
   "outputs": [],
   "source": [
    "features = list(df_all.columns.values)\n",
    "leave_out = ['skiers', 'open_trails']\n",
    "features = [f for f in features if f not in leave_out]"
   ]
  },
  {
   "cell_type": "code",
   "execution_count": 21,
   "metadata": {
    "collapsed": false
   },
   "outputs": [],
   "source": [
    "for feat1 in features:\n",
    "    if feat1 != 'xmas':\n",
    "        df_all[feat1 + '_xmas'] = df_all[feat1]*df_all.xmas\n",
    "    if feat1 != 'xmas' and feat1 != 'spring_break':\n",
    "        df_all[feat1+ '_spring_break'] = df_all[feat1]*df_all.spring_break\n",
    "    if feat1 != 'xmas' and feat1 != 'spring_break' and feat1 != 'midweek':\n",
    "        df_all[feat1 + '_midweek'] = df_all[feat1]*df_all.midweek\n",
    "    if feat1 != 'xmas' and feat1 != 'spring_break' and feat1 != 'midweek' and feat1 != 'day4':\n",
    "        df_all[feat1 + '_fri'] = df_all[feat1]*df_all.day_4\n",
    "    if feat1 != 'xmas' and feat1 != 'spring_break' and feat1 != 'midweek' and feat1 != 'day4' and feat1 != 'day5':\n",
    "        df_all[feat1 + '_sat'] = df_all[feat1]*df_all.day_5\n",
    "    if feat1 != 'xmas' and feat1 != 'spring_break' and feat1 != 'midweek' and feat1 != 'day4' and feat1 != 'day5' and feat1 != 'day0':\n",
    "        df_all[feat1 + '_mon'] = df_all[feat1]*df_all.day_0"
   ]
  },
  {
   "cell_type": "code",
   "execution_count": 22,
   "metadata": {
    "collapsed": false
   },
   "outputs": [],
   "source": [
    "features = list(df_all.columns.values)\n",
    "leave_out = ['skiers']\n",
    "drop_feat = []\n",
    "leave_out = []\n",
    "for feat in features:\n",
    "    if len(df_all[feat].unique()) == 1:\n",
    "        drop_feat.append(feat)\n",
    "    elif len(df_all[feat].unique()) == 2:\n",
    "        leave_out.append(feat)"
   ]
  },
  {
   "cell_type": "code",
   "execution_count": 23,
   "metadata": {
    "collapsed": false
   },
   "outputs": [],
   "source": [
    "df_all.drop(drop_feat, inplace=True, axis=1)"
   ]
  },
  {
   "cell_type": "code",
   "execution_count": 24,
   "metadata": {
    "collapsed": false
   },
   "outputs": [
    {
     "data": {
      "text/html": [
       "<div>\n",
       "<table border=\"1\" class=\"dataframe\">\n",
       "  <thead>\n",
       "    <tr style=\"text-align: right;\">\n",
       "      <th></th>\n",
       "      <th>new_24</th>\n",
       "      <th>open_trails</th>\n",
       "      <th>tot_snow</th>\n",
       "      <th>week_snow_tot</th>\n",
       "      <th>2day_snow_tot</th>\n",
       "      <th>3day_snow_tot</th>\n",
       "      <th>4day_snow_tot</th>\n",
       "      <th>5day_snow_tot</th>\n",
       "      <th>6day_snow_tot</th>\n",
       "      <th>day_0</th>\n",
       "      <th>...</th>\n",
       "      <th>mlk_day_sat</th>\n",
       "      <th>mlk_day_mon</th>\n",
       "      <th>pres_day_midweek</th>\n",
       "      <th>pres_day_fri</th>\n",
       "      <th>pres_day_sat</th>\n",
       "      <th>pres_day_mon</th>\n",
       "      <th>before_xmas_midweek</th>\n",
       "      <th>before_xmas_fri</th>\n",
       "      <th>before_xmas_sat</th>\n",
       "      <th>before_xmas_mon</th>\n",
       "    </tr>\n",
       "  </thead>\n",
       "  <tbody>\n",
       "    <tr>\n",
       "      <th>2011-11-13</th>\n",
       "      <td>1</td>\n",
       "      <td>0</td>\n",
       "      <td>1</td>\n",
       "      <td>9.1</td>\n",
       "      <td>2.6</td>\n",
       "      <td>3.9</td>\n",
       "      <td>5.2</td>\n",
       "      <td>6.5</td>\n",
       "      <td>7.8</td>\n",
       "      <td>0</td>\n",
       "      <td>...</td>\n",
       "      <td>0</td>\n",
       "      <td>0</td>\n",
       "      <td>0</td>\n",
       "      <td>0</td>\n",
       "      <td>0</td>\n",
       "      <td>0</td>\n",
       "      <td>0</td>\n",
       "      <td>0</td>\n",
       "      <td>0</td>\n",
       "      <td>0</td>\n",
       "    </tr>\n",
       "    <tr>\n",
       "      <th>2011-11-14</th>\n",
       "      <td>1</td>\n",
       "      <td>0</td>\n",
       "      <td>4</td>\n",
       "      <td>9.1</td>\n",
       "      <td>2.0</td>\n",
       "      <td>3.9</td>\n",
       "      <td>5.2</td>\n",
       "      <td>6.5</td>\n",
       "      <td>7.8</td>\n",
       "      <td>1</td>\n",
       "      <td>...</td>\n",
       "      <td>0</td>\n",
       "      <td>0</td>\n",
       "      <td>0</td>\n",
       "      <td>0</td>\n",
       "      <td>0</td>\n",
       "      <td>0</td>\n",
       "      <td>0</td>\n",
       "      <td>0</td>\n",
       "      <td>0</td>\n",
       "      <td>0</td>\n",
       "    </tr>\n",
       "    <tr>\n",
       "      <th>2011-11-15</th>\n",
       "      <td>1</td>\n",
       "      <td>0</td>\n",
       "      <td>4</td>\n",
       "      <td>9.1</td>\n",
       "      <td>2.0</td>\n",
       "      <td>3.0</td>\n",
       "      <td>5.2</td>\n",
       "      <td>6.5</td>\n",
       "      <td>7.8</td>\n",
       "      <td>0</td>\n",
       "      <td>...</td>\n",
       "      <td>0</td>\n",
       "      <td>0</td>\n",
       "      <td>0</td>\n",
       "      <td>0</td>\n",
       "      <td>0</td>\n",
       "      <td>0</td>\n",
       "      <td>0</td>\n",
       "      <td>0</td>\n",
       "      <td>0</td>\n",
       "      <td>0</td>\n",
       "    </tr>\n",
       "    <tr>\n",
       "      <th>2011-11-16</th>\n",
       "      <td>1</td>\n",
       "      <td>0</td>\n",
       "      <td>5</td>\n",
       "      <td>9.1</td>\n",
       "      <td>2.0</td>\n",
       "      <td>3.0</td>\n",
       "      <td>4.0</td>\n",
       "      <td>6.5</td>\n",
       "      <td>7.8</td>\n",
       "      <td>0</td>\n",
       "      <td>...</td>\n",
       "      <td>0</td>\n",
       "      <td>0</td>\n",
       "      <td>0</td>\n",
       "      <td>0</td>\n",
       "      <td>0</td>\n",
       "      <td>0</td>\n",
       "      <td>0</td>\n",
       "      <td>0</td>\n",
       "      <td>0</td>\n",
       "      <td>0</td>\n",
       "    </tr>\n",
       "    <tr>\n",
       "      <th>2011-11-17</th>\n",
       "      <td>1</td>\n",
       "      <td>0</td>\n",
       "      <td>6</td>\n",
       "      <td>9.1</td>\n",
       "      <td>2.0</td>\n",
       "      <td>3.0</td>\n",
       "      <td>4.0</td>\n",
       "      <td>5.0</td>\n",
       "      <td>7.8</td>\n",
       "      <td>0</td>\n",
       "      <td>...</td>\n",
       "      <td>0</td>\n",
       "      <td>0</td>\n",
       "      <td>0</td>\n",
       "      <td>0</td>\n",
       "      <td>0</td>\n",
       "      <td>0</td>\n",
       "      <td>0</td>\n",
       "      <td>0</td>\n",
       "      <td>0</td>\n",
       "      <td>0</td>\n",
       "    </tr>\n",
       "  </tbody>\n",
       "</table>\n",
       "<p>5 rows × 136 columns</p>\n",
       "</div>"
      ],
      "text/plain": [
       "            new_24  open_trails  tot_snow  week_snow_tot  2day_snow_tot  \\\n",
       "2011-11-13       1            0         1            9.1            2.6   \n",
       "2011-11-14       1            0         4            9.1            2.0   \n",
       "2011-11-15       1            0         4            9.1            2.0   \n",
       "2011-11-16       1            0         5            9.1            2.0   \n",
       "2011-11-17       1            0         6            9.1            2.0   \n",
       "\n",
       "            3day_snow_tot  4day_snow_tot  5day_snow_tot  6day_snow_tot  day_0  \\\n",
       "2011-11-13            3.9            5.2            6.5            7.8      0   \n",
       "2011-11-14            3.9            5.2            6.5            7.8      1   \n",
       "2011-11-15            3.0            5.2            6.5            7.8      0   \n",
       "2011-11-16            3.0            4.0            6.5            7.8      0   \n",
       "2011-11-17            3.0            4.0            5.0            7.8      0   \n",
       "\n",
       "                 ...         mlk_day_sat  mlk_day_mon  pres_day_midweek  \\\n",
       "2011-11-13       ...                   0            0                 0   \n",
       "2011-11-14       ...                   0            0                 0   \n",
       "2011-11-15       ...                   0            0                 0   \n",
       "2011-11-16       ...                   0            0                 0   \n",
       "2011-11-17       ...                   0            0                 0   \n",
       "\n",
       "            pres_day_fri  pres_day_sat  pres_day_mon  before_xmas_midweek  \\\n",
       "2011-11-13             0             0             0                    0   \n",
       "2011-11-14             0             0             0                    0   \n",
       "2011-11-15             0             0             0                    0   \n",
       "2011-11-16             0             0             0                    0   \n",
       "2011-11-17             0             0             0                    0   \n",
       "\n",
       "            before_xmas_fri  before_xmas_sat  before_xmas_mon  \n",
       "2011-11-13                0                0                0  \n",
       "2011-11-14                0                0                0  \n",
       "2011-11-15                0                0                0  \n",
       "2011-11-16                0                0                0  \n",
       "2011-11-17                0                0                0  \n",
       "\n",
       "[5 rows x 136 columns]"
      ]
     },
     "execution_count": 24,
     "metadata": {},
     "output_type": "execute_result"
    }
   ],
   "source": [
    "df_all.head()"
   ]
  },
  {
   "cell_type": "markdown",
   "metadata": {},
   "source": [
    "#### Make squared, cubed, square root, and log features"
   ]
  },
  {
   "cell_type": "code",
   "execution_count": 25,
   "metadata": {
    "collapsed": false
   },
   "outputs": [],
   "source": [
    "features = list(df_all.columns.values)\n",
    "leave_out= ['skiers', 'open_trails']\n",
    "features = [f for f in features if f not in leave_out]\n",
    "df_all = make_squared(df_all, features)"
   ]
  },
  {
   "cell_type": "code",
   "execution_count": 26,
   "metadata": {
    "collapsed": false
   },
   "outputs": [
    {
     "data": {
      "text/plain": [
       "<matplotlib.axes._subplots.AxesSubplot at 0x10a3dde90>"
      ]
     },
     "execution_count": 26,
     "metadata": {},
     "output_type": "execute_result"
    },
    {
     "data": {
      "image/png": "[encoded data removed]",
      "text/plain": [
       "<matplotlib.figure.Figure at 0x104765e50>"
      ]
     },
     "metadata": {},
     "output_type": "display_data"
    }
   ],
   "source": [
    "df_all.open_trails.plot(linestyle='-', marker='o', xlim = ['2014-11-1 00:00:00', '2015-05-1 00:00:00'])"
   ]
  },
  {
   "cell_type": "markdown",
   "metadata": {},
   "source": [
    "#### Delete January 2-6, 2014 (no traffic data)."
   ]
  },
  {
   "cell_type": "code",
   "execution_count": 27,
   "metadata": {
    "collapsed": false
   },
   "outputs": [],
   "source": [
    "df_all = pd.concat([df_all.ix[datetime.datetime(2011,11,1):datetime.datetime(2015,1,1)],df_all.ix[datetime.datetime(2015,1,7):datetime.datetime(2016,5,1)]], axis=0)"
   ]
  },
  {
   "cell_type": "markdown",
   "metadata": {},
   "source": [
    "# Export Data"
   ]
  },
  {
   "cell_type": "code",
   "execution_count": 28,
   "metadata": {
    "collapsed": false
   },
   "outputs": [],
   "source": [
    "df_all.to_csv('../data_ski_in_solitude/data_with_features/data_open_trails.csv')"
   ]
  },
  {
   "cell_type": "code",
   "execution_count": null,
   "metadata": {
    "collapsed": true
   },
   "outputs": [],
   "source": []
  }
 ],
 "metadata": {
  "kernelspec": {
   "display_name": "Python 2",
   "language": "python",
   "name": "python2"
  },
  "language_info": {
   "codemirror_mode": {
    "name": "ipython",
    "version": 2
   },
   "file_extension": ".py",
   "mimetype": "text/x-python",
   "name": "python",
   "nbconvert_exporter": "python",
   "pygments_lexer": "ipython2",
   "version": "2.7.10"
  }
 },
 "nbformat": 4,
 "nbformat_minor": 0
}
