{
 "cells": [
  {
   "cell_type": "code",
   "execution_count": 231,
   "metadata": {
    "collapsed": false
   },
   "outputs": [
    {
     "name": "stdout",
     "output_type": "stream",
     "text": [
      "The autoreload extension is already loaded. To reload it, use:\n",
      "  %reload_ext autoreload\n"
     ]
    }
   ],
   "source": [
    "import pandas as pd \n",
    "import numpy as np\n",
    "import matplotlib.pyplot as plt\n",
    "from sklearn import linear_model\n",
    "import datetime\n",
    "import seaborn as sns\n",
    "from pandas.tseries.holiday import USFederalHolidayCalendar\n",
    "from sklearn import linear_model\n",
    "from sklearn.cross_validation import cross_val_predict\n",
    "from sklearn.cross_validation import cross_val_score\n",
    "import time\n",
    "\n",
    "%load_ext autoreload\n",
    "%autoreload 2\n",
    "from functions import *\n",
    "from plots import *\n",
    "\n",
    "%matplotlib inline\n",
    "plt.rcParams['figure.figsize'] = 12, 8  # plotsize "
   ]
  },
  {
   "cell_type": "markdown",
   "metadata": {},
   "source": [
    "# Import Seasonal Data"
   ]
  },
  {
   "cell_type": "code",
   "execution_count": 232,
   "metadata": {
    "collapsed": false
   },
   "outputs": [],
   "source": [
    "df_seas1 = pd.DataFrame.from_csv('../data_ski_in_solitude/combined_data/combined_11_12.csv')\n",
    "df_seas2 = pd.DataFrame.from_csv('../data_ski_in_solitude/combined_data/combined_12_13.csv')\n",
    "df_seas3 = pd.DataFrame.from_csv('../data_ski_in_solitude/combined_data/combined_13_14.csv')\n",
    "df_seas4 = pd.DataFrame.from_csv('../data_ski_in_solitude/combined_data/combined_14_15.csv')\n",
    "df_seas5 = pd.DataFrame.from_csv('../data_ski_in_solitude/combined_data/combined_15_16.csv')"
   ]
  },
  {
   "cell_type": "code",
   "execution_count": 233,
   "metadata": {
    "collapsed": false
   },
   "outputs": [
    {
     "data": {
      "text/html": [
       "<div>\n",
       "<table border=\"1\" class=\"dataframe\">\n",
       "  <thead>\n",
       "    <tr style=\"text-align: right;\">\n",
       "      <th></th>\n",
       "      <th>away_WP</th>\n",
       "      <th>to_WP</th>\n",
       "      <th>day_of_week</th>\n",
       "      <th>skiers</th>\n",
       "      <th>new_24</th>\n",
       "      <th>basedepth</th>\n",
       "      <th>open_trails</th>\n",
       "      <th>open_lifts</th>\n",
       "      <th>open_percent</th>\n",
       "      <th>tot_snow</th>\n",
       "      <th>week_snow_tot</th>\n",
       "      <th>2day_snow_tot</th>\n",
       "      <th>3day_snow_tot</th>\n",
       "      <th>4day_snow_tot</th>\n",
       "      <th>5day_snow_tot</th>\n",
       "      <th>6day_snow_tot</th>\n",
       "    </tr>\n",
       "    <tr>\n",
       "      <th>date</th>\n",
       "      <th></th>\n",
       "      <th></th>\n",
       "      <th></th>\n",
       "      <th></th>\n",
       "      <th></th>\n",
       "      <th></th>\n",
       "      <th></th>\n",
       "      <th></th>\n",
       "      <th></th>\n",
       "      <th></th>\n",
       "      <th></th>\n",
       "      <th></th>\n",
       "      <th></th>\n",
       "      <th></th>\n",
       "      <th></th>\n",
       "      <th></th>\n",
       "    </tr>\n",
       "  </thead>\n",
       "  <tbody>\n",
       "    <tr>\n",
       "      <th>2016-04-22</th>\n",
       "      <td>NaN</td>\n",
       "      <td>NaN</td>\n",
       "      <td>NaN</td>\n",
       "      <td>NaN</td>\n",
       "      <td>1.4</td>\n",
       "      <td>63.5</td>\n",
       "      <td>67.0</td>\n",
       "      <td>6.5</td>\n",
       "      <td>48.5</td>\n",
       "      <td>279.7</td>\n",
       "      <td>9.8</td>\n",
       "      <td>2.8</td>\n",
       "      <td>4.2</td>\n",
       "      <td>5.6</td>\n",
       "      <td>7</td>\n",
       "      <td>8.4</td>\n",
       "    </tr>\n",
       "    <tr>\n",
       "      <th>2016-04-23</th>\n",
       "      <td>NaN</td>\n",
       "      <td>NaN</td>\n",
       "      <td>NaN</td>\n",
       "      <td>NaN</td>\n",
       "      <td>1.4</td>\n",
       "      <td>76.5</td>\n",
       "      <td>105.5</td>\n",
       "      <td>9.0</td>\n",
       "      <td>74.0</td>\n",
       "      <td>281.1</td>\n",
       "      <td>9.8</td>\n",
       "      <td>2.8</td>\n",
       "      <td>4.2</td>\n",
       "      <td>5.6</td>\n",
       "      <td>7</td>\n",
       "      <td>8.4</td>\n",
       "    </tr>\n",
       "    <tr>\n",
       "      <th>2016-04-24</th>\n",
       "      <td>NaN</td>\n",
       "      <td>NaN</td>\n",
       "      <td>NaN</td>\n",
       "      <td>NaN</td>\n",
       "      <td>1.4</td>\n",
       "      <td>83.0</td>\n",
       "      <td>104.5</td>\n",
       "      <td>9.0</td>\n",
       "      <td>73.5</td>\n",
       "      <td>282.5</td>\n",
       "      <td>9.8</td>\n",
       "      <td>2.8</td>\n",
       "      <td>4.2</td>\n",
       "      <td>5.6</td>\n",
       "      <td>7</td>\n",
       "      <td>8.4</td>\n",
       "    </tr>\n",
       "    <tr>\n",
       "      <th>2016-04-25</th>\n",
       "      <td>NaN</td>\n",
       "      <td>NaN</td>\n",
       "      <td>NaN</td>\n",
       "      <td>NaN</td>\n",
       "      <td>1.4</td>\n",
       "      <td>73.5</td>\n",
       "      <td>99.0</td>\n",
       "      <td>9.0</td>\n",
       "      <td>69.5</td>\n",
       "      <td>283.9</td>\n",
       "      <td>9.8</td>\n",
       "      <td>2.8</td>\n",
       "      <td>4.2</td>\n",
       "      <td>5.6</td>\n",
       "      <td>7</td>\n",
       "      <td>8.4</td>\n",
       "    </tr>\n",
       "    <tr>\n",
       "      <th>2016-04-26</th>\n",
       "      <td>NaN</td>\n",
       "      <td>NaN</td>\n",
       "      <td>NaN</td>\n",
       "      <td>NaN</td>\n",
       "      <td>1.4</td>\n",
       "      <td>74.5</td>\n",
       "      <td>96.0</td>\n",
       "      <td>9.0</td>\n",
       "      <td>67.5</td>\n",
       "      <td>285.3</td>\n",
       "      <td>9.8</td>\n",
       "      <td>2.8</td>\n",
       "      <td>4.2</td>\n",
       "      <td>5.6</td>\n",
       "      <td>7</td>\n",
       "      <td>8.4</td>\n",
       "    </tr>\n",
       "  </tbody>\n",
       "</table>\n",
       "</div>"
      ],
      "text/plain": [
       "            away_WP  to_WP  day_of_week  skiers  new_24  basedepth  \\\n",
       "date                                                                 \n",
       "2016-04-22      NaN    NaN          NaN     NaN     1.4       63.5   \n",
       "2016-04-23      NaN    NaN          NaN     NaN     1.4       76.5   \n",
       "2016-04-24      NaN    NaN          NaN     NaN     1.4       83.0   \n",
       "2016-04-25      NaN    NaN          NaN     NaN     1.4       73.5   \n",
       "2016-04-26      NaN    NaN          NaN     NaN     1.4       74.5   \n",
       "\n",
       "            open_trails  open_lifts  open_percent  tot_snow  week_snow_tot  \\\n",
       "date                                                                         \n",
       "2016-04-22         67.0         6.5          48.5     279.7            9.8   \n",
       "2016-04-23        105.5         9.0          74.0     281.1            9.8   \n",
       "2016-04-24        104.5         9.0          73.5     282.5            9.8   \n",
       "2016-04-25         99.0         9.0          69.5     283.9            9.8   \n",
       "2016-04-26         96.0         9.0          67.5     285.3            9.8   \n",
       "\n",
       "            2day_snow_tot  3day_snow_tot  4day_snow_tot  5day_snow_tot  \\\n",
       "date                                                                     \n",
       "2016-04-22            2.8            4.2            5.6              7   \n",
       "2016-04-23            2.8            4.2            5.6              7   \n",
       "2016-04-24            2.8            4.2            5.6              7   \n",
       "2016-04-25            2.8            4.2            5.6              7   \n",
       "2016-04-26            2.8            4.2            5.6              7   \n",
       "\n",
       "            6day_snow_tot  \n",
       "date                       \n",
       "2016-04-22            8.4  \n",
       "2016-04-23            8.4  \n",
       "2016-04-24            8.4  \n",
       "2016-04-25            8.4  \n",
       "2016-04-26            8.4  "
      ]
     },
     "execution_count": 233,
     "metadata": {},
     "output_type": "execute_result"
    }
   ],
   "source": [
    "df_seas5.tail()"
   ]
  },
  {
   "cell_type": "code",
   "execution_count": 234,
   "metadata": {
    "collapsed": true
   },
   "outputs": [],
   "source": [
    "seas_list = [df_seas1, df_seas2, df_seas3, df_seas4, df_seas5]"
   ]
  },
  {
   "cell_type": "code",
   "execution_count": 235,
   "metadata": {
    "collapsed": false
   },
   "outputs": [],
   "source": [
    "for season in seas_list:\n",
    "    if type(season.day_of_week) != int:\n",
    "        season_list = day_of_week_col(season)"
   ]
  },
  {
   "cell_type": "code",
   "execution_count": 236,
   "metadata": {
    "collapsed": false
   },
   "outputs": [
    {
     "data": {
      "text/html": [
       "<div>\n",
       "<table border=\"1\" class=\"dataframe\">\n",
       "  <thead>\n",
       "    <tr style=\"text-align: right;\">\n",
       "      <th></th>\n",
       "      <th>away_WP</th>\n",
       "      <th>to_WP</th>\n",
       "      <th>day_of_week</th>\n",
       "      <th>skiers</th>\n",
       "      <th>new_24</th>\n",
       "      <th>basedepth</th>\n",
       "      <th>open_trails</th>\n",
       "      <th>open_lifts</th>\n",
       "      <th>open_percent</th>\n",
       "      <th>tot_snow</th>\n",
       "      <th>week_snow_tot</th>\n",
       "      <th>2day_snow_tot</th>\n",
       "      <th>3day_snow_tot</th>\n",
       "      <th>4day_snow_tot</th>\n",
       "      <th>5day_snow_tot</th>\n",
       "      <th>6day_snow_tot</th>\n",
       "    </tr>\n",
       "    <tr>\n",
       "      <th>date</th>\n",
       "      <th></th>\n",
       "      <th></th>\n",
       "      <th></th>\n",
       "      <th></th>\n",
       "      <th></th>\n",
       "      <th></th>\n",
       "      <th></th>\n",
       "      <th></th>\n",
       "      <th></th>\n",
       "      <th></th>\n",
       "      <th></th>\n",
       "      <th></th>\n",
       "      <th></th>\n",
       "      <th></th>\n",
       "      <th></th>\n",
       "      <th></th>\n",
       "    </tr>\n",
       "  </thead>\n",
       "  <tbody>\n",
       "    <tr>\n",
       "      <th>2016-04-22</th>\n",
       "      <td>NaN</td>\n",
       "      <td>NaN</td>\n",
       "      <td>4</td>\n",
       "      <td>NaN</td>\n",
       "      <td>1.4</td>\n",
       "      <td>63.5</td>\n",
       "      <td>67.0</td>\n",
       "      <td>6.5</td>\n",
       "      <td>48.5</td>\n",
       "      <td>279.7</td>\n",
       "      <td>9.8</td>\n",
       "      <td>2.8</td>\n",
       "      <td>4.2</td>\n",
       "      <td>5.6</td>\n",
       "      <td>7</td>\n",
       "      <td>8.4</td>\n",
       "    </tr>\n",
       "    <tr>\n",
       "      <th>2016-04-23</th>\n",
       "      <td>NaN</td>\n",
       "      <td>NaN</td>\n",
       "      <td>5</td>\n",
       "      <td>NaN</td>\n",
       "      <td>1.4</td>\n",
       "      <td>76.5</td>\n",
       "      <td>105.5</td>\n",
       "      <td>9.0</td>\n",
       "      <td>74.0</td>\n",
       "      <td>281.1</td>\n",
       "      <td>9.8</td>\n",
       "      <td>2.8</td>\n",
       "      <td>4.2</td>\n",
       "      <td>5.6</td>\n",
       "      <td>7</td>\n",
       "      <td>8.4</td>\n",
       "    </tr>\n",
       "    <tr>\n",
       "      <th>2016-04-24</th>\n",
       "      <td>NaN</td>\n",
       "      <td>NaN</td>\n",
       "      <td>6</td>\n",
       "      <td>NaN</td>\n",
       "      <td>1.4</td>\n",
       "      <td>83.0</td>\n",
       "      <td>104.5</td>\n",
       "      <td>9.0</td>\n",
       "      <td>73.5</td>\n",
       "      <td>282.5</td>\n",
       "      <td>9.8</td>\n",
       "      <td>2.8</td>\n",
       "      <td>4.2</td>\n",
       "      <td>5.6</td>\n",
       "      <td>7</td>\n",
       "      <td>8.4</td>\n",
       "    </tr>\n",
       "    <tr>\n",
       "      <th>2016-04-25</th>\n",
       "      <td>NaN</td>\n",
       "      <td>NaN</td>\n",
       "      <td>0</td>\n",
       "      <td>NaN</td>\n",
       "      <td>1.4</td>\n",
       "      <td>73.5</td>\n",
       "      <td>99.0</td>\n",
       "      <td>9.0</td>\n",
       "      <td>69.5</td>\n",
       "      <td>283.9</td>\n",
       "      <td>9.8</td>\n",
       "      <td>2.8</td>\n",
       "      <td>4.2</td>\n",
       "      <td>5.6</td>\n",
       "      <td>7</td>\n",
       "      <td>8.4</td>\n",
       "    </tr>\n",
       "    <tr>\n",
       "      <th>2016-04-26</th>\n",
       "      <td>NaN</td>\n",
       "      <td>NaN</td>\n",
       "      <td>1</td>\n",
       "      <td>NaN</td>\n",
       "      <td>1.4</td>\n",
       "      <td>74.5</td>\n",
       "      <td>96.0</td>\n",
       "      <td>9.0</td>\n",
       "      <td>67.5</td>\n",
       "      <td>285.3</td>\n",
       "      <td>9.8</td>\n",
       "      <td>2.8</td>\n",
       "      <td>4.2</td>\n",
       "      <td>5.6</td>\n",
       "      <td>7</td>\n",
       "      <td>8.4</td>\n",
       "    </tr>\n",
       "  </tbody>\n",
       "</table>\n",
       "</div>"
      ],
      "text/plain": [
       "            away_WP  to_WP  day_of_week  skiers  new_24  basedepth  \\\n",
       "date                                                                 \n",
       "2016-04-22      NaN    NaN            4     NaN     1.4       63.5   \n",
       "2016-04-23      NaN    NaN            5     NaN     1.4       76.5   \n",
       "2016-04-24      NaN    NaN            6     NaN     1.4       83.0   \n",
       "2016-04-25      NaN    NaN            0     NaN     1.4       73.5   \n",
       "2016-04-26      NaN    NaN            1     NaN     1.4       74.5   \n",
       "\n",
       "            open_trails  open_lifts  open_percent  tot_snow  week_snow_tot  \\\n",
       "date                                                                         \n",
       "2016-04-22         67.0         6.5          48.5     279.7            9.8   \n",
       "2016-04-23        105.5         9.0          74.0     281.1            9.8   \n",
       "2016-04-24        104.5         9.0          73.5     282.5            9.8   \n",
       "2016-04-25         99.0         9.0          69.5     283.9            9.8   \n",
       "2016-04-26         96.0         9.0          67.5     285.3            9.8   \n",
       "\n",
       "            2day_snow_tot  3day_snow_tot  4day_snow_tot  5day_snow_tot  \\\n",
       "date                                                                     \n",
       "2016-04-22            2.8            4.2            5.6              7   \n",
       "2016-04-23            2.8            4.2            5.6              7   \n",
       "2016-04-24            2.8            4.2            5.6              7   \n",
       "2016-04-25            2.8            4.2            5.6              7   \n",
       "2016-04-26            2.8            4.2            5.6              7   \n",
       "\n",
       "            6day_snow_tot  \n",
       "date                       \n",
       "2016-04-22            8.4  \n",
       "2016-04-23            8.4  \n",
       "2016-04-24            8.4  \n",
       "2016-04-25            8.4  \n",
       "2016-04-26            8.4  "
      ]
     },
     "execution_count": 236,
     "metadata": {},
     "output_type": "execute_result"
    }
   ],
   "source": [
    "df_seas5.tail()"
   ]
  },
  {
   "cell_type": "markdown",
   "metadata": {},
   "source": [
    "#### Create dummy variables for days of the week."
   ]
  },
  {
   "cell_type": "code",
   "execution_count": 237,
   "metadata": {
    "collapsed": false
   },
   "outputs": [],
   "source": [
    "seas_list = [pd.concat([season,  pd.get_dummies(season.day_of_week, prefix='day')], axis=1) for season in seas_list]"
   ]
  },
  {
   "cell_type": "markdown",
   "metadata": {},
   "source": [
    "#### Make midweek column"
   ]
  },
  {
   "cell_type": "code",
   "execution_count": 238,
   "metadata": {
    "collapsed": false
   },
   "outputs": [],
   "source": [
    "seas_list = [make_midweek_col(season) for season in seas_list]"
   ]
  },
  {
   "cell_type": "markdown",
   "metadata": {},
   "source": [
    "#### Make month column"
   ]
  },
  {
   "cell_type": "code",
   "execution_count": 239,
   "metadata": {
    "collapsed": false
   },
   "outputs": [],
   "source": [
    "for season in seas_list:\n",
    "    season['month'] = season.index.month "
   ]
  },
  {
   "cell_type": "markdown",
   "metadata": {},
   "source": [
    "#### Make monthly dummy variables and drop month column"
   ]
  },
  {
   "cell_type": "code",
   "execution_count": 240,
   "metadata": {
    "collapsed": false
   },
   "outputs": [],
   "source": [
    "seas_list = [pd.concat([season, pd.get_dummies(season.month, prefix='month')], axis=1) for season in seas_list]"
   ]
  },
  {
   "cell_type": "code",
   "execution_count": 241,
   "metadata": {
    "collapsed": false
   },
   "outputs": [],
   "source": [
    "seas_list = [season.drop(['day_1', 'day_2', 'day_3', 'day_of_week', 'month'], axis=1) for season in seas_list]"
   ]
  },
  {
   "cell_type": "markdown",
   "metadata": {},
   "source": [
    "#### Create a 'days since beginning of season' feature"
   ]
  },
  {
   "cell_type": "code",
   "execution_count": 242,
   "metadata": {
    "collapsed": false
   },
   "outputs": [],
   "source": [
    "for count, season in enumerate(seas_list):\n",
    "    row_num = []\n",
    "    for i in range(1,len(seas_list[count])+1):\n",
    "        row_num.append(i)\n",
    "    seas_list[count]['days_since_start'] = row_num"
   ]
  },
  {
   "cell_type": "markdown",
   "metadata": {},
   "source": [
    "#### Make holiday features"
   ]
  },
  {
   "cell_type": "code",
   "execution_count": 243,
   "metadata": {
    "collapsed": false
   },
   "outputs": [],
   "source": [
    "holiday_seas = [0]*5\n",
    "count = 0\n",
    "for season in seas_list:\n",
    "    L = len(season)-1\n",
    "    holiday_seas[count] = get_holiday_list(season.index[0].year, season.index[0].month, season.index[0].day, season.index[L].year, season.index[L].month, season.index[L].day)\n",
    "    count += 1"
   ]
  },
  {
   "cell_type": "code",
   "execution_count": 244,
   "metadata": {
    "collapsed": false
   },
   "outputs": [],
   "source": [
    "vet_day = []\n",
    "thanksgiv = []\n",
    "xmas = []\n",
    "mlk_day = []\n",
    "pres_day = []\n",
    "for i in range(0,len(holiday_seas)):\n",
    "    vet_day, thanksgiv, xmas, mlk_day, pres_day = get_holiday_names(holiday_seas[i], vet_day, thanksgiv, xmas, mlk_day, pres_day)"
   ]
  },
  {
   "cell_type": "code",
   "execution_count": 245,
   "metadata": {
    "collapsed": false
   },
   "outputs": [
    {
     "data": {
      "text/plain": [
       "[Timestamp('2011-11-11 00:00:00'),\n",
       " Timestamp('2012-11-12 00:00:00'),\n",
       " Timestamp('2013-11-11 00:00:00'),\n",
       " Timestamp('2014-11-11 00:00:00'),\n",
       " Timestamp('2015-11-11 00:00:00')]"
      ]
     },
     "execution_count": 245,
     "metadata": {},
     "output_type": "execute_result"
    }
   ],
   "source": [
    "vet_day"
   ]
  },
  {
   "cell_type": "code",
   "execution_count": 246,
   "metadata": {
    "collapsed": false
   },
   "outputs": [],
   "source": [
    "for count, season in enumerate(seas_list):\n",
    "    seas_list[count] = call_make_holiday_columns(season, vet_day[count], thanksgiv[count], xmas[count], mlk_day[count], pres_day[count])"
   ]
  },
  {
   "cell_type": "code",
   "execution_count": 247,
   "metadata": {
    "collapsed": true
   },
   "outputs": [],
   "source": [
    "df_all = pd.concat([seas_list[0], seas_list[1], seas_list[2], seas_list[3], seas_list[4]], axis=0)"
   ]
  },
  {
   "cell_type": "code",
   "execution_count": 248,
   "metadata": {
    "collapsed": false
   },
   "outputs": [],
   "source": [
    "df_all.drop(['away_WP', 'to_WP'], axis=1, inplace=True)"
   ]
  },
  {
   "cell_type": "markdown",
   "metadata": {},
   "source": [
    "### Make spring break column"
   ]
  },
  {
   "cell_type": "code",
   "execution_count": 249,
   "metadata": {
    "collapsed": false,
    "scrolled": true
   },
   "outputs": [],
   "source": [
    "df_all = make_spring_break_col(df_all)"
   ]
  },
  {
   "cell_type": "markdown",
   "metadata": {},
   "source": [
    "#### Create (holiday)(weekend) and (holiday)(fri/mon/weekday) features"
   ]
  },
  {
   "cell_type": "code",
   "execution_count": 250,
   "metadata": {
    "collapsed": false
   },
   "outputs": [],
   "source": [
    "df_all['before_xmas_weekday'] = df_all.midweek*df_all.before_xmas\n",
    "df_all['xmas_weekday'] = df_all.midweek*df_all.xmas\n",
    "df_all['spring_break_weekday'] = df_all.midweek*df_all.spring_break\n",
    "\n",
    "df_all['before_xmas_sat'] = df_all.filter(regex=\"day_5\")*df_all.before_xmas\n",
    "df_all['pres_day_sat'] = df_all.filter(regex=\"day_5\")*df_all.pres_day\n",
    "df_all['xmas_sat'] = df_all.filter(regex=\"day_5\")*df_all.xmas\n",
    "df_all['mlk_sat'] = df_all.filter(regex=\"day_5\")*df_all.mlk_day\n",
    "\n",
    "df_all['before_xmas_sun'] = df_all.filter(regex=\"day_6\")*df_all.before_xmas\n",
    "df_all['pres_day_sun'] = df_all.filter(regex=\"day_6\")*df_all.pres_day\n",
    "df_all['xmas_sun'] = df_all.filter(regex=\"day_6\")*df_all.xmas\n",
    "df_all['mlk_sun'] = df_all.filter(regex=\"day_6\")*df_all.mlk_day\n",
    "\n",
    "df_all['before_xmas_fri'] = df_all.filter(regex=\"day_4\")*df_all.before_xmas\n",
    "df_all['pres_day_fri'] = df_all.filter(regex=\"day_4\")*df_all.pres_day\n",
    "df_all['xmas_fri'] = df_all.filter(regex=\"day_4\")*df_all.xmas\n",
    "df_all['mlk_fri'] = df_all.filter(regex=\"day_4\")*df_all.mlk_day\n",
    "\n",
    "df_all['before_xmas_mon'] = df_all.filter(regex=\"day_0\")*df_all.before_xmas\n",
    "df_all['pres_day_mon'] = df_all.filter(regex=\"day_0\")*df_all.pres_day\n",
    "df_all['xmas_mon'] = df_all.filter(regex=\"day_0\")*df_all.xmas\n",
    "df_all['mlk_mon'] = df_all.filter(regex=\"day_0\")*df_all.mlk_day"
   ]
  },
  {
   "cell_type": "code",
   "execution_count": 251,
   "metadata": {
    "collapsed": true
   },
   "outputs": [],
   "source": [
    "features = list(df_all.columns.values)\n",
    "leave_out = ['skiers', 'open_lifts']\n",
    "features = [f for f in features if f not in leave_out]"
   ]
  },
  {
   "cell_type": "code",
   "execution_count": 252,
   "metadata": {
    "collapsed": false
   },
   "outputs": [],
   "source": [
    "for feat1 in features:\n",
    "    df_all[feat1 + '_open_lifts'] = df_all[feat1]*df_all.open_lifts\n",
    "    df_all[feat1 + '_xmas'] = df_all[feat1]*df_all.xmas\n",
    "    df_all[feat1 + '_spring_break'] = df_all[feat1]*df_all.spring_break\n",
    "    df_all[feat1 + '_midweek'] = df_all[feat1]*df_all.midweek\n",
    "    df_all[feat1 + '_fri'] = df_all[feat1]*df_all.day_4\n",
    "    df_all[feat1 + '_sat'] = df_all[feat1]*df_all.day_5\n",
    "    df_all[feat1 + '_mon'] = df_all[feat1]*df_all.day_0"
   ]
  },
  {
   "cell_type": "code",
   "execution_count": 253,
   "metadata": {
    "collapsed": false
   },
   "outputs": [],
   "source": [
    "features = list(df_all.columns.values)\n",
    "leave_out = ['skiers']\n",
    "drop_feat = []\n",
    "leave_out = []\n",
    "for feat in features:\n",
    "    if len(df_all[feat].unique()) == 1:\n",
    "        drop_feat.append(feat)\n",
    "    elif len(df_all[feat].unique()) == 2:\n",
    "        leave_out.append(feat)"
   ]
  },
  {
   "cell_type": "code",
   "execution_count": 254,
   "metadata": {
    "collapsed": false
   },
   "outputs": [],
   "source": [
    "df_all.drop(drop_feat, inplace=True, axis=1)"
   ]
  },
  {
   "cell_type": "markdown",
   "metadata": {},
   "source": [
    "#### Make squared, cubed, square root, and log features"
   ]
  },
  {
   "cell_type": "code",
   "execution_count": 255,
   "metadata": {
    "collapsed": true
   },
   "outputs": [],
   "source": [
    "def make_squared(df, features):\n",
    "    for feat1 in features:\n",
    "        df[feat1 + '_sq'] = df[feat1]**2\n",
    "        df[feat1 + '_cu'] = df[feat1]**3\n",
    "        df[feat1 + '_sqrt'] = np.sqrt(df[feat1])\n",
    "        df['ln_' + feat1] = np.log(df[feat1])\n",
    "    return df"
   ]
  },
  {
   "cell_type": "code",
   "execution_count": 256,
   "metadata": {
    "collapsed": false
   },
   "outputs": [],
   "source": [
    "features = list(df_all.columns.values)\n",
    "leave_out.append('skiers')\n",
    "features = [f for f in features if f not in leave_out]\n",
    "df_all = make_squared(df_all, features)"
   ]
  },
  {
   "cell_type": "code",
   "execution_count": 257,
   "metadata": {
    "collapsed": false
   },
   "outputs": [
    {
     "data": {
      "text/html": [
       "<div>\n",
       "<table border=\"1\" class=\"dataframe\">\n",
       "  <thead>\n",
       "    <tr style=\"text-align: right;\">\n",
       "      <th></th>\n",
       "      <th>skiers</th>\n",
       "      <th>new_24</th>\n",
       "      <th>basedepth</th>\n",
       "      <th>open_trails</th>\n",
       "      <th>open_lifts</th>\n",
       "      <th>open_percent</th>\n",
       "      <th>tot_snow</th>\n",
       "      <th>week_snow_tot</th>\n",
       "      <th>2day_snow_tot</th>\n",
       "      <th>3day_snow_tot</th>\n",
       "      <th>...</th>\n",
       "      <th>pres_day_mon_open_lifts_sqrt</th>\n",
       "      <th>ln_pres_day_mon_open_lifts</th>\n",
       "      <th>xmas_mon_open_lifts_sq</th>\n",
       "      <th>xmas_mon_open_lifts_cu</th>\n",
       "      <th>xmas_mon_open_lifts_sqrt</th>\n",
       "      <th>ln_xmas_mon_open_lifts</th>\n",
       "      <th>mlk_mon_open_lifts_sq</th>\n",
       "      <th>mlk_mon_open_lifts_cu</th>\n",
       "      <th>mlk_mon_open_lifts_sqrt</th>\n",
       "      <th>ln_mlk_mon_open_lifts</th>\n",
       "    </tr>\n",
       "  </thead>\n",
       "  <tbody>\n",
       "    <tr>\n",
       "      <th>2011-11-13</th>\n",
       "      <td>845</td>\n",
       "      <td>1</td>\n",
       "      <td>18</td>\n",
       "      <td>0</td>\n",
       "      <td>0</td>\n",
       "      <td>0</td>\n",
       "      <td>1</td>\n",
       "      <td>9.1</td>\n",
       "      <td>2.6</td>\n",
       "      <td>3.9</td>\n",
       "      <td>...</td>\n",
       "      <td>0</td>\n",
       "      <td>-inf</td>\n",
       "      <td>0</td>\n",
       "      <td>0</td>\n",
       "      <td>0</td>\n",
       "      <td>-inf</td>\n",
       "      <td>0</td>\n",
       "      <td>0</td>\n",
       "      <td>0</td>\n",
       "      <td>-inf</td>\n",
       "    </tr>\n",
       "    <tr>\n",
       "      <th>2011-11-14</th>\n",
       "      <td>732</td>\n",
       "      <td>1</td>\n",
       "      <td>18</td>\n",
       "      <td>0</td>\n",
       "      <td>0</td>\n",
       "      <td>0</td>\n",
       "      <td>4</td>\n",
       "      <td>9.1</td>\n",
       "      <td>2.0</td>\n",
       "      <td>3.9</td>\n",
       "      <td>...</td>\n",
       "      <td>0</td>\n",
       "      <td>-inf</td>\n",
       "      <td>0</td>\n",
       "      <td>0</td>\n",
       "      <td>0</td>\n",
       "      <td>-inf</td>\n",
       "      <td>0</td>\n",
       "      <td>0</td>\n",
       "      <td>0</td>\n",
       "      <td>-inf</td>\n",
       "    </tr>\n",
       "    <tr>\n",
       "      <th>2011-11-15</th>\n",
       "      <td>997</td>\n",
       "      <td>1</td>\n",
       "      <td>18</td>\n",
       "      <td>0</td>\n",
       "      <td>0</td>\n",
       "      <td>0</td>\n",
       "      <td>4</td>\n",
       "      <td>9.1</td>\n",
       "      <td>2.0</td>\n",
       "      <td>3.0</td>\n",
       "      <td>...</td>\n",
       "      <td>0</td>\n",
       "      <td>-inf</td>\n",
       "      <td>0</td>\n",
       "      <td>0</td>\n",
       "      <td>0</td>\n",
       "      <td>-inf</td>\n",
       "      <td>0</td>\n",
       "      <td>0</td>\n",
       "      <td>0</td>\n",
       "      <td>-inf</td>\n",
       "    </tr>\n",
       "    <tr>\n",
       "      <th>2011-11-16</th>\n",
       "      <td>1110</td>\n",
       "      <td>1</td>\n",
       "      <td>18</td>\n",
       "      <td>0</td>\n",
       "      <td>0</td>\n",
       "      <td>0</td>\n",
       "      <td>5</td>\n",
       "      <td>9.1</td>\n",
       "      <td>2.0</td>\n",
       "      <td>3.0</td>\n",
       "      <td>...</td>\n",
       "      <td>0</td>\n",
       "      <td>-inf</td>\n",
       "      <td>0</td>\n",
       "      <td>0</td>\n",
       "      <td>0</td>\n",
       "      <td>-inf</td>\n",
       "      <td>0</td>\n",
       "      <td>0</td>\n",
       "      <td>0</td>\n",
       "      <td>-inf</td>\n",
       "    </tr>\n",
       "    <tr>\n",
       "      <th>2011-11-17</th>\n",
       "      <td>1136</td>\n",
       "      <td>1</td>\n",
       "      <td>18</td>\n",
       "      <td>0</td>\n",
       "      <td>0</td>\n",
       "      <td>0</td>\n",
       "      <td>6</td>\n",
       "      <td>9.1</td>\n",
       "      <td>2.0</td>\n",
       "      <td>3.0</td>\n",
       "      <td>...</td>\n",
       "      <td>0</td>\n",
       "      <td>-inf</td>\n",
       "      <td>0</td>\n",
       "      <td>0</td>\n",
       "      <td>0</td>\n",
       "      <td>-inf</td>\n",
       "      <td>0</td>\n",
       "      <td>0</td>\n",
       "      <td>0</td>\n",
       "      <td>-inf</td>\n",
       "    </tr>\n",
       "  </tbody>\n",
       "</table>\n",
       "<p>5 rows × 780 columns</p>\n",
       "</div>"
      ],
      "text/plain": [
       "            skiers  new_24  basedepth  open_trails  open_lifts  open_percent  \\\n",
       "2011-11-13     845       1         18            0           0             0   \n",
       "2011-11-14     732       1         18            0           0             0   \n",
       "2011-11-15     997       1         18            0           0             0   \n",
       "2011-11-16    1110       1         18            0           0             0   \n",
       "2011-11-17    1136       1         18            0           0             0   \n",
       "\n",
       "            tot_snow  week_snow_tot  2day_snow_tot  3day_snow_tot  \\\n",
       "2011-11-13         1            9.1            2.6            3.9   \n",
       "2011-11-14         4            9.1            2.0            3.9   \n",
       "2011-11-15         4            9.1            2.0            3.0   \n",
       "2011-11-16         5            9.1            2.0            3.0   \n",
       "2011-11-17         6            9.1            2.0            3.0   \n",
       "\n",
       "                    ...            pres_day_mon_open_lifts_sqrt  \\\n",
       "2011-11-13          ...                                       0   \n",
       "2011-11-14          ...                                       0   \n",
       "2011-11-15          ...                                       0   \n",
       "2011-11-16          ...                                       0   \n",
       "2011-11-17          ...                                       0   \n",
       "\n",
       "            ln_pres_day_mon_open_lifts  xmas_mon_open_lifts_sq  \\\n",
       "2011-11-13                        -inf                       0   \n",
       "2011-11-14                        -inf                       0   \n",
       "2011-11-15                        -inf                       0   \n",
       "2011-11-16                        -inf                       0   \n",
       "2011-11-17                        -inf                       0   \n",
       "\n",
       "            xmas_mon_open_lifts_cu  xmas_mon_open_lifts_sqrt  \\\n",
       "2011-11-13                       0                         0   \n",
       "2011-11-14                       0                         0   \n",
       "2011-11-15                       0                         0   \n",
       "2011-11-16                       0                         0   \n",
       "2011-11-17                       0                         0   \n",
       "\n",
       "            ln_xmas_mon_open_lifts  mlk_mon_open_lifts_sq  \\\n",
       "2011-11-13                    -inf                      0   \n",
       "2011-11-14                    -inf                      0   \n",
       "2011-11-15                    -inf                      0   \n",
       "2011-11-16                    -inf                      0   \n",
       "2011-11-17                    -inf                      0   \n",
       "\n",
       "            mlk_mon_open_lifts_cu  mlk_mon_open_lifts_sqrt  \\\n",
       "2011-11-13                      0                        0   \n",
       "2011-11-14                      0                        0   \n",
       "2011-11-15                      0                        0   \n",
       "2011-11-16                      0                        0   \n",
       "2011-11-17                      0                        0   \n",
       "\n",
       "            ln_mlk_mon_open_lifts  \n",
       "2011-11-13                   -inf  \n",
       "2011-11-14                   -inf  \n",
       "2011-11-15                   -inf  \n",
       "2011-11-16                   -inf  \n",
       "2011-11-17                   -inf  \n",
       "\n",
       "[5 rows x 780 columns]"
      ]
     },
     "execution_count": 257,
     "metadata": {},
     "output_type": "execute_result"
    }
   ],
   "source": [
    "df_all.head()"
   ]
  },
  {
   "cell_type": "code",
   "execution_count": 258,
   "metadata": {
    "collapsed": false
   },
   "outputs": [
    {
     "data": {
      "text/plain": [
       "<matplotlib.axes._subplots.AxesSubplot at 0x10c4399d0>"
      ]
     },
     "execution_count": 258,
     "metadata": {},
     "output_type": "execute_result"
    },
    {
     "data": {
      "image/png": "[encoded data removed]",
      "text/plain": [
       "<matplotlib.figure.Figure at 0x10c4a2610>"
      ]
     },
     "metadata": {},
     "output_type": "display_data"
    }
   ],
   "source": [
    "df_all.open_lifts.plot(linestyle='-', marker='o', xlim = ['2014-11-1 00:00:00', '2015-05-1 00:00:00'])"
   ]
  },
  {
   "cell_type": "markdown",
   "metadata": {},
   "source": [
    "#### Delete January 2-6, 2014 (no traffic data)."
   ]
  },
  {
   "cell_type": "code",
   "execution_count": 259,
   "metadata": {
    "collapsed": false
   },
   "outputs": [],
   "source": [
    "df_all = pd.concat([df_all.ix[datetime.datetime(2011,11,1):datetime.datetime(2015,1,1)],df_all.ix[datetime.datetime(2015,1,7):datetime.datetime(2016,5,1)]], axis=0)"
   ]
  },
  {
   "cell_type": "markdown",
   "metadata": {},
   "source": [
    "# Export Data"
   ]
  },
  {
   "cell_type": "code",
   "execution_count": 260,
   "metadata": {
    "collapsed": false
   },
   "outputs": [],
   "source": [
    "df_all.to_csv('../data_ski_in_solitude/data_with_features/all_feat.csv')"
   ]
  },
  {
   "cell_type": "code",
   "execution_count": null,
   "metadata": {
    "collapsed": true
   },
   "outputs": [],
   "source": []
  }
 ],
 "metadata": {
  "kernelspec": {
   "display_name": "Python 2",
   "language": "python",
   "name": "python2"
  },
  "language_info": {
   "codemirror_mode": {
    "name": "ipython",
    "version": 2
   },
   "file_extension": ".py",
   "mimetype": "text/x-python",
   "name": "python",
   "nbconvert_exporter": "python",
   "pygments_lexer": "ipython2",
   "version": "2.7.10"
  }
 },
 "nbformat": 4,
 "nbformat_minor": 0
}
