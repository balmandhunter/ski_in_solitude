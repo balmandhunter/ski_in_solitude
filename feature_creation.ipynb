{
 "cells": [
  {
   "cell_type": "code",
   "execution_count": 159,
   "metadata": {
    "collapsed": false
   },
   "outputs": [
    {
     "name": "stdout",
     "output_type": "stream",
     "text": [
      "The autoreload extension is already loaded. To reload it, use:\n",
      "  %reload_ext autoreload\n"
     ]
    }
   ],
   "source": [
    "import pandas as pd \n",
    "import numpy as np\n",
    "import matplotlib.pyplot as plt\n",
    "from sklearn import linear_model\n",
    "import datetime\n",
    "import seaborn as sns\n",
    "from pandas.tseries.holiday import USFederalHolidayCalendar\n",
    "from sklearn import linear_model\n",
    "from sklearn.cross_validation import cross_val_predict\n",
    "from sklearn.cross_validation import cross_val_score\n",
    "import time\n",
    "\n",
    "%load_ext autoreload\n",
    "%autoreload 2\n",
    "from functions import *\n",
    "from plots import *\n",
    "\n",
    "%matplotlib inline\n",
    "plt.rcParams['figure.figsize'] = 12, 8  # plotsize "
   ]
  },
  {
   "cell_type": "markdown",
   "metadata": {},
   "source": [
    "# Import Seasonal Data"
   ]
  },
  {
   "cell_type": "code",
   "execution_count": 558,
   "metadata": {
    "collapsed": false
   },
   "outputs": [],
   "source": [
    "df_all = pd.DataFrame.from_csv('../data_ski_in_solitude/combined_data/combined_15_16.csv')"
   ]
  },
  {
   "cell_type": "code",
   "execution_count": 559,
   "metadata": {
    "collapsed": false
   },
   "outputs": [],
   "source": [
    "if type(df_all.day_of_week[0]) != int:\n",
    "    df_all = day_of_week_col(df_all)"
   ]
  },
  {
   "cell_type": "code",
   "execution_count": 560,
   "metadata": {
    "collapsed": false
   },
   "outputs": [
    {
     "data": {
      "text/html": [
       "<div>\n",
       "<table border=\"1\" class=\"dataframe\">\n",
       "  <thead>\n",
       "    <tr style=\"text-align: right;\">\n",
       "      <th></th>\n",
       "      <th>away_WP</th>\n",
       "      <th>to_WP</th>\n",
       "      <th>day_of_week</th>\n",
       "      <th>skiers</th>\n",
       "      <th>new_24</th>\n",
       "      <th>basedepth</th>\n",
       "      <th>open_trails</th>\n",
       "      <th>open_lifts</th>\n",
       "      <th>open_percent</th>\n",
       "      <th>tot_snow</th>\n",
       "      <th>week_snow_tot</th>\n",
       "      <th>2day_snow_tot</th>\n",
       "      <th>3day_snow_tot</th>\n",
       "      <th>4day_snow_tot</th>\n",
       "      <th>5day_snow_tot</th>\n",
       "      <th>6day_snow_tot</th>\n",
       "    </tr>\n",
       "    <tr>\n",
       "      <th>date</th>\n",
       "      <th></th>\n",
       "      <th></th>\n",
       "      <th></th>\n",
       "      <th></th>\n",
       "      <th></th>\n",
       "      <th></th>\n",
       "      <th></th>\n",
       "      <th></th>\n",
       "      <th></th>\n",
       "      <th></th>\n",
       "      <th></th>\n",
       "      <th></th>\n",
       "      <th></th>\n",
       "      <th></th>\n",
       "      <th></th>\n",
       "      <th></th>\n",
       "    </tr>\n",
       "  </thead>\n",
       "  <tbody>\n",
       "    <tr>\n",
       "      <th>2016-04-22</th>\n",
       "      <td>NaN</td>\n",
       "      <td>NaN</td>\n",
       "      <td>4</td>\n",
       "      <td>NaN</td>\n",
       "      <td>1.4</td>\n",
       "      <td>63.5</td>\n",
       "      <td>67.0</td>\n",
       "      <td>6.5</td>\n",
       "      <td>48.5</td>\n",
       "      <td>279.7</td>\n",
       "      <td>9.8</td>\n",
       "      <td>2.8</td>\n",
       "      <td>4.2</td>\n",
       "      <td>5.6</td>\n",
       "      <td>7</td>\n",
       "      <td>8.4</td>\n",
       "    </tr>\n",
       "    <tr>\n",
       "      <th>2016-04-23</th>\n",
       "      <td>NaN</td>\n",
       "      <td>NaN</td>\n",
       "      <td>5</td>\n",
       "      <td>NaN</td>\n",
       "      <td>1.4</td>\n",
       "      <td>76.5</td>\n",
       "      <td>105.5</td>\n",
       "      <td>9.0</td>\n",
       "      <td>74.0</td>\n",
       "      <td>281.1</td>\n",
       "      <td>9.8</td>\n",
       "      <td>2.8</td>\n",
       "      <td>4.2</td>\n",
       "      <td>5.6</td>\n",
       "      <td>7</td>\n",
       "      <td>8.4</td>\n",
       "    </tr>\n",
       "    <tr>\n",
       "      <th>2016-04-24</th>\n",
       "      <td>NaN</td>\n",
       "      <td>NaN</td>\n",
       "      <td>6</td>\n",
       "      <td>NaN</td>\n",
       "      <td>1.4</td>\n",
       "      <td>83.0</td>\n",
       "      <td>104.5</td>\n",
       "      <td>9.0</td>\n",
       "      <td>73.5</td>\n",
       "      <td>282.5</td>\n",
       "      <td>9.8</td>\n",
       "      <td>2.8</td>\n",
       "      <td>4.2</td>\n",
       "      <td>5.6</td>\n",
       "      <td>7</td>\n",
       "      <td>8.4</td>\n",
       "    </tr>\n",
       "    <tr>\n",
       "      <th>2016-04-25</th>\n",
       "      <td>NaN</td>\n",
       "      <td>NaN</td>\n",
       "      <td>0</td>\n",
       "      <td>NaN</td>\n",
       "      <td>1.4</td>\n",
       "      <td>73.5</td>\n",
       "      <td>99.0</td>\n",
       "      <td>9.0</td>\n",
       "      <td>69.5</td>\n",
       "      <td>283.9</td>\n",
       "      <td>9.8</td>\n",
       "      <td>2.8</td>\n",
       "      <td>4.2</td>\n",
       "      <td>5.6</td>\n",
       "      <td>7</td>\n",
       "      <td>8.4</td>\n",
       "    </tr>\n",
       "    <tr>\n",
       "      <th>2016-04-26</th>\n",
       "      <td>NaN</td>\n",
       "      <td>NaN</td>\n",
       "      <td>1</td>\n",
       "      <td>NaN</td>\n",
       "      <td>1.4</td>\n",
       "      <td>74.5</td>\n",
       "      <td>96.0</td>\n",
       "      <td>9.0</td>\n",
       "      <td>67.5</td>\n",
       "      <td>285.3</td>\n",
       "      <td>9.8</td>\n",
       "      <td>2.8</td>\n",
       "      <td>4.2</td>\n",
       "      <td>5.6</td>\n",
       "      <td>7</td>\n",
       "      <td>8.4</td>\n",
       "    </tr>\n",
       "  </tbody>\n",
       "</table>\n",
       "</div>"
      ],
      "text/plain": [
       "            away_WP  to_WP  day_of_week  skiers  new_24  basedepth  \\\n",
       "date                                                                 \n",
       "2016-04-22      NaN    NaN            4     NaN     1.4       63.5   \n",
       "2016-04-23      NaN    NaN            5     NaN     1.4       76.5   \n",
       "2016-04-24      NaN    NaN            6     NaN     1.4       83.0   \n",
       "2016-04-25      NaN    NaN            0     NaN     1.4       73.5   \n",
       "2016-04-26      NaN    NaN            1     NaN     1.4       74.5   \n",
       "\n",
       "            open_trails  open_lifts  open_percent  tot_snow  week_snow_tot  \\\n",
       "date                                                                         \n",
       "2016-04-22         67.0         6.5          48.5     279.7            9.8   \n",
       "2016-04-23        105.5         9.0          74.0     281.1            9.8   \n",
       "2016-04-24        104.5         9.0          73.5     282.5            9.8   \n",
       "2016-04-25         99.0         9.0          69.5     283.9            9.8   \n",
       "2016-04-26         96.0         9.0          67.5     285.3            9.8   \n",
       "\n",
       "            2day_snow_tot  3day_snow_tot  4day_snow_tot  5day_snow_tot  \\\n",
       "date                                                                     \n",
       "2016-04-22            2.8            4.2            5.6              7   \n",
       "2016-04-23            2.8            4.2            5.6              7   \n",
       "2016-04-24            2.8            4.2            5.6              7   \n",
       "2016-04-25            2.8            4.2            5.6              7   \n",
       "2016-04-26            2.8            4.2            5.6              7   \n",
       "\n",
       "            6day_snow_tot  \n",
       "date                       \n",
       "2016-04-22            8.4  \n",
       "2016-04-23            8.4  \n",
       "2016-04-24            8.4  \n",
       "2016-04-25            8.4  \n",
       "2016-04-26            8.4  "
      ]
     },
     "execution_count": 560,
     "metadata": {},
     "output_type": "execute_result"
    }
   ],
   "source": [
    "df_all.tail()"
   ]
  },
  {
   "cell_type": "markdown",
   "metadata": {
    "collapsed": true
   },
   "source": [
    "#### Create a crowd yesterday column"
   ]
  },
  {
   "cell_type": "code",
   "execution_count": 561,
   "metadata": {
    "collapsed": true
   },
   "outputs": [],
   "source": [
    "#df_all['crowd_yest'] = df_all.skiers.shift(1)"
   ]
  },
  {
   "cell_type": "markdown",
   "metadata": {},
   "source": [
    "#### Create dummy variables for days of the week."
   ]
  },
  {
   "cell_type": "code",
   "execution_count": 562,
   "metadata": {
    "collapsed": false
   },
   "outputs": [],
   "source": [
    "df_all = pd.concat([df_all, pd.get_dummies(df_all.day_of_week, prefix='day')], axis=1)"
   ]
  },
  {
   "cell_type": "markdown",
   "metadata": {},
   "source": [
    "#### Make midweek column and delete midweek days of code."
   ]
  },
  {
   "cell_type": "code",
   "execution_count": 563,
   "metadata": {
    "collapsed": false
   },
   "outputs": [],
   "source": [
    "df_all = make_midweek_col(df_all)\n",
    "df_all.drop(['day_1', 'day_2', 'day_3'], axis=1, inplace=True)"
   ]
  },
  {
   "cell_type": "code",
   "execution_count": 564,
   "metadata": {
    "collapsed": false
   },
   "outputs": [
    {
     "data": {
      "text/html": [
       "<div>\n",
       "<table border=\"1\" class=\"dataframe\">\n",
       "  <thead>\n",
       "    <tr style=\"text-align: right;\">\n",
       "      <th></th>\n",
       "      <th>away_WP</th>\n",
       "      <th>to_WP</th>\n",
       "      <th>day_of_week</th>\n",
       "      <th>skiers</th>\n",
       "      <th>new_24</th>\n",
       "      <th>basedepth</th>\n",
       "      <th>open_trails</th>\n",
       "      <th>open_lifts</th>\n",
       "      <th>open_percent</th>\n",
       "      <th>tot_snow</th>\n",
       "      <th>...</th>\n",
       "      <th>2day_snow_tot</th>\n",
       "      <th>3day_snow_tot</th>\n",
       "      <th>4day_snow_tot</th>\n",
       "      <th>5day_snow_tot</th>\n",
       "      <th>6day_snow_tot</th>\n",
       "      <th>day_0</th>\n",
       "      <th>day_4</th>\n",
       "      <th>day_5</th>\n",
       "      <th>day_6</th>\n",
       "      <th>midweek</th>\n",
       "    </tr>\n",
       "    <tr>\n",
       "      <th>date</th>\n",
       "      <th></th>\n",
       "      <th></th>\n",
       "      <th></th>\n",
       "      <th></th>\n",
       "      <th></th>\n",
       "      <th></th>\n",
       "      <th></th>\n",
       "      <th></th>\n",
       "      <th></th>\n",
       "      <th></th>\n",
       "      <th></th>\n",
       "      <th></th>\n",
       "      <th></th>\n",
       "      <th></th>\n",
       "      <th></th>\n",
       "      <th></th>\n",
       "      <th></th>\n",
       "      <th></th>\n",
       "      <th></th>\n",
       "      <th></th>\n",
       "      <th></th>\n",
       "    </tr>\n",
       "  </thead>\n",
       "  <tbody>\n",
       "    <tr>\n",
       "      <th>2015-11-15</th>\n",
       "      <td>NaN</td>\n",
       "      <td>NaN</td>\n",
       "      <td>6</td>\n",
       "      <td>NaN</td>\n",
       "      <td>1.3</td>\n",
       "      <td>18.0</td>\n",
       "      <td>2.50</td>\n",
       "      <td>2.25</td>\n",
       "      <td>2.25</td>\n",
       "      <td>1.3</td>\n",
       "      <td>...</td>\n",
       "      <td>1.3</td>\n",
       "      <td>3.9</td>\n",
       "      <td>5.2</td>\n",
       "      <td>6.5</td>\n",
       "      <td>7.8</td>\n",
       "      <td>0</td>\n",
       "      <td>0</td>\n",
       "      <td>0</td>\n",
       "      <td>1</td>\n",
       "      <td>0</td>\n",
       "    </tr>\n",
       "    <tr>\n",
       "      <th>2015-11-16</th>\n",
       "      <td>NaN</td>\n",
       "      <td>NaN</td>\n",
       "      <td>0</td>\n",
       "      <td>NaN</td>\n",
       "      <td>1.3</td>\n",
       "      <td>18.0</td>\n",
       "      <td>3.00</td>\n",
       "      <td>2.50</td>\n",
       "      <td>2.50</td>\n",
       "      <td>2.6</td>\n",
       "      <td>...</td>\n",
       "      <td>2.6</td>\n",
       "      <td>3.9</td>\n",
       "      <td>5.2</td>\n",
       "      <td>6.5</td>\n",
       "      <td>7.8</td>\n",
       "      <td>1</td>\n",
       "      <td>0</td>\n",
       "      <td>0</td>\n",
       "      <td>0</td>\n",
       "      <td>0</td>\n",
       "    </tr>\n",
       "    <tr>\n",
       "      <th>2015-11-17</th>\n",
       "      <td>NaN</td>\n",
       "      <td>NaN</td>\n",
       "      <td>1</td>\n",
       "      <td>NaN</td>\n",
       "      <td>1.3</td>\n",
       "      <td>19.5</td>\n",
       "      <td>3.25</td>\n",
       "      <td>2.50</td>\n",
       "      <td>2.75</td>\n",
       "      <td>3.9</td>\n",
       "      <td>...</td>\n",
       "      <td>2.6</td>\n",
       "      <td>3.9</td>\n",
       "      <td>5.2</td>\n",
       "      <td>6.5</td>\n",
       "      <td>7.8</td>\n",
       "      <td>0</td>\n",
       "      <td>0</td>\n",
       "      <td>0</td>\n",
       "      <td>0</td>\n",
       "      <td>1</td>\n",
       "    </tr>\n",
       "    <tr>\n",
       "      <th>2015-11-18</th>\n",
       "      <td>NaN</td>\n",
       "      <td>NaN</td>\n",
       "      <td>2</td>\n",
       "      <td>NaN</td>\n",
       "      <td>1.3</td>\n",
       "      <td>18.0</td>\n",
       "      <td>3.75</td>\n",
       "      <td>2.50</td>\n",
       "      <td>2.00</td>\n",
       "      <td>5.2</td>\n",
       "      <td>...</td>\n",
       "      <td>2.6</td>\n",
       "      <td>3.9</td>\n",
       "      <td>5.2</td>\n",
       "      <td>6.5</td>\n",
       "      <td>7.8</td>\n",
       "      <td>0</td>\n",
       "      <td>0</td>\n",
       "      <td>0</td>\n",
       "      <td>0</td>\n",
       "      <td>1</td>\n",
       "    </tr>\n",
       "    <tr>\n",
       "      <th>2015-11-19</th>\n",
       "      <td>NaN</td>\n",
       "      <td>NaN</td>\n",
       "      <td>3</td>\n",
       "      <td>NaN</td>\n",
       "      <td>1.3</td>\n",
       "      <td>18.0</td>\n",
       "      <td>6.60</td>\n",
       "      <td>2.60</td>\n",
       "      <td>2.80</td>\n",
       "      <td>6.5</td>\n",
       "      <td>...</td>\n",
       "      <td>2.6</td>\n",
       "      <td>3.9</td>\n",
       "      <td>5.2</td>\n",
       "      <td>6.5</td>\n",
       "      <td>7.8</td>\n",
       "      <td>0</td>\n",
       "      <td>0</td>\n",
       "      <td>0</td>\n",
       "      <td>0</td>\n",
       "      <td>1</td>\n",
       "    </tr>\n",
       "  </tbody>\n",
       "</table>\n",
       "<p>5 rows × 21 columns</p>\n",
       "</div>"
      ],
      "text/plain": [
       "            away_WP  to_WP  day_of_week  skiers  new_24  basedepth  \\\n",
       "date                                                                 \n",
       "2015-11-15      NaN    NaN            6     NaN     1.3       18.0   \n",
       "2015-11-16      NaN    NaN            0     NaN     1.3       18.0   \n",
       "2015-11-17      NaN    NaN            1     NaN     1.3       19.5   \n",
       "2015-11-18      NaN    NaN            2     NaN     1.3       18.0   \n",
       "2015-11-19      NaN    NaN            3     NaN     1.3       18.0   \n",
       "\n",
       "            open_trails  open_lifts  open_percent  tot_snow   ...     \\\n",
       "date                                                          ...      \n",
       "2015-11-15         2.50        2.25          2.25       1.3   ...      \n",
       "2015-11-16         3.00        2.50          2.50       2.6   ...      \n",
       "2015-11-17         3.25        2.50          2.75       3.9   ...      \n",
       "2015-11-18         3.75        2.50          2.00       5.2   ...      \n",
       "2015-11-19         6.60        2.60          2.80       6.5   ...      \n",
       "\n",
       "            2day_snow_tot  3day_snow_tot  4day_snow_tot  5day_snow_tot  \\\n",
       "date                                                                     \n",
       "2015-11-15            1.3            3.9            5.2            6.5   \n",
       "2015-11-16            2.6            3.9            5.2            6.5   \n",
       "2015-11-17            2.6            3.9            5.2            6.5   \n",
       "2015-11-18            2.6            3.9            5.2            6.5   \n",
       "2015-11-19            2.6            3.9            5.2            6.5   \n",
       "\n",
       "            6day_snow_tot  day_0  day_4  day_5  day_6  midweek  \n",
       "date                                                            \n",
       "2015-11-15            7.8      0      0      0      1        0  \n",
       "2015-11-16            7.8      1      0      0      0        0  \n",
       "2015-11-17            7.8      0      0      0      0        1  \n",
       "2015-11-18            7.8      0      0      0      0        1  \n",
       "2015-11-19            7.8      0      0      0      0        1  \n",
       "\n",
       "[5 rows x 21 columns]"
      ]
     },
     "execution_count": 564,
     "metadata": {},
     "output_type": "execute_result"
    }
   ],
   "source": [
    "df_all.head()"
   ]
  },
  {
   "cell_type": "markdown",
   "metadata": {},
   "source": [
    "### Drop day of week column"
   ]
  },
  {
   "cell_type": "code",
   "execution_count": 565,
   "metadata": {
    "collapsed": false
   },
   "outputs": [],
   "source": [
    "df_all = df_all.drop(['day_of_week'], axis=1)"
   ]
  },
  {
   "cell_type": "markdown",
   "metadata": {},
   "source": [
    "#### Make month column"
   ]
  },
  {
   "cell_type": "code",
   "execution_count": 566,
   "metadata": {
    "collapsed": false
   },
   "outputs": [],
   "source": [
    "df_all['month'] = df_all.index.month"
   ]
  },
  {
   "cell_type": "code",
   "execution_count": 567,
   "metadata": {
    "collapsed": false
   },
   "outputs": [],
   "source": [
    "df_all = pd.concat([df_all, pd.get_dummies(df_all.month, prefix='month')], axis=1)"
   ]
  },
  {
   "cell_type": "code",
   "execution_count": 568,
   "metadata": {
    "collapsed": false
   },
   "outputs": [],
   "source": [
    "df_all.drop(['month'], axis=1, inplace=True)"
   ]
  },
  {
   "cell_type": "markdown",
   "metadata": {},
   "source": [
    "#### Make holiday features"
   ]
  },
  {
   "cell_type": "code",
   "execution_count": 569,
   "metadata": {
    "collapsed": false
   },
   "outputs": [],
   "source": [
    "L = len(df_all)-1\n",
    "holidays = get_holiday_list(df_all.index[0].year, df_all.index[0].month, df_all.index[0].day, df_all.index[L].year, df_all.index[L].month, df_all.index[L].day)"
   ]
  },
  {
   "cell_type": "code",
   "execution_count": 570,
   "metadata": {
    "collapsed": false
   },
   "outputs": [
    {
     "data": {
      "text/plain": [
       "[Timestamp('2015-11-11 00:00:00'),\n",
       " Timestamp('2015-11-26 00:00:00'),\n",
       " Timestamp('2015-12-25 00:00:00'),\n",
       " Timestamp('2016-01-01 00:00:00'),\n",
       " Timestamp('2016-01-18 00:00:00'),\n",
       " Timestamp('2016-02-15 00:00:00')]"
      ]
     },
     "execution_count": 570,
     "metadata": {},
     "output_type": "execute_result"
    }
   ],
   "source": [
    "holidays"
   ]
  },
  {
   "cell_type": "code",
   "execution_count": 571,
   "metadata": {
    "collapsed": false
   },
   "outputs": [],
   "source": [
    "vet_day, thanksgiv, xmas, mlk_day, pres_day = get_holiday_names(holidays)"
   ]
  },
  {
   "cell_type": "code",
   "execution_count": 572,
   "metadata": {
    "collapsed": false
   },
   "outputs": [],
   "source": [
    "df_try = call_make_holiday_columns(df_all, vet_day, thanksgiv, xmas, mlk_day, pres_day)"
   ]
  },
  {
   "cell_type": "markdown",
   "metadata": {},
   "source": [
    "#### Create (holiday)(weekend) and (holiday)(fri/mon/weekday) features"
   ]
  },
  {
   "cell_type": "code",
   "execution_count": 573,
   "metadata": {
    "collapsed": false
   },
   "outputs": [],
   "source": [
    "df_all['xmas_sat'] = df_all.filter(regex=\"day_5\")*df_all.xmas\n",
    "df_all['mlk_sat'] = df_all.filter(regex=\"day_5\")*df_all.mlk_day"
   ]
  },
  {
   "cell_type": "code",
   "execution_count": 574,
   "metadata": {
    "collapsed": true
   },
   "outputs": [],
   "source": [
    "df_all['xmas_sun'] = df_all.filter(regex=\"day_6\")*df_all.xmas\n",
    "df_all['mlk_sun'] = df_all.filter(regex=\"day_6\")*df_all.mlk_day"
   ]
  },
  {
   "cell_type": "code",
   "execution_count": 575,
   "metadata": {
    "collapsed": false
   },
   "outputs": [],
   "source": [
    "df_all['xmas_fri'] = df_all.filter(regex=\"day_4\")*df_all.xmas\n",
    "df_all['mlk_fri'] = df_all.filter(regex=\"day_4\")*df_all.mlk_day"
   ]
  },
  {
   "cell_type": "code",
   "execution_count": 576,
   "metadata": {
    "collapsed": true
   },
   "outputs": [],
   "source": [
    "df_all['xmas_mon'] = df_all.filter(regex=\"day_0\")*df_all.xmas\n",
    "df_all['mlk_mon'] = df_all.filter(regex=\"day_0\")*df_all.mlk_day"
   ]
  },
  {
   "cell_type": "markdown",
   "metadata": {},
   "source": [
    "### Make spring break column"
   ]
  },
  {
   "cell_type": "code",
   "execution_count": 577,
   "metadata": {
    "collapsed": false,
    "scrolled": true
   },
   "outputs": [],
   "source": [
    "df_all = make_spring_break_col(df_all, holidays, 'hol_name')"
   ]
  },
  {
   "cell_type": "code",
   "execution_count": 578,
   "metadata": {
    "collapsed": false
   },
   "outputs": [],
   "source": [
    "df_all = make_spring_trailing_weeks(df_all, holidays, 'hol_name')"
   ]
  },
  {
   "cell_type": "markdown",
   "metadata": {},
   "source": [
    "#### Make squared, cubed, square root, and log features"
   ]
  },
  {
   "cell_type": "code",
   "execution_count": 579,
   "metadata": {
    "collapsed": true
   },
   "outputs": [],
   "source": [
    "def make_squared(df, features):\n",
    "    for feat1 in features:\n",
    "        df[feat1 + '_sq'] = df[feat1]**2\n",
    "        df[feat1 + '_cu'] = df[feat1]**3\n",
    "        df[feat1 + '_sqrt'] = np.sqrt(df[feat1])\n",
    "        #df['ln_' + feat1] = np.log(df[feat1])\n",
    "    return df"
   ]
  },
  {
   "cell_type": "code",
   "execution_count": 580,
   "metadata": {
    "collapsed": false
   },
   "outputs": [],
   "source": [
    "features = list(df_all.columns.values)\n",
    "leave_out = ['skiers', 'away_WP', 'to_WP']\n",
    "features = [f for f in features if f not in leave_out]\n",
    "df_all = make_squared(df_all, features)"
   ]
  },
  {
   "cell_type": "code",
   "execution_count": 581,
   "metadata": {
    "collapsed": false
   },
   "outputs": [
    {
     "data": {
      "text/html": [
       "<div>\n",
       "<table border=\"1\" class=\"dataframe\">\n",
       "  <thead>\n",
       "    <tr style=\"text-align: right;\">\n",
       "      <th></th>\n",
       "      <th>away_WP</th>\n",
       "      <th>to_WP</th>\n",
       "      <th>skiers</th>\n",
       "      <th>new_24</th>\n",
       "      <th>basedepth</th>\n",
       "      <th>open_trails</th>\n",
       "      <th>open_lifts</th>\n",
       "      <th>open_percent</th>\n",
       "      <th>tot_snow</th>\n",
       "      <th>week_snow_tot</th>\n",
       "      <th>...</th>\n",
       "      <th>xmas_mon_sqrt</th>\n",
       "      <th>mlk_mon_sq</th>\n",
       "      <th>mlk_mon_cu</th>\n",
       "      <th>mlk_mon_sqrt</th>\n",
       "      <th>spring_break_sq</th>\n",
       "      <th>spring_break_cu</th>\n",
       "      <th>spring_break_sqrt</th>\n",
       "      <th>spring_break_ends_sq</th>\n",
       "      <th>spring_break_ends_cu</th>\n",
       "      <th>spring_break_ends_sqrt</th>\n",
       "    </tr>\n",
       "    <tr>\n",
       "      <th>date</th>\n",
       "      <th></th>\n",
       "      <th></th>\n",
       "      <th></th>\n",
       "      <th></th>\n",
       "      <th></th>\n",
       "      <th></th>\n",
       "      <th></th>\n",
       "      <th></th>\n",
       "      <th></th>\n",
       "      <th></th>\n",
       "      <th></th>\n",
       "      <th></th>\n",
       "      <th></th>\n",
       "      <th></th>\n",
       "      <th></th>\n",
       "      <th></th>\n",
       "      <th></th>\n",
       "      <th></th>\n",
       "      <th></th>\n",
       "      <th></th>\n",
       "      <th></th>\n",
       "    </tr>\n",
       "  </thead>\n",
       "  <tbody>\n",
       "    <tr>\n",
       "      <th>2015-11-15</th>\n",
       "      <td>NaN</td>\n",
       "      <td>NaN</td>\n",
       "      <td>NaN</td>\n",
       "      <td>1.3</td>\n",
       "      <td>18.0</td>\n",
       "      <td>2.50</td>\n",
       "      <td>2.25</td>\n",
       "      <td>2.25</td>\n",
       "      <td>1.3</td>\n",
       "      <td>9.1</td>\n",
       "      <td>...</td>\n",
       "      <td>0</td>\n",
       "      <td>0</td>\n",
       "      <td>0</td>\n",
       "      <td>0</td>\n",
       "      <td>0</td>\n",
       "      <td>0</td>\n",
       "      <td>0</td>\n",
       "      <td>0</td>\n",
       "      <td>0</td>\n",
       "      <td>0</td>\n",
       "    </tr>\n",
       "    <tr>\n",
       "      <th>2015-11-16</th>\n",
       "      <td>NaN</td>\n",
       "      <td>NaN</td>\n",
       "      <td>NaN</td>\n",
       "      <td>1.3</td>\n",
       "      <td>18.0</td>\n",
       "      <td>3.00</td>\n",
       "      <td>2.50</td>\n",
       "      <td>2.50</td>\n",
       "      <td>2.6</td>\n",
       "      <td>9.1</td>\n",
       "      <td>...</td>\n",
       "      <td>0</td>\n",
       "      <td>0</td>\n",
       "      <td>0</td>\n",
       "      <td>0</td>\n",
       "      <td>0</td>\n",
       "      <td>0</td>\n",
       "      <td>0</td>\n",
       "      <td>0</td>\n",
       "      <td>0</td>\n",
       "      <td>0</td>\n",
       "    </tr>\n",
       "    <tr>\n",
       "      <th>2015-11-17</th>\n",
       "      <td>NaN</td>\n",
       "      <td>NaN</td>\n",
       "      <td>NaN</td>\n",
       "      <td>1.3</td>\n",
       "      <td>19.5</td>\n",
       "      <td>3.25</td>\n",
       "      <td>2.50</td>\n",
       "      <td>2.75</td>\n",
       "      <td>3.9</td>\n",
       "      <td>9.1</td>\n",
       "      <td>...</td>\n",
       "      <td>0</td>\n",
       "      <td>0</td>\n",
       "      <td>0</td>\n",
       "      <td>0</td>\n",
       "      <td>0</td>\n",
       "      <td>0</td>\n",
       "      <td>0</td>\n",
       "      <td>0</td>\n",
       "      <td>0</td>\n",
       "      <td>0</td>\n",
       "    </tr>\n",
       "    <tr>\n",
       "      <th>2015-11-18</th>\n",
       "      <td>NaN</td>\n",
       "      <td>NaN</td>\n",
       "      <td>NaN</td>\n",
       "      <td>1.3</td>\n",
       "      <td>18.0</td>\n",
       "      <td>3.75</td>\n",
       "      <td>2.50</td>\n",
       "      <td>2.00</td>\n",
       "      <td>5.2</td>\n",
       "      <td>9.1</td>\n",
       "      <td>...</td>\n",
       "      <td>0</td>\n",
       "      <td>0</td>\n",
       "      <td>0</td>\n",
       "      <td>0</td>\n",
       "      <td>0</td>\n",
       "      <td>0</td>\n",
       "      <td>0</td>\n",
       "      <td>0</td>\n",
       "      <td>0</td>\n",
       "      <td>0</td>\n",
       "    </tr>\n",
       "    <tr>\n",
       "      <th>2015-11-19</th>\n",
       "      <td>NaN</td>\n",
       "      <td>NaN</td>\n",
       "      <td>NaN</td>\n",
       "      <td>1.3</td>\n",
       "      <td>18.0</td>\n",
       "      <td>6.60</td>\n",
       "      <td>2.60</td>\n",
       "      <td>2.80</td>\n",
       "      <td>6.5</td>\n",
       "      <td>9.1</td>\n",
       "      <td>...</td>\n",
       "      <td>0</td>\n",
       "      <td>0</td>\n",
       "      <td>0</td>\n",
       "      <td>0</td>\n",
       "      <td>0</td>\n",
       "      <td>0</td>\n",
       "      <td>0</td>\n",
       "      <td>0</td>\n",
       "      <td>0</td>\n",
       "      <td>0</td>\n",
       "    </tr>\n",
       "  </tbody>\n",
       "</table>\n",
       "<p>5 rows × 155 columns</p>\n",
       "</div>"
      ],
      "text/plain": [
       "            away_WP  to_WP  skiers  new_24  basedepth  open_trails  \\\n",
       "date                                                                 \n",
       "2015-11-15      NaN    NaN     NaN     1.3       18.0         2.50   \n",
       "2015-11-16      NaN    NaN     NaN     1.3       18.0         3.00   \n",
       "2015-11-17      NaN    NaN     NaN     1.3       19.5         3.25   \n",
       "2015-11-18      NaN    NaN     NaN     1.3       18.0         3.75   \n",
       "2015-11-19      NaN    NaN     NaN     1.3       18.0         6.60   \n",
       "\n",
       "            open_lifts  open_percent  tot_snow  week_snow_tot  \\\n",
       "date                                                            \n",
       "2015-11-15        2.25          2.25       1.3            9.1   \n",
       "2015-11-16        2.50          2.50       2.6            9.1   \n",
       "2015-11-17        2.50          2.75       3.9            9.1   \n",
       "2015-11-18        2.50          2.00       5.2            9.1   \n",
       "2015-11-19        2.60          2.80       6.5            9.1   \n",
       "\n",
       "                     ...            xmas_mon_sqrt  mlk_mon_sq  mlk_mon_cu  \\\n",
       "date                 ...                                                    \n",
       "2015-11-15           ...                        0           0           0   \n",
       "2015-11-16           ...                        0           0           0   \n",
       "2015-11-17           ...                        0           0           0   \n",
       "2015-11-18           ...                        0           0           0   \n",
       "2015-11-19           ...                        0           0           0   \n",
       "\n",
       "            mlk_mon_sqrt  spring_break_sq  spring_break_cu  spring_break_sqrt  \\\n",
       "date                                                                            \n",
       "2015-11-15             0                0                0                  0   \n",
       "2015-11-16             0                0                0                  0   \n",
       "2015-11-17             0                0                0                  0   \n",
       "2015-11-18             0                0                0                  0   \n",
       "2015-11-19             0                0                0                  0   \n",
       "\n",
       "            spring_break_ends_sq  spring_break_ends_cu  spring_break_ends_sqrt  \n",
       "date                                                                            \n",
       "2015-11-15                     0                     0                       0  \n",
       "2015-11-16                     0                     0                       0  \n",
       "2015-11-17                     0                     0                       0  \n",
       "2015-11-18                     0                     0                       0  \n",
       "2015-11-19                     0                     0                       0  \n",
       "\n",
       "[5 rows x 155 columns]"
      ]
     },
     "execution_count": 581,
     "metadata": {},
     "output_type": "execute_result"
    }
   ],
   "source": [
    "df_all.head()"
   ]
  },
  {
   "cell_type": "code",
   "execution_count": 582,
   "metadata": {
    "collapsed": false
   },
   "outputs": [
    {
     "data": {
      "text/plain": [
       "<matplotlib.axes._subplots.AxesSubplot at 0x114b82e10>"
      ]
     },
     "execution_count": 582,
     "metadata": {},
     "output_type": "execute_result"
    },
    {
     "data": {
      "image/png": "[encoded data removed]",
      "text/plain": [
       "<matplotlib.figure.Figure at 0x114b45c90>"
      ]
     },
     "metadata": {},
     "output_type": "display_data"
    }
   ],
   "source": [
    "df_all.tot_snow.plot(linestyle='', marker='o')"
   ]
  },
  {
   "cell_type": "code",
   "execution_count": 583,
   "metadata": {
    "collapsed": false
   },
   "outputs": [
    {
     "data": {
      "text/plain": [
       "<matplotlib.axes._subplots.AxesSubplot at 0x114e6ca50>"
      ]
     },
     "execution_count": 583,
     "metadata": {},
     "output_type": "execute_result"
    },
    {
     "data": {
      "image/png": "[encoded data removed]",
      "text/plain": [
       "<matplotlib.figure.Figure at 0x114e75890>"
      ]
     },
     "metadata": {},
     "output_type": "display_data"
    }
   ],
   "source": [
    "df_all.open_percent.plot(linestyle='', marker='o')"
   ]
  },
  {
   "cell_type": "markdown",
   "metadata": {},
   "source": [
    "# Export Data"
   ]
  },
  {
   "cell_type": "code",
   "execution_count": 584,
   "metadata": {
    "collapsed": false
   },
   "outputs": [],
   "source": [
    "df_all.to_csv('../data_ski_in_solitude/data_with_features/all_15_16_feat.csv')"
   ]
  },
  {
   "cell_type": "code",
   "execution_count": null,
   "metadata": {
    "collapsed": true
   },
   "outputs": [],
   "source": []
  },
  {
   "cell_type": "code",
   "execution_count": null,
   "metadata": {
    "collapsed": true
   },
   "outputs": [],
   "source": []
  },
  {
   "cell_type": "code",
   "execution_count": 587,
   "metadata": {
    "collapsed": true
   },
   "outputs": [],
   "source": [
    "df_11 = pd.DataFrame.from_csv('../data_ski_in_solitude/data_with_features/all_11_12_feat.csv')\n",
    "df_12 = pd.DataFrame.from_csv('../data_ski_in_solitude/data_with_features/all_12_13_feat.csv')\n",
    "df_13 = pd.DataFrame.from_csv('../data_ski_in_solitude/data_with_features/all_13_14_feat.csv')\n",
    "df_14 = pd.DataFrame.from_csv('../data_ski_in_solitude/data_with_features/all_14_15_feat.csv')\n",
    "df_15 = pd.DataFrame.from_csv('../data_ski_in_solitude/data_with_features/all_15_16_feat.csv')"
   ]
  },
  {
   "cell_type": "code",
   "execution_count": 593,
   "metadata": {
    "collapsed": false
   },
   "outputs": [],
   "source": [
    "df_final = pd.concat([df_11, df_12, df_13, df_14, df_15], axis=0)"
   ]
  },
  {
   "cell_type": "code",
   "execution_count": 594,
   "metadata": {
    "collapsed": false
   },
   "outputs": [],
   "source": [
    "df_final.to_csv('../data_ski_in_solitude/data_with_features/all_feat.csv')"
   ]
  },
  {
   "cell_type": "code",
   "execution_count": null,
   "metadata": {
    "collapsed": true
   },
   "outputs": [],
   "source": []
  }
 ],
 "metadata": {
  "kernelspec": {
   "display_name": "Python 2",
   "language": "python",
   "name": "python2"
  },
  "language_info": {
   "codemirror_mode": {
    "name": "ipython",
    "version": 2
   },
   "file_extension": ".py",
   "mimetype": "text/x-python",
   "name": "python",
   "nbconvert_exporter": "python",
   "pygments_lexer": "ipython2",
   "version": "2.7.10"
  }
 },
 "nbformat": 4,
 "nbformat_minor": 0
}
