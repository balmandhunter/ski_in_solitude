{
 "cells": [
  {
   "cell_type": "code",
   "execution_count": 218,
   "metadata": {
    "collapsed": false
   },
   "outputs": [
    {
     "name": "stdout",
     "output_type": "stream",
     "text": [
      "The autoreload extension is already loaded. To reload it, use:\n",
      "  %reload_ext autoreload\n"
     ]
    }
   ],
   "source": [
    "import pandas as pd \n",
    "import numpy as np\n",
    "import matplotlib.pyplot as plt\n",
    "from sklearn import linear_model\n",
    "import datetime\n",
    "import seaborn as sns\n",
    "from pandas.tseries.holiday import USFederalHolidayCalendar\n",
    "from sklearn import linear_model\n",
    "from sklearn.cross_validation import cross_val_predict\n",
    "from sklearn.cross_validation import cross_val_score\n",
    "import time\n",
    "\n",
    "%load_ext autoreload\n",
    "%autoreload 2\n",
    "from functions import *\n",
    "from plots import *\n",
    "\n",
    "%matplotlib inline\n",
    "plt.rcParams['figure.figsize'] = 12, 8  # plotsize "
   ]
  },
  {
   "cell_type": "markdown",
   "metadata": {},
   "source": [
    "# Import Seasonal Data"
   ]
  },
  {
   "cell_type": "code",
   "execution_count": 219,
   "metadata": {
    "collapsed": false
   },
   "outputs": [],
   "source": [
    "df_seas1 = pd.DataFrame.from_csv('../data_ski_in_solitude/combined_data/combined_11_12.csv')\n",
    "df_seas2 = pd.DataFrame.from_csv('../data_ski_in_solitude/combined_data/combined_12_13.csv')\n",
    "df_seas3 = pd.DataFrame.from_csv('../data_ski_in_solitude/combined_data/combined_13_14.csv')\n",
    "df_seas4 = pd.DataFrame.from_csv('../data_ski_in_solitude/combined_data/combined_14_15.csv')\n",
    "df_seas5 = pd.DataFrame.from_csv('../data_ski_in_solitude/combined_data/combined_15_16.csv')"
   ]
  },
  {
   "cell_type": "code",
   "execution_count": 220,
   "metadata": {
    "collapsed": false
   },
   "outputs": [
    {
     "data": {
      "text/html": [
       "<div>\n",
       "<table border=\"1\" class=\"dataframe\">\n",
       "  <thead>\n",
       "    <tr style=\"text-align: right;\">\n",
       "      <th></th>\n",
       "      <th>away_WP</th>\n",
       "      <th>to_WP</th>\n",
       "      <th>day_of_week</th>\n",
       "      <th>skiers</th>\n",
       "      <th>new_24</th>\n",
       "      <th>basedepth</th>\n",
       "      <th>open_trails</th>\n",
       "      <th>open_lifts</th>\n",
       "      <th>open_percent</th>\n",
       "      <th>tot_snow</th>\n",
       "      <th>week_snow_tot</th>\n",
       "      <th>2day_snow_tot</th>\n",
       "      <th>3day_snow_tot</th>\n",
       "      <th>4day_snow_tot</th>\n",
       "      <th>5day_snow_tot</th>\n",
       "      <th>6day_snow_tot</th>\n",
       "    </tr>\n",
       "    <tr>\n",
       "      <th>date</th>\n",
       "      <th></th>\n",
       "      <th></th>\n",
       "      <th></th>\n",
       "      <th></th>\n",
       "      <th></th>\n",
       "      <th></th>\n",
       "      <th></th>\n",
       "      <th></th>\n",
       "      <th></th>\n",
       "      <th></th>\n",
       "      <th></th>\n",
       "      <th></th>\n",
       "      <th></th>\n",
       "      <th></th>\n",
       "      <th></th>\n",
       "      <th></th>\n",
       "    </tr>\n",
       "  </thead>\n",
       "  <tbody>\n",
       "    <tr>\n",
       "      <th>2016-04-22</th>\n",
       "      <td>NaN</td>\n",
       "      <td>NaN</td>\n",
       "      <td>NaN</td>\n",
       "      <td>NaN</td>\n",
       "      <td>1.4</td>\n",
       "      <td>63.5</td>\n",
       "      <td>67.0</td>\n",
       "      <td>6.5</td>\n",
       "      <td>48.5</td>\n",
       "      <td>279.7</td>\n",
       "      <td>9.8</td>\n",
       "      <td>2.8</td>\n",
       "      <td>4.2</td>\n",
       "      <td>5.6</td>\n",
       "      <td>7</td>\n",
       "      <td>8.4</td>\n",
       "    </tr>\n",
       "    <tr>\n",
       "      <th>2016-04-23</th>\n",
       "      <td>NaN</td>\n",
       "      <td>NaN</td>\n",
       "      <td>NaN</td>\n",
       "      <td>NaN</td>\n",
       "      <td>1.4</td>\n",
       "      <td>76.5</td>\n",
       "      <td>105.5</td>\n",
       "      <td>9.0</td>\n",
       "      <td>74.0</td>\n",
       "      <td>281.1</td>\n",
       "      <td>9.8</td>\n",
       "      <td>2.8</td>\n",
       "      <td>4.2</td>\n",
       "      <td>5.6</td>\n",
       "      <td>7</td>\n",
       "      <td>8.4</td>\n",
       "    </tr>\n",
       "    <tr>\n",
       "      <th>2016-04-24</th>\n",
       "      <td>NaN</td>\n",
       "      <td>NaN</td>\n",
       "      <td>NaN</td>\n",
       "      <td>NaN</td>\n",
       "      <td>1.4</td>\n",
       "      <td>83.0</td>\n",
       "      <td>104.5</td>\n",
       "      <td>9.0</td>\n",
       "      <td>73.5</td>\n",
       "      <td>282.5</td>\n",
       "      <td>9.8</td>\n",
       "      <td>2.8</td>\n",
       "      <td>4.2</td>\n",
       "      <td>5.6</td>\n",
       "      <td>7</td>\n",
       "      <td>8.4</td>\n",
       "    </tr>\n",
       "    <tr>\n",
       "      <th>2016-04-25</th>\n",
       "      <td>NaN</td>\n",
       "      <td>NaN</td>\n",
       "      <td>NaN</td>\n",
       "      <td>NaN</td>\n",
       "      <td>1.4</td>\n",
       "      <td>73.5</td>\n",
       "      <td>99.0</td>\n",
       "      <td>9.0</td>\n",
       "      <td>69.5</td>\n",
       "      <td>283.9</td>\n",
       "      <td>9.8</td>\n",
       "      <td>2.8</td>\n",
       "      <td>4.2</td>\n",
       "      <td>5.6</td>\n",
       "      <td>7</td>\n",
       "      <td>8.4</td>\n",
       "    </tr>\n",
       "    <tr>\n",
       "      <th>2016-04-26</th>\n",
       "      <td>NaN</td>\n",
       "      <td>NaN</td>\n",
       "      <td>NaN</td>\n",
       "      <td>NaN</td>\n",
       "      <td>1.4</td>\n",
       "      <td>74.5</td>\n",
       "      <td>96.0</td>\n",
       "      <td>9.0</td>\n",
       "      <td>67.5</td>\n",
       "      <td>285.3</td>\n",
       "      <td>9.8</td>\n",
       "      <td>2.8</td>\n",
       "      <td>4.2</td>\n",
       "      <td>5.6</td>\n",
       "      <td>7</td>\n",
       "      <td>8.4</td>\n",
       "    </tr>\n",
       "  </tbody>\n",
       "</table>\n",
       "</div>"
      ],
      "text/plain": [
       "            away_WP  to_WP  day_of_week  skiers  new_24  basedepth  \\\n",
       "date                                                                 \n",
       "2016-04-22      NaN    NaN          NaN     NaN     1.4       63.5   \n",
       "2016-04-23      NaN    NaN          NaN     NaN     1.4       76.5   \n",
       "2016-04-24      NaN    NaN          NaN     NaN     1.4       83.0   \n",
       "2016-04-25      NaN    NaN          NaN     NaN     1.4       73.5   \n",
       "2016-04-26      NaN    NaN          NaN     NaN     1.4       74.5   \n",
       "\n",
       "            open_trails  open_lifts  open_percent  tot_snow  week_snow_tot  \\\n",
       "date                                                                         \n",
       "2016-04-22         67.0         6.5          48.5     279.7            9.8   \n",
       "2016-04-23        105.5         9.0          74.0     281.1            9.8   \n",
       "2016-04-24        104.5         9.0          73.5     282.5            9.8   \n",
       "2016-04-25         99.0         9.0          69.5     283.9            9.8   \n",
       "2016-04-26         96.0         9.0          67.5     285.3            9.8   \n",
       "\n",
       "            2day_snow_tot  3day_snow_tot  4day_snow_tot  5day_snow_tot  \\\n",
       "date                                                                     \n",
       "2016-04-22            2.8            4.2            5.6              7   \n",
       "2016-04-23            2.8            4.2            5.6              7   \n",
       "2016-04-24            2.8            4.2            5.6              7   \n",
       "2016-04-25            2.8            4.2            5.6              7   \n",
       "2016-04-26            2.8            4.2            5.6              7   \n",
       "\n",
       "            6day_snow_tot  \n",
       "date                       \n",
       "2016-04-22            8.4  \n",
       "2016-04-23            8.4  \n",
       "2016-04-24            8.4  \n",
       "2016-04-25            8.4  \n",
       "2016-04-26            8.4  "
      ]
     },
     "execution_count": 220,
     "metadata": {},
     "output_type": "execute_result"
    }
   ],
   "source": [
    "df_seas5.tail()"
   ]
  },
  {
   "cell_type": "code",
   "execution_count": 221,
   "metadata": {
    "collapsed": true
   },
   "outputs": [],
   "source": [
    "seas_list = [df_seas1, df_seas2, df_seas3, df_seas4, df_seas5]"
   ]
  },
  {
   "cell_type": "code",
   "execution_count": 222,
   "metadata": {
    "collapsed": false
   },
   "outputs": [],
   "source": [
    "for season in seas_list:\n",
    "    if type(season.day_of_week) != int:\n",
    "        season_list = day_of_week_col(season)"
   ]
  },
  {
   "cell_type": "code",
   "execution_count": 223,
   "metadata": {
    "collapsed": false
   },
   "outputs": [
    {
     "data": {
      "text/html": [
       "<div>\n",
       "<table border=\"1\" class=\"dataframe\">\n",
       "  <thead>\n",
       "    <tr style=\"text-align: right;\">\n",
       "      <th></th>\n",
       "      <th>away_WP</th>\n",
       "      <th>to_WP</th>\n",
       "      <th>day_of_week</th>\n",
       "      <th>skiers</th>\n",
       "      <th>new_24</th>\n",
       "      <th>basedepth</th>\n",
       "      <th>open_trails</th>\n",
       "      <th>open_lifts</th>\n",
       "      <th>open_percent</th>\n",
       "      <th>tot_snow</th>\n",
       "      <th>week_snow_tot</th>\n",
       "      <th>2day_snow_tot</th>\n",
       "      <th>3day_snow_tot</th>\n",
       "      <th>4day_snow_tot</th>\n",
       "      <th>5day_snow_tot</th>\n",
       "      <th>6day_snow_tot</th>\n",
       "    </tr>\n",
       "    <tr>\n",
       "      <th>date</th>\n",
       "      <th></th>\n",
       "      <th></th>\n",
       "      <th></th>\n",
       "      <th></th>\n",
       "      <th></th>\n",
       "      <th></th>\n",
       "      <th></th>\n",
       "      <th></th>\n",
       "      <th></th>\n",
       "      <th></th>\n",
       "      <th></th>\n",
       "      <th></th>\n",
       "      <th></th>\n",
       "      <th></th>\n",
       "      <th></th>\n",
       "      <th></th>\n",
       "    </tr>\n",
       "  </thead>\n",
       "  <tbody>\n",
       "    <tr>\n",
       "      <th>2016-04-22</th>\n",
       "      <td>NaN</td>\n",
       "      <td>NaN</td>\n",
       "      <td>4</td>\n",
       "      <td>NaN</td>\n",
       "      <td>1.4</td>\n",
       "      <td>63.5</td>\n",
       "      <td>67.0</td>\n",
       "      <td>6.5</td>\n",
       "      <td>48.5</td>\n",
       "      <td>279.7</td>\n",
       "      <td>9.8</td>\n",
       "      <td>2.8</td>\n",
       "      <td>4.2</td>\n",
       "      <td>5.6</td>\n",
       "      <td>7</td>\n",
       "      <td>8.4</td>\n",
       "    </tr>\n",
       "    <tr>\n",
       "      <th>2016-04-23</th>\n",
       "      <td>NaN</td>\n",
       "      <td>NaN</td>\n",
       "      <td>5</td>\n",
       "      <td>NaN</td>\n",
       "      <td>1.4</td>\n",
       "      <td>76.5</td>\n",
       "      <td>105.5</td>\n",
       "      <td>9.0</td>\n",
       "      <td>74.0</td>\n",
       "      <td>281.1</td>\n",
       "      <td>9.8</td>\n",
       "      <td>2.8</td>\n",
       "      <td>4.2</td>\n",
       "      <td>5.6</td>\n",
       "      <td>7</td>\n",
       "      <td>8.4</td>\n",
       "    </tr>\n",
       "    <tr>\n",
       "      <th>2016-04-24</th>\n",
       "      <td>NaN</td>\n",
       "      <td>NaN</td>\n",
       "      <td>6</td>\n",
       "      <td>NaN</td>\n",
       "      <td>1.4</td>\n",
       "      <td>83.0</td>\n",
       "      <td>104.5</td>\n",
       "      <td>9.0</td>\n",
       "      <td>73.5</td>\n",
       "      <td>282.5</td>\n",
       "      <td>9.8</td>\n",
       "      <td>2.8</td>\n",
       "      <td>4.2</td>\n",
       "      <td>5.6</td>\n",
       "      <td>7</td>\n",
       "      <td>8.4</td>\n",
       "    </tr>\n",
       "    <tr>\n",
       "      <th>2016-04-25</th>\n",
       "      <td>NaN</td>\n",
       "      <td>NaN</td>\n",
       "      <td>0</td>\n",
       "      <td>NaN</td>\n",
       "      <td>1.4</td>\n",
       "      <td>73.5</td>\n",
       "      <td>99.0</td>\n",
       "      <td>9.0</td>\n",
       "      <td>69.5</td>\n",
       "      <td>283.9</td>\n",
       "      <td>9.8</td>\n",
       "      <td>2.8</td>\n",
       "      <td>4.2</td>\n",
       "      <td>5.6</td>\n",
       "      <td>7</td>\n",
       "      <td>8.4</td>\n",
       "    </tr>\n",
       "    <tr>\n",
       "      <th>2016-04-26</th>\n",
       "      <td>NaN</td>\n",
       "      <td>NaN</td>\n",
       "      <td>1</td>\n",
       "      <td>NaN</td>\n",
       "      <td>1.4</td>\n",
       "      <td>74.5</td>\n",
       "      <td>96.0</td>\n",
       "      <td>9.0</td>\n",
       "      <td>67.5</td>\n",
       "      <td>285.3</td>\n",
       "      <td>9.8</td>\n",
       "      <td>2.8</td>\n",
       "      <td>4.2</td>\n",
       "      <td>5.6</td>\n",
       "      <td>7</td>\n",
       "      <td>8.4</td>\n",
       "    </tr>\n",
       "  </tbody>\n",
       "</table>\n",
       "</div>"
      ],
      "text/plain": [
       "            away_WP  to_WP  day_of_week  skiers  new_24  basedepth  \\\n",
       "date                                                                 \n",
       "2016-04-22      NaN    NaN            4     NaN     1.4       63.5   \n",
       "2016-04-23      NaN    NaN            5     NaN     1.4       76.5   \n",
       "2016-04-24      NaN    NaN            6     NaN     1.4       83.0   \n",
       "2016-04-25      NaN    NaN            0     NaN     1.4       73.5   \n",
       "2016-04-26      NaN    NaN            1     NaN     1.4       74.5   \n",
       "\n",
       "            open_trails  open_lifts  open_percent  tot_snow  week_snow_tot  \\\n",
       "date                                                                         \n",
       "2016-04-22         67.0         6.5          48.5     279.7            9.8   \n",
       "2016-04-23        105.5         9.0          74.0     281.1            9.8   \n",
       "2016-04-24        104.5         9.0          73.5     282.5            9.8   \n",
       "2016-04-25         99.0         9.0          69.5     283.9            9.8   \n",
       "2016-04-26         96.0         9.0          67.5     285.3            9.8   \n",
       "\n",
       "            2day_snow_tot  3day_snow_tot  4day_snow_tot  5day_snow_tot  \\\n",
       "date                                                                     \n",
       "2016-04-22            2.8            4.2            5.6              7   \n",
       "2016-04-23            2.8            4.2            5.6              7   \n",
       "2016-04-24            2.8            4.2            5.6              7   \n",
       "2016-04-25            2.8            4.2            5.6              7   \n",
       "2016-04-26            2.8            4.2            5.6              7   \n",
       "\n",
       "            6day_snow_tot  \n",
       "date                       \n",
       "2016-04-22            8.4  \n",
       "2016-04-23            8.4  \n",
       "2016-04-24            8.4  \n",
       "2016-04-25            8.4  \n",
       "2016-04-26            8.4  "
      ]
     },
     "execution_count": 223,
     "metadata": {},
     "output_type": "execute_result"
    }
   ],
   "source": [
    "df_seas5.tail()"
   ]
  },
  {
   "cell_type": "markdown",
   "metadata": {},
   "source": [
    "#### Create dummy variables for days of the week."
   ]
  },
  {
   "cell_type": "code",
   "execution_count": 224,
   "metadata": {
    "collapsed": false
   },
   "outputs": [],
   "source": [
    "seas_list = [pd.concat([season,  pd.get_dummies(season.day_of_week, prefix='day')], axis=1) for season in seas_list]"
   ]
  },
  {
   "cell_type": "markdown",
   "metadata": {},
   "source": [
    "#### Make midweek column"
   ]
  },
  {
   "cell_type": "code",
   "execution_count": 225,
   "metadata": {
    "collapsed": false
   },
   "outputs": [],
   "source": [
    "seas_list = [make_midweek_col(season) for season in seas_list]"
   ]
  },
  {
   "cell_type": "markdown",
   "metadata": {},
   "source": [
    "#### Make month column"
   ]
  },
  {
   "cell_type": "code",
   "execution_count": 226,
   "metadata": {
    "collapsed": false
   },
   "outputs": [],
   "source": [
    "for season in seas_list:\n",
    "    season['month'] = season.index.month "
   ]
  },
  {
   "cell_type": "markdown",
   "metadata": {},
   "source": [
    "#### Make monthly dummy variables and drop month column"
   ]
  },
  {
   "cell_type": "code",
   "execution_count": 227,
   "metadata": {
    "collapsed": false
   },
   "outputs": [],
   "source": [
    "seas_list = [pd.concat([season, pd.get_dummies(season.month, prefix='month')], axis=1) for season in seas_list]"
   ]
  },
  {
   "cell_type": "code",
   "execution_count": 228,
   "metadata": {
    "collapsed": false
   },
   "outputs": [],
   "source": [
    "seas_list = [season.drop(['day_1', 'day_2', 'day_3', 'day_of_week', 'month'], axis=1) for season in seas_list]"
   ]
  },
  {
   "cell_type": "markdown",
   "metadata": {},
   "source": [
    "#### Create a 'days since beginning of season' feature"
   ]
  },
  {
   "cell_type": "code",
   "execution_count": 229,
   "metadata": {
    "collapsed": false
   },
   "outputs": [],
   "source": [
    "for count, season in enumerate(seas_list):\n",
    "    row_num = []\n",
    "    for i in range(1,len(seas_list[count])+1):\n",
    "        row_num.append(i)\n",
    "    seas_list[count]['days_since_start'] = row_num"
   ]
  },
  {
   "cell_type": "markdown",
   "metadata": {},
   "source": [
    "#### Make holiday features"
   ]
  },
  {
   "cell_type": "code",
   "execution_count": 230,
   "metadata": {
    "collapsed": false
   },
   "outputs": [],
   "source": [
    "holiday_seas = [0]*5\n",
    "count = 0\n",
    "for season in seas_list:\n",
    "    L = len(season)-1\n",
    "    holiday_seas[count] = get_holiday_list(season.index[0].year, season.index[0].month, season.index[0].day, season.index[L].year, season.index[L].month, season.index[L].day)\n",
    "    count += 1"
   ]
  },
  {
   "cell_type": "code",
   "execution_count": 231,
   "metadata": {
    "collapsed": false
   },
   "outputs": [],
   "source": [
    "vet_day = []\n",
    "thanksgiv = []\n",
    "xmas = []\n",
    "mlk_day = []\n",
    "pres_day = []\n",
    "for i in range(0,len(holiday_seas)):\n",
    "    vet_day, thanksgiv, xmas, mlk_day, pres_day = get_holiday_names(holiday_seas[i], vet_day, thanksgiv, xmas, mlk_day, pres_day)"
   ]
  },
  {
   "cell_type": "code",
   "execution_count": 232,
   "metadata": {
    "collapsed": false
   },
   "outputs": [
    {
     "data": {
      "text/plain": [
       "[Timestamp('2011-11-11 00:00:00'),\n",
       " Timestamp('2012-11-12 00:00:00'),\n",
       " Timestamp('2013-11-11 00:00:00'),\n",
       " Timestamp('2014-11-11 00:00:00'),\n",
       " Timestamp('2015-11-11 00:00:00')]"
      ]
     },
     "execution_count": 232,
     "metadata": {},
     "output_type": "execute_result"
    }
   ],
   "source": [
    "vet_day"
   ]
  },
  {
   "cell_type": "code",
   "execution_count": 233,
   "metadata": {
    "collapsed": false
   },
   "outputs": [],
   "source": [
    "for count, season in enumerate(seas_list):\n",
    "    seas_list[count] = call_make_holiday_columns(season, vet_day[count], thanksgiv[count], xmas[count], mlk_day[count], pres_day[count])"
   ]
  },
  {
   "cell_type": "code",
   "execution_count": 234,
   "metadata": {
    "collapsed": true
   },
   "outputs": [],
   "source": [
    "df_all = pd.concat([seas_list[0], seas_list[1], seas_list[2], seas_list[3], seas_list[4]], axis=0)"
   ]
  },
  {
   "cell_type": "markdown",
   "metadata": {},
   "source": [
    "#### Create (holiday)(weekend) and (holiday)(fri/mon/weekday) features"
   ]
  },
  {
   "cell_type": "code",
   "execution_count": 235,
   "metadata": {
    "collapsed": false
   },
   "outputs": [],
   "source": [
    "df_all['before_xmas_sat'] = df_all.filter(regex=\"day_5\")*df_all.before_xmas\n",
    "df_all['pres_day_sat'] = df_all.filter(regex=\"day_5\")*df_all.pres_day\n",
    "df_all['xmas_sat'] = df_all.filter(regex=\"day_5\")*df_all.xmas\n",
    "df_all['mlk_sat'] = df_all.filter(regex=\"day_5\")*df_all.mlk_day\n",
    "\n",
    "df_all['before_xmas_sun'] = df_all.filter(regex=\"day_6\")*df_all.before_xmas\n",
    "df_all['pres_day_sun'] = df_all.filter(regex=\"day_6\")*df_all.pres_day\n",
    "df_all['xmas_sun'] = df_all.filter(regex=\"day_6\")*df_all.xmas\n",
    "df_all['mlk_sun'] = df_all.filter(regex=\"day_6\")*df_all.mlk_day\n",
    "\n",
    "df_all['before_xmas_fri'] = df_all.filter(regex=\"day_4\")*df_all.before_xmas\n",
    "df_all['pres_day_fri'] = df_all.filter(regex=\"day_4\")*df_all.pres_day\n",
    "df_all['xmas_fri'] = df_all.filter(regex=\"day_4\")*df_all.xmas\n",
    "df_all['mlk_fri'] = df_all.filter(regex=\"day_4\")*df_all.mlk_day\n",
    "\n",
    "df_all['before_xmas_mon'] = df_all.filter(regex=\"day_0\")*df_all.before_xmas\n",
    "df_all['pres_day_mon'] = df_all.filter(regex=\"day_0\")*df_all.pres_day\n",
    "df_all['xmas_mon'] = df_all.filter(regex=\"day_0\")*df_all.xmas\n",
    "df_all['mlk_mon'] = df_all.filter(regex=\"day_0\")*df_all.mlk_day"
   ]
  },
  {
   "cell_type": "markdown",
   "metadata": {},
   "source": [
    "### Make spring break column"
   ]
  },
  {
   "cell_type": "code",
   "execution_count": 236,
   "metadata": {
    "collapsed": false,
    "scrolled": true
   },
   "outputs": [],
   "source": [
    "df_all = make_spring_break_col(df_all)"
   ]
  },
  {
   "cell_type": "markdown",
   "metadata": {},
   "source": [
    "#### Make squared, cubed, square root, and log features"
   ]
  },
  {
   "cell_type": "code",
   "execution_count": 237,
   "metadata": {
    "collapsed": true
   },
   "outputs": [],
   "source": [
    "def make_squared(df, features):\n",
    "    for feat1 in features:\n",
    "        df[feat1 + '_sq'] = df[feat1]**2\n",
    "        df[feat1 + '_cu'] = df[feat1]**3\n",
    "        df[feat1 + '_sqrt'] = np.sqrt(df[feat1])\n",
    "        df['ln_' + feat1] = np.log(df[feat1])\n",
    "    return df"
   ]
  },
  {
   "cell_type": "code",
   "execution_count": 238,
   "metadata": {
    "collapsed": false
   },
   "outputs": [],
   "source": [
    "features = list(df_all.columns.values)\n",
    "leave_out = ['skiers', 'away_WP', 'to_WP', 'day_0', 'day_4', 'day_5', 'day_6', 'midweek', 'month_1', 'month_2',\n",
    "             'month_3', 'month_4', 'month_11', 'month_12', 'vet_day', 'thanksgiv', 'xmas', 'mlk_day', 'pres_day',\n",
    "             'xmas_sat', 'mlk_sat', 'xmas_sun', 'mlk_sun', 'xmas_fri', 'mlk_fri', 'xmas_mon', 'mlk_mon', 'spring_break', \n",
    "             'before_xmas', 'before_xmas_sat', 'pres_say_sat', 'before_xmas_sun', 'pres_say_sun', 'before_xmas_fri',\n",
    "             'pres_say_fri', 'before_xmas_mon', 'pres_say_mon']\n",
    "features = [f for f in features if f not in leave_out]\n",
    "df_all = make_squared(df_all, features)"
   ]
  },
  {
   "cell_type": "code",
   "execution_count": 239,
   "metadata": {
    "collapsed": false
   },
   "outputs": [
    {
     "data": {
      "text/html": [
       "<div>\n",
       "<table border=\"1\" class=\"dataframe\">\n",
       "  <thead>\n",
       "    <tr style=\"text-align: right;\">\n",
       "      <th></th>\n",
       "      <th>away_WP</th>\n",
       "      <th>to_WP</th>\n",
       "      <th>skiers</th>\n",
       "      <th>new_24</th>\n",
       "      <th>basedepth</th>\n",
       "      <th>open_trails</th>\n",
       "      <th>open_lifts</th>\n",
       "      <th>open_percent</th>\n",
       "      <th>tot_snow</th>\n",
       "      <th>week_snow_tot</th>\n",
       "      <th>...</th>\n",
       "      <th>pres_day_sun_sqrt</th>\n",
       "      <th>ln_pres_day_sun</th>\n",
       "      <th>pres_day_fri_sq</th>\n",
       "      <th>pres_day_fri_cu</th>\n",
       "      <th>pres_day_fri_sqrt</th>\n",
       "      <th>ln_pres_day_fri</th>\n",
       "      <th>pres_day_mon_sq</th>\n",
       "      <th>pres_day_mon_cu</th>\n",
       "      <th>pres_day_mon_sqrt</th>\n",
       "      <th>ln_pres_day_mon</th>\n",
       "    </tr>\n",
       "  </thead>\n",
       "  <tbody>\n",
       "    <tr>\n",
       "      <th>2011-11-13</th>\n",
       "      <td>2882</td>\n",
       "      <td>1371</td>\n",
       "      <td>44</td>\n",
       "      <td>1</td>\n",
       "      <td>18</td>\n",
       "      <td>0</td>\n",
       "      <td>0</td>\n",
       "      <td>0</td>\n",
       "      <td>1</td>\n",
       "      <td>9.1</td>\n",
       "      <td>...</td>\n",
       "      <td>0</td>\n",
       "      <td>-inf</td>\n",
       "      <td>0</td>\n",
       "      <td>0</td>\n",
       "      <td>0</td>\n",
       "      <td>-inf</td>\n",
       "      <td>0</td>\n",
       "      <td>0</td>\n",
       "      <td>0</td>\n",
       "      <td>-inf</td>\n",
       "    </tr>\n",
       "    <tr>\n",
       "      <th>2011-11-14</th>\n",
       "      <td>1720</td>\n",
       "      <td>1607</td>\n",
       "      <td>-1467</td>\n",
       "      <td>1</td>\n",
       "      <td>18</td>\n",
       "      <td>0</td>\n",
       "      <td>0</td>\n",
       "      <td>0</td>\n",
       "      <td>4</td>\n",
       "      <td>9.1</td>\n",
       "      <td>...</td>\n",
       "      <td>0</td>\n",
       "      <td>-inf</td>\n",
       "      <td>0</td>\n",
       "      <td>0</td>\n",
       "      <td>0</td>\n",
       "      <td>-inf</td>\n",
       "      <td>0</td>\n",
       "      <td>0</td>\n",
       "      <td>0</td>\n",
       "      <td>-inf</td>\n",
       "    </tr>\n",
       "    <tr>\n",
       "      <th>2011-11-15</th>\n",
       "      <td>1539</td>\n",
       "      <td>1804</td>\n",
       "      <td>-1580</td>\n",
       "      <td>1</td>\n",
       "      <td>18</td>\n",
       "      <td>0</td>\n",
       "      <td>0</td>\n",
       "      <td>0</td>\n",
       "      <td>4</td>\n",
       "      <td>9.1</td>\n",
       "      <td>...</td>\n",
       "      <td>0</td>\n",
       "      <td>-inf</td>\n",
       "      <td>0</td>\n",
       "      <td>0</td>\n",
       "      <td>0</td>\n",
       "      <td>-inf</td>\n",
       "      <td>0</td>\n",
       "      <td>0</td>\n",
       "      <td>0</td>\n",
       "      <td>-inf</td>\n",
       "    </tr>\n",
       "    <tr>\n",
       "      <th>2011-11-16</th>\n",
       "      <td>1695</td>\n",
       "      <td>1808</td>\n",
       "      <td>-1315</td>\n",
       "      <td>1</td>\n",
       "      <td>18</td>\n",
       "      <td>0</td>\n",
       "      <td>0</td>\n",
       "      <td>0</td>\n",
       "      <td>5</td>\n",
       "      <td>9.1</td>\n",
       "      <td>...</td>\n",
       "      <td>0</td>\n",
       "      <td>-inf</td>\n",
       "      <td>0</td>\n",
       "      <td>0</td>\n",
       "      <td>0</td>\n",
       "      <td>-inf</td>\n",
       "      <td>0</td>\n",
       "      <td>0</td>\n",
       "      <td>0</td>\n",
       "      <td>-inf</td>\n",
       "    </tr>\n",
       "    <tr>\n",
       "      <th>2011-11-17</th>\n",
       "      <td>1890</td>\n",
       "      <td>1916</td>\n",
       "      <td>-1202</td>\n",
       "      <td>1</td>\n",
       "      <td>18</td>\n",
       "      <td>0</td>\n",
       "      <td>0</td>\n",
       "      <td>0</td>\n",
       "      <td>6</td>\n",
       "      <td>9.1</td>\n",
       "      <td>...</td>\n",
       "      <td>0</td>\n",
       "      <td>-inf</td>\n",
       "      <td>0</td>\n",
       "      <td>0</td>\n",
       "      <td>0</td>\n",
       "      <td>-inf</td>\n",
       "      <td>0</td>\n",
       "      <td>0</td>\n",
       "      <td>0</td>\n",
       "      <td>-inf</td>\n",
       "    </tr>\n",
       "  </tbody>\n",
       "</table>\n",
       "<p>5 rows × 118 columns</p>\n",
       "</div>"
      ],
      "text/plain": [
       "            away_WP  to_WP  skiers  new_24  basedepth  open_trails  \\\n",
       "2011-11-13     2882   1371      44       1         18            0   \n",
       "2011-11-14     1720   1607   -1467       1         18            0   \n",
       "2011-11-15     1539   1804   -1580       1         18            0   \n",
       "2011-11-16     1695   1808   -1315       1         18            0   \n",
       "2011-11-17     1890   1916   -1202       1         18            0   \n",
       "\n",
       "            open_lifts  open_percent  tot_snow  week_snow_tot  \\\n",
       "2011-11-13           0             0         1            9.1   \n",
       "2011-11-14           0             0         4            9.1   \n",
       "2011-11-15           0             0         4            9.1   \n",
       "2011-11-16           0             0         5            9.1   \n",
       "2011-11-17           0             0         6            9.1   \n",
       "\n",
       "                 ...         pres_day_sun_sqrt  ln_pres_day_sun  \\\n",
       "2011-11-13       ...                         0             -inf   \n",
       "2011-11-14       ...                         0             -inf   \n",
       "2011-11-15       ...                         0             -inf   \n",
       "2011-11-16       ...                         0             -inf   \n",
       "2011-11-17       ...                         0             -inf   \n",
       "\n",
       "            pres_day_fri_sq  pres_day_fri_cu  pres_day_fri_sqrt  \\\n",
       "2011-11-13                0                0                  0   \n",
       "2011-11-14                0                0                  0   \n",
       "2011-11-15                0                0                  0   \n",
       "2011-11-16                0                0                  0   \n",
       "2011-11-17                0                0                  0   \n",
       "\n",
       "            ln_pres_day_fri  pres_day_mon_sq  pres_day_mon_cu  \\\n",
       "2011-11-13             -inf                0                0   \n",
       "2011-11-14             -inf                0                0   \n",
       "2011-11-15             -inf                0                0   \n",
       "2011-11-16             -inf                0                0   \n",
       "2011-11-17             -inf                0                0   \n",
       "\n",
       "            pres_day_mon_sqrt  ln_pres_day_mon  \n",
       "2011-11-13                  0             -inf  \n",
       "2011-11-14                  0             -inf  \n",
       "2011-11-15                  0             -inf  \n",
       "2011-11-16                  0             -inf  \n",
       "2011-11-17                  0             -inf  \n",
       "\n",
       "[5 rows x 118 columns]"
      ]
     },
     "execution_count": 239,
     "metadata": {},
     "output_type": "execute_result"
    }
   ],
   "source": [
    "df_all.head()"
   ]
  },
  {
   "cell_type": "code",
   "execution_count": 240,
   "metadata": {
    "collapsed": false
   },
   "outputs": [
    {
     "data": {
      "text/plain": [
       "<matplotlib.axes._subplots.AxesSubplot at 0x10b4dc850>"
      ]
     },
     "execution_count": 240,
     "metadata": {},
     "output_type": "execute_result"
    },
    {
     "data": {
      "image/png": "[encoded data removed]",
      "text/plain": [
       "<matplotlib.figure.Figure at 0x10b4cbe90>"
      ]
     },
     "metadata": {},
     "output_type": "display_data"
    }
   ],
   "source": [
    "df_all.tot_snow.plot(linestyle='', marker='o')"
   ]
  },
  {
   "cell_type": "markdown",
   "metadata": {},
   "source": [
    "# Export Data"
   ]
  },
  {
   "cell_type": "code",
   "execution_count": 241,
   "metadata": {
    "collapsed": false
   },
   "outputs": [],
   "source": [
    "df_all.to_csv('../data_ski_in_solitude/data_with_features/all_feat.csv')"
   ]
  },
  {
   "cell_type": "code",
   "execution_count": null,
   "metadata": {
    "collapsed": true
   },
   "outputs": [],
   "source": []
  }
 ],
 "metadata": {
  "kernelspec": {
   "display_name": "Python 2",
   "language": "python",
   "name": "python2"
  },
  "language_info": {
   "codemirror_mode": {
    "name": "ipython",
    "version": 2
   },
   "file_extension": ".py",
   "mimetype": "text/x-python",
   "name": "python",
   "nbconvert_exporter": "python",
   "pygments_lexer": "ipython2",
   "version": "2.7.10"
  }
 },
 "nbformat": 4,
 "nbformat_minor": 0
}
