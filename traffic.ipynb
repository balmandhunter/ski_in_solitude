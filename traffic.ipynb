{
 "cells": [
  {
   "cell_type": "code",
   "execution_count": 1,
   "metadata": {
    "collapsed": false
   },
   "outputs": [],
   "source": [
    "import pandas as pd \n",
    "import numpy as np\n",
    "import matplotlib.pyplot as plt\n",
    "import datetime\n",
    "import seaborn as sns\n",
    "\n",
    "%load_ext autoreload\n",
    "%autoreload 2\n",
    "from functions import *\n",
    "from plots import *\n",
    "\n",
    "%matplotlib inline\n",
    "plt.rcParams['figure.figsize'] = 12, 8  # plotsize "
   ]
  },
  {
   "cell_type": "markdown",
   "metadata": {},
   "source": [
    "# Import Traffic"
   ]
  },
  {
   "cell_type": "code",
   "execution_count": 487,
   "metadata": {
    "collapsed": false,
    "scrolled": true
   },
   "outputs": [],
   "source": [
    "df_traf_berth = pd.DataFrame.from_csv('data/berthoud_traffic.csv', index_col = 27, parse_dates= True)"
   ]
  },
  {
   "cell_type": "code",
   "execution_count": 488,
   "metadata": {
    "collapsed": false
   },
   "outputs": [
    {
     "data": {
      "text/html": [
       "<div>\n",
       "<table border=\"1\" class=\"dataframe\">\n",
       "  <thead>\n",
       "    <tr style=\"text-align: right;\">\n",
       "      <th></th>\n",
       "      <th>COUNTSTATIONID</th>\n",
       "      <th>COUNTDATE</th>\n",
       "      <th>COUNTDIR</th>\n",
       "      <th>HOUR0</th>\n",
       "      <th>HOUR1</th>\n",
       "      <th>HOUR2</th>\n",
       "      <th>HOUR3</th>\n",
       "      <th>HOUR4</th>\n",
       "      <th>HOUR5</th>\n",
       "      <th>HOUR6</th>\n",
       "      <th>...</th>\n",
       "      <th>HOUR14</th>\n",
       "      <th>HOUR15</th>\n",
       "      <th>HOUR16</th>\n",
       "      <th>HOUR17</th>\n",
       "      <th>HOUR18</th>\n",
       "      <th>HOUR19</th>\n",
       "      <th>HOUR20</th>\n",
       "      <th>HOUR21</th>\n",
       "      <th>HOUR22</th>\n",
       "      <th>HOUR23</th>\n",
       "    </tr>\n",
       "    <tr>\n",
       "      <th>FormattedDate</th>\n",
       "      <th></th>\n",
       "      <th></th>\n",
       "      <th></th>\n",
       "      <th></th>\n",
       "      <th></th>\n",
       "      <th></th>\n",
       "      <th></th>\n",
       "      <th></th>\n",
       "      <th></th>\n",
       "      <th></th>\n",
       "      <th></th>\n",
       "      <th></th>\n",
       "      <th></th>\n",
       "      <th></th>\n",
       "      <th></th>\n",
       "      <th></th>\n",
       "      <th></th>\n",
       "      <th></th>\n",
       "      <th></th>\n",
       "      <th></th>\n",
       "      <th></th>\n",
       "    </tr>\n",
       "  </thead>\n",
       "  <tbody>\n",
       "    <tr>\n",
       "      <th>2015-07-29</th>\n",
       "      <td>223</td>\n",
       "      <td>20150729</td>\n",
       "      <td>S</td>\n",
       "      <td>27</td>\n",
       "      <td>9</td>\n",
       "      <td>6</td>\n",
       "      <td>6</td>\n",
       "      <td>41</td>\n",
       "      <td>146</td>\n",
       "      <td>85</td>\n",
       "      <td>...</td>\n",
       "      <td>270</td>\n",
       "      <td>288</td>\n",
       "      <td>237</td>\n",
       "      <td>259</td>\n",
       "      <td>180</td>\n",
       "      <td>138</td>\n",
       "      <td>75</td>\n",
       "      <td>115</td>\n",
       "      <td>59</td>\n",
       "      <td>48</td>\n",
       "    </tr>\n",
       "    <tr>\n",
       "      <th>2015-07-30</th>\n",
       "      <td>223</td>\n",
       "      <td>20150730</td>\n",
       "      <td>P</td>\n",
       "      <td>7</td>\n",
       "      <td>6</td>\n",
       "      <td>4</td>\n",
       "      <td>5</td>\n",
       "      <td>11</td>\n",
       "      <td>26</td>\n",
       "      <td>80</td>\n",
       "      <td>...</td>\n",
       "      <td>323</td>\n",
       "      <td>372</td>\n",
       "      <td>375</td>\n",
       "      <td>320</td>\n",
       "      <td>328</td>\n",
       "      <td>223</td>\n",
       "      <td>113</td>\n",
       "      <td>78</td>\n",
       "      <td>46</td>\n",
       "      <td>33</td>\n",
       "    </tr>\n",
       "    <tr>\n",
       "      <th>2015-07-30</th>\n",
       "      <td>223</td>\n",
       "      <td>20150730</td>\n",
       "      <td>S</td>\n",
       "      <td>30</td>\n",
       "      <td>12</td>\n",
       "      <td>6</td>\n",
       "      <td>5</td>\n",
       "      <td>36</td>\n",
       "      <td>167</td>\n",
       "      <td>89</td>\n",
       "      <td>...</td>\n",
       "      <td>366</td>\n",
       "      <td>361</td>\n",
       "      <td>320</td>\n",
       "      <td>320</td>\n",
       "      <td>240</td>\n",
       "      <td>222</td>\n",
       "      <td>177</td>\n",
       "      <td>118</td>\n",
       "      <td>79</td>\n",
       "      <td>42</td>\n",
       "    </tr>\n",
       "    <tr>\n",
       "      <th>2015-07-31</th>\n",
       "      <td>223</td>\n",
       "      <td>20150731</td>\n",
       "      <td>P</td>\n",
       "      <td>8</td>\n",
       "      <td>3</td>\n",
       "      <td>6</td>\n",
       "      <td>8</td>\n",
       "      <td>17</td>\n",
       "      <td>25</td>\n",
       "      <td>93</td>\n",
       "      <td>...</td>\n",
       "      <td>342</td>\n",
       "      <td>308</td>\n",
       "      <td>363</td>\n",
       "      <td>347</td>\n",
       "      <td>356</td>\n",
       "      <td>234</td>\n",
       "      <td>135</td>\n",
       "      <td>104</td>\n",
       "      <td>76</td>\n",
       "      <td>35</td>\n",
       "    </tr>\n",
       "    <tr>\n",
       "      <th>2015-07-31</th>\n",
       "      <td>223</td>\n",
       "      <td>20150731</td>\n",
       "      <td>S</td>\n",
       "      <td>30</td>\n",
       "      <td>18</td>\n",
       "      <td>7</td>\n",
       "      <td>14</td>\n",
       "      <td>28</td>\n",
       "      <td>129</td>\n",
       "      <td>96</td>\n",
       "      <td>...</td>\n",
       "      <td>593</td>\n",
       "      <td>575</td>\n",
       "      <td>650</td>\n",
       "      <td>610</td>\n",
       "      <td>648</td>\n",
       "      <td>588</td>\n",
       "      <td>593</td>\n",
       "      <td>272</td>\n",
       "      <td>154</td>\n",
       "      <td>63</td>\n",
       "    </tr>\n",
       "  </tbody>\n",
       "</table>\n",
       "<p>5 rows × 27 columns</p>\n",
       "</div>"
      ],
      "text/plain": [
       "               COUNTSTATIONID  COUNTDATE COUNTDIR  HOUR0  HOUR1  HOUR2  HOUR3  \\\n",
       "FormattedDate                                                                   \n",
       "2015-07-29                223   20150729        S     27      9      6      6   \n",
       "2015-07-30                223   20150730        P      7      6      4      5   \n",
       "2015-07-30                223   20150730        S     30     12      6      5   \n",
       "2015-07-31                223   20150731        P      8      3      6      8   \n",
       "2015-07-31                223   20150731        S     30     18      7     14   \n",
       "\n",
       "               HOUR4  HOUR5  HOUR6   ...    HOUR14  HOUR15  HOUR16  HOUR17  \\\n",
       "FormattedDate                        ...                                     \n",
       "2015-07-29        41    146     85   ...       270     288     237     259   \n",
       "2015-07-30        11     26     80   ...       323     372     375     320   \n",
       "2015-07-30        36    167     89   ...       366     361     320     320   \n",
       "2015-07-31        17     25     93   ...       342     308     363     347   \n",
       "2015-07-31        28    129     96   ...       593     575     650     610   \n",
       "\n",
       "               HOUR18  HOUR19  HOUR20  HOUR21  HOUR22  HOUR23  \n",
       "FormattedDate                                                  \n",
       "2015-07-29        180     138      75     115      59      48  \n",
       "2015-07-30        328     223     113      78      46      33  \n",
       "2015-07-30        240     222     177     118      79      42  \n",
       "2015-07-31        356     234     135     104      76      35  \n",
       "2015-07-31        648     588     593     272     154      63  \n",
       "\n",
       "[5 rows x 27 columns]"
      ]
     },
     "execution_count": 488,
     "metadata": {},
     "output_type": "execute_result"
    }
   ],
   "source": [
    "df_traf_berth.tail()"
   ]
  },
  {
   "cell_type": "code",
   "execution_count": 489,
   "metadata": {
    "collapsed": false
   },
   "outputs": [],
   "source": [
    "df_traf_berth.drop(['COUNTSTATIONID','COUNTDATE'], inplace = True, axis = 1)"
   ]
  },
  {
   "cell_type": "code",
   "execution_count": 490,
   "metadata": {
    "collapsed": true
   },
   "outputs": [],
   "source": [
    "df_traf_berth_ski = choose_date_range(2011, 11, 1, 2015, 5, 1, df_traf_i70)"
   ]
  },
  {
   "cell_type": "code",
   "execution_count": 491,
   "metadata": {
    "collapsed": false
   },
   "outputs": [
    {
     "data": {
      "text/html": [
       "<div>\n",
       "<table border=\"1\" class=\"dataframe\">\n",
       "  <thead>\n",
       "    <tr style=\"text-align: right;\">\n",
       "      <th></th>\n",
       "      <th>COUNTDIR</th>\n",
       "      <th>HOUR0</th>\n",
       "      <th>HOUR1</th>\n",
       "      <th>HOUR2</th>\n",
       "      <th>HOUR3</th>\n",
       "      <th>HOUR4</th>\n",
       "      <th>HOUR5</th>\n",
       "      <th>HOUR6</th>\n",
       "      <th>HOUR7</th>\n",
       "      <th>HOUR8</th>\n",
       "      <th>...</th>\n",
       "      <th>HOUR14</th>\n",
       "      <th>HOUR15</th>\n",
       "      <th>HOUR16</th>\n",
       "      <th>HOUR17</th>\n",
       "      <th>HOUR18</th>\n",
       "      <th>HOUR19</th>\n",
       "      <th>HOUR20</th>\n",
       "      <th>HOUR21</th>\n",
       "      <th>HOUR22</th>\n",
       "      <th>HOUR23</th>\n",
       "    </tr>\n",
       "    <tr>\n",
       "      <th>FormattedDate</th>\n",
       "      <th></th>\n",
       "      <th></th>\n",
       "      <th></th>\n",
       "      <th></th>\n",
       "      <th></th>\n",
       "      <th></th>\n",
       "      <th></th>\n",
       "      <th></th>\n",
       "      <th></th>\n",
       "      <th></th>\n",
       "      <th></th>\n",
       "      <th></th>\n",
       "      <th></th>\n",
       "      <th></th>\n",
       "      <th></th>\n",
       "      <th></th>\n",
       "      <th></th>\n",
       "      <th></th>\n",
       "      <th></th>\n",
       "      <th></th>\n",
       "      <th></th>\n",
       "    </tr>\n",
       "  </thead>\n",
       "  <tbody>\n",
       "    <tr>\n",
       "      <th>2015-04-28</th>\n",
       "      <td>S</td>\n",
       "      <td>9</td>\n",
       "      <td>5</td>\n",
       "      <td>5</td>\n",
       "      <td>4</td>\n",
       "      <td>43</td>\n",
       "      <td>120</td>\n",
       "      <td>51</td>\n",
       "      <td>86</td>\n",
       "      <td>81</td>\n",
       "      <td>...</td>\n",
       "      <td>89</td>\n",
       "      <td>105</td>\n",
       "      <td>117</td>\n",
       "      <td>120</td>\n",
       "      <td>93</td>\n",
       "      <td>76</td>\n",
       "      <td>65</td>\n",
       "      <td>47</td>\n",
       "      <td>36</td>\n",
       "      <td>15</td>\n",
       "    </tr>\n",
       "    <tr>\n",
       "      <th>2015-04-29</th>\n",
       "      <td>P</td>\n",
       "      <td>2</td>\n",
       "      <td>4</td>\n",
       "      <td>3</td>\n",
       "      <td>2</td>\n",
       "      <td>13</td>\n",
       "      <td>22</td>\n",
       "      <td>65</td>\n",
       "      <td>80</td>\n",
       "      <td>85</td>\n",
       "      <td>...</td>\n",
       "      <td>122</td>\n",
       "      <td>123</td>\n",
       "      <td>215</td>\n",
       "      <td>119</td>\n",
       "      <td>136</td>\n",
       "      <td>66</td>\n",
       "      <td>42</td>\n",
       "      <td>22</td>\n",
       "      <td>24</td>\n",
       "      <td>10</td>\n",
       "    </tr>\n",
       "    <tr>\n",
       "      <th>2015-04-29</th>\n",
       "      <td>S</td>\n",
       "      <td>9</td>\n",
       "      <td>3</td>\n",
       "      <td>5</td>\n",
       "      <td>5</td>\n",
       "      <td>43</td>\n",
       "      <td>142</td>\n",
       "      <td>58</td>\n",
       "      <td>91</td>\n",
       "      <td>95</td>\n",
       "      <td>...</td>\n",
       "      <td>95</td>\n",
       "      <td>117</td>\n",
       "      <td>115</td>\n",
       "      <td>130</td>\n",
       "      <td>92</td>\n",
       "      <td>51</td>\n",
       "      <td>57</td>\n",
       "      <td>46</td>\n",
       "      <td>27</td>\n",
       "      <td>12</td>\n",
       "    </tr>\n",
       "    <tr>\n",
       "      <th>2015-04-30</th>\n",
       "      <td>P</td>\n",
       "      <td>3</td>\n",
       "      <td>2</td>\n",
       "      <td>1</td>\n",
       "      <td>3</td>\n",
       "      <td>9</td>\n",
       "      <td>16</td>\n",
       "      <td>62</td>\n",
       "      <td>85</td>\n",
       "      <td>104</td>\n",
       "      <td>...</td>\n",
       "      <td>149</td>\n",
       "      <td>125</td>\n",
       "      <td>221</td>\n",
       "      <td>140</td>\n",
       "      <td>132</td>\n",
       "      <td>56</td>\n",
       "      <td>29</td>\n",
       "      <td>18</td>\n",
       "      <td>16</td>\n",
       "      <td>6</td>\n",
       "    </tr>\n",
       "    <tr>\n",
       "      <th>2015-04-30</th>\n",
       "      <td>S</td>\n",
       "      <td>12</td>\n",
       "      <td>8</td>\n",
       "      <td>5</td>\n",
       "      <td>6</td>\n",
       "      <td>42</td>\n",
       "      <td>130</td>\n",
       "      <td>41</td>\n",
       "      <td>88</td>\n",
       "      <td>86</td>\n",
       "      <td>...</td>\n",
       "      <td>114</td>\n",
       "      <td>135</td>\n",
       "      <td>156</td>\n",
       "      <td>148</td>\n",
       "      <td>104</td>\n",
       "      <td>92</td>\n",
       "      <td>80</td>\n",
       "      <td>65</td>\n",
       "      <td>36</td>\n",
       "      <td>20</td>\n",
       "    </tr>\n",
       "  </tbody>\n",
       "</table>\n",
       "<p>5 rows × 25 columns</p>\n",
       "</div>"
      ],
      "text/plain": [
       "              COUNTDIR  HOUR0  HOUR1  HOUR2  HOUR3  HOUR4  HOUR5  HOUR6  \\\n",
       "FormattedDate                                                             \n",
       "2015-04-28           S      9      5      5      4     43    120     51   \n",
       "2015-04-29           P      2      4      3      2     13     22     65   \n",
       "2015-04-29           S      9      3      5      5     43    142     58   \n",
       "2015-04-30           P      3      2      1      3      9     16     62   \n",
       "2015-04-30           S     12      8      5      6     42    130     41   \n",
       "\n",
       "               HOUR7  HOUR8   ...    HOUR14  HOUR15  HOUR16  HOUR17  HOUR18  \\\n",
       "FormattedDate                 ...                                             \n",
       "2015-04-28        86     81   ...        89     105     117     120      93   \n",
       "2015-04-29        80     85   ...       122     123     215     119     136   \n",
       "2015-04-29        91     95   ...        95     117     115     130      92   \n",
       "2015-04-30        85    104   ...       149     125     221     140     132   \n",
       "2015-04-30        88     86   ...       114     135     156     148     104   \n",
       "\n",
       "               HOUR19  HOUR20  HOUR21  HOUR22  HOUR23  \n",
       "FormattedDate                                          \n",
       "2015-04-28         76      65      47      36      15  \n",
       "2015-04-29         66      42      22      24      10  \n",
       "2015-04-29         51      57      46      27      12  \n",
       "2015-04-30         56      29      18      16       6  \n",
       "2015-04-30         92      80      65      36      20  \n",
       "\n",
       "[5 rows x 25 columns]"
      ]
     },
     "execution_count": 491,
     "metadata": {},
     "output_type": "execute_result"
    }
   ],
   "source": [
    "df_traf_berth_ski.tail()"
   ]
  },
  {
   "cell_type": "code",
   "execution_count": 492,
   "metadata": {
    "collapsed": true
   },
   "outputs": [],
   "source": [
    "df_traf_berth_ski_prim, df_traf_berth_ski_sec = separate_traffic_directions(df_traf_berth_ski)"
   ]
  },
  {
   "cell_type": "code",
   "execution_count": 493,
   "metadata": {
    "collapsed": false
   },
   "outputs": [
    {
     "data": {
      "text/html": [
       "<div>\n",
       "<table border=\"1\" class=\"dataframe\">\n",
       "  <thead>\n",
       "    <tr style=\"text-align: right;\">\n",
       "      <th></th>\n",
       "      <th>COUNTDIR</th>\n",
       "      <th>HOUR0</th>\n",
       "      <th>HOUR1</th>\n",
       "      <th>HOUR2</th>\n",
       "      <th>HOUR3</th>\n",
       "      <th>HOUR4</th>\n",
       "      <th>HOUR5</th>\n",
       "      <th>HOUR6</th>\n",
       "      <th>HOUR7</th>\n",
       "      <th>HOUR8</th>\n",
       "      <th>...</th>\n",
       "      <th>HOUR14</th>\n",
       "      <th>HOUR15</th>\n",
       "      <th>HOUR16</th>\n",
       "      <th>HOUR17</th>\n",
       "      <th>HOUR18</th>\n",
       "      <th>HOUR19</th>\n",
       "      <th>HOUR20</th>\n",
       "      <th>HOUR21</th>\n",
       "      <th>HOUR22</th>\n",
       "      <th>HOUR23</th>\n",
       "    </tr>\n",
       "    <tr>\n",
       "      <th>FormattedDate</th>\n",
       "      <th></th>\n",
       "      <th></th>\n",
       "      <th></th>\n",
       "      <th></th>\n",
       "      <th></th>\n",
       "      <th></th>\n",
       "      <th></th>\n",
       "      <th></th>\n",
       "      <th></th>\n",
       "      <th></th>\n",
       "      <th></th>\n",
       "      <th></th>\n",
       "      <th></th>\n",
       "      <th></th>\n",
       "      <th></th>\n",
       "      <th></th>\n",
       "      <th></th>\n",
       "      <th></th>\n",
       "      <th></th>\n",
       "      <th></th>\n",
       "      <th></th>\n",
       "    </tr>\n",
       "  </thead>\n",
       "  <tbody>\n",
       "    <tr>\n",
       "      <th>2015-04-26</th>\n",
       "      <td>S</td>\n",
       "      <td>18</td>\n",
       "      <td>3</td>\n",
       "      <td>7</td>\n",
       "      <td>8</td>\n",
       "      <td>22</td>\n",
       "      <td>51</td>\n",
       "      <td>52</td>\n",
       "      <td>153</td>\n",
       "      <td>264</td>\n",
       "      <td>...</td>\n",
       "      <td>104</td>\n",
       "      <td>89</td>\n",
       "      <td>81</td>\n",
       "      <td>99</td>\n",
       "      <td>55</td>\n",
       "      <td>60</td>\n",
       "      <td>36</td>\n",
       "      <td>17</td>\n",
       "      <td>19</td>\n",
       "      <td>12</td>\n",
       "    </tr>\n",
       "    <tr>\n",
       "      <th>2015-04-27</th>\n",
       "      <td>S</td>\n",
       "      <td>4</td>\n",
       "      <td>7</td>\n",
       "      <td>2</td>\n",
       "      <td>10</td>\n",
       "      <td>32</td>\n",
       "      <td>81</td>\n",
       "      <td>42</td>\n",
       "      <td>63</td>\n",
       "      <td>74</td>\n",
       "      <td>...</td>\n",
       "      <td>89</td>\n",
       "      <td>81</td>\n",
       "      <td>94</td>\n",
       "      <td>110</td>\n",
       "      <td>59</td>\n",
       "      <td>48</td>\n",
       "      <td>39</td>\n",
       "      <td>30</td>\n",
       "      <td>18</td>\n",
       "      <td>13</td>\n",
       "    </tr>\n",
       "    <tr>\n",
       "      <th>2015-04-28</th>\n",
       "      <td>S</td>\n",
       "      <td>9</td>\n",
       "      <td>5</td>\n",
       "      <td>5</td>\n",
       "      <td>4</td>\n",
       "      <td>43</td>\n",
       "      <td>120</td>\n",
       "      <td>51</td>\n",
       "      <td>86</td>\n",
       "      <td>81</td>\n",
       "      <td>...</td>\n",
       "      <td>89</td>\n",
       "      <td>105</td>\n",
       "      <td>117</td>\n",
       "      <td>120</td>\n",
       "      <td>93</td>\n",
       "      <td>76</td>\n",
       "      <td>65</td>\n",
       "      <td>47</td>\n",
       "      <td>36</td>\n",
       "      <td>15</td>\n",
       "    </tr>\n",
       "    <tr>\n",
       "      <th>2015-04-29</th>\n",
       "      <td>S</td>\n",
       "      <td>9</td>\n",
       "      <td>3</td>\n",
       "      <td>5</td>\n",
       "      <td>5</td>\n",
       "      <td>43</td>\n",
       "      <td>142</td>\n",
       "      <td>58</td>\n",
       "      <td>91</td>\n",
       "      <td>95</td>\n",
       "      <td>...</td>\n",
       "      <td>95</td>\n",
       "      <td>117</td>\n",
       "      <td>115</td>\n",
       "      <td>130</td>\n",
       "      <td>92</td>\n",
       "      <td>51</td>\n",
       "      <td>57</td>\n",
       "      <td>46</td>\n",
       "      <td>27</td>\n",
       "      <td>12</td>\n",
       "    </tr>\n",
       "    <tr>\n",
       "      <th>2015-04-30</th>\n",
       "      <td>S</td>\n",
       "      <td>12</td>\n",
       "      <td>8</td>\n",
       "      <td>5</td>\n",
       "      <td>6</td>\n",
       "      <td>42</td>\n",
       "      <td>130</td>\n",
       "      <td>41</td>\n",
       "      <td>88</td>\n",
       "      <td>86</td>\n",
       "      <td>...</td>\n",
       "      <td>114</td>\n",
       "      <td>135</td>\n",
       "      <td>156</td>\n",
       "      <td>148</td>\n",
       "      <td>104</td>\n",
       "      <td>92</td>\n",
       "      <td>80</td>\n",
       "      <td>65</td>\n",
       "      <td>36</td>\n",
       "      <td>20</td>\n",
       "    </tr>\n",
       "  </tbody>\n",
       "</table>\n",
       "<p>5 rows × 25 columns</p>\n",
       "</div>"
      ],
      "text/plain": [
       "              COUNTDIR  HOUR0  HOUR1  HOUR2  HOUR3  HOUR4  HOUR5  HOUR6  \\\n",
       "FormattedDate                                                             \n",
       "2015-04-26           S     18      3      7      8     22     51     52   \n",
       "2015-04-27           S      4      7      2     10     32     81     42   \n",
       "2015-04-28           S      9      5      5      4     43    120     51   \n",
       "2015-04-29           S      9      3      5      5     43    142     58   \n",
       "2015-04-30           S     12      8      5      6     42    130     41   \n",
       "\n",
       "               HOUR7  HOUR8   ...    HOUR14  HOUR15  HOUR16  HOUR17  HOUR18  \\\n",
       "FormattedDate                 ...                                             \n",
       "2015-04-26       153    264   ...       104      89      81      99      55   \n",
       "2015-04-27        63     74   ...        89      81      94     110      59   \n",
       "2015-04-28        86     81   ...        89     105     117     120      93   \n",
       "2015-04-29        91     95   ...        95     117     115     130      92   \n",
       "2015-04-30        88     86   ...       114     135     156     148     104   \n",
       "\n",
       "               HOUR19  HOUR20  HOUR21  HOUR22  HOUR23  \n",
       "FormattedDate                                          \n",
       "2015-04-26         60      36      17      19      12  \n",
       "2015-04-27         48      39      30      18      13  \n",
       "2015-04-28         76      65      47      36      15  \n",
       "2015-04-29         51      57      46      27      12  \n",
       "2015-04-30         92      80      65      36      20  \n",
       "\n",
       "[5 rows x 25 columns]"
      ]
     },
     "execution_count": 493,
     "metadata": {},
     "output_type": "execute_result"
    }
   ],
   "source": [
    "df_traf_berth_ski_sec.tail()"
   ]
  },
  {
   "cell_type": "code",
   "execution_count": 494,
   "metadata": {
    "collapsed": false,
    "scrolled": true
   },
   "outputs": [],
   "source": [
    "df_traf_berth_ski_prim, df_traf_berth_ski_sec = sum_morning_evening_and_drop_hourly(df_traf_berth_ski_prim, df_traf_berth_ski_sec)"
   ]
  },
  {
   "cell_type": "code",
   "execution_count": 495,
   "metadata": {
    "collapsed": false
   },
   "outputs": [
    {
     "data": {
      "text/html": [
       "<div>\n",
       "<table border=\"1\" class=\"dataframe\">\n",
       "  <thead>\n",
       "    <tr style=\"text-align: right;\">\n",
       "      <th></th>\n",
       "      <th>COUNTDIR</th>\n",
       "      <th>morning_east</th>\n",
       "      <th>evening_east</th>\n",
       "    </tr>\n",
       "    <tr>\n",
       "      <th>FormattedDate</th>\n",
       "      <th></th>\n",
       "      <th></th>\n",
       "      <th></th>\n",
       "    </tr>\n",
       "  </thead>\n",
       "  <tbody>\n",
       "    <tr>\n",
       "      <th>2015-04-26</th>\n",
       "      <td>P</td>\n",
       "      <td>1107</td>\n",
       "      <td>3503</td>\n",
       "    </tr>\n",
       "    <tr>\n",
       "      <th>2015-04-27</th>\n",
       "      <td>P</td>\n",
       "      <td>796</td>\n",
       "      <td>1014</td>\n",
       "    </tr>\n",
       "    <tr>\n",
       "      <th>2015-04-28</th>\n",
       "      <td>P</td>\n",
       "      <td>630</td>\n",
       "      <td>1004</td>\n",
       "    </tr>\n",
       "    <tr>\n",
       "      <th>2015-04-29</th>\n",
       "      <td>P</td>\n",
       "      <td>646</td>\n",
       "      <td>1113</td>\n",
       "    </tr>\n",
       "    <tr>\n",
       "      <th>2015-04-30</th>\n",
       "      <td>P</td>\n",
       "      <td>670</td>\n",
       "      <td>1160</td>\n",
       "    </tr>\n",
       "  </tbody>\n",
       "</table>\n",
       "</div>"
      ],
      "text/plain": [
       "              COUNTDIR  morning_east  evening_east\n",
       "FormattedDate                                     \n",
       "2015-04-26           P          1107          3503\n",
       "2015-04-27           P           796          1014\n",
       "2015-04-28           P           630          1004\n",
       "2015-04-29           P           646          1113\n",
       "2015-04-30           P           670          1160"
      ]
     },
     "execution_count": 495,
     "metadata": {},
     "output_type": "execute_result"
    }
   ],
   "source": [
    "df_traf_berth_ski_prim.tail()"
   ]
  },
  {
   "cell_type": "code",
   "execution_count": 496,
   "metadata": {
    "collapsed": false
   },
   "outputs": [
    {
     "name": "stderr",
     "output_type": "stream",
     "text": [
      "/Library/Frameworks/Python.framework/Versions/2.7/lib/python2.7/site-packages/ipykernel/__main__.py:1: SettingWithCopyWarning: \n",
      "A value is trying to be set on a copy of a slice from a DataFrame.\n",
      "Try using .loc[row_indexer,col_indexer] = value instead\n",
      "\n",
      "See the the caveats in the documentation: http://pandas.pydata.org/pandas-docs/stable/indexing.html#indexing-view-versus-copy\n",
      "  if __name__ == '__main__':\n",
      "/Library/Frameworks/Python.framework/Versions/2.7/lib/python2.7/site-packages/ipykernel/__main__.py:2: SettingWithCopyWarning: \n",
      "A value is trying to be set on a copy of a slice from a DataFrame.\n",
      "Try using .loc[row_indexer,col_indexer] = value instead\n",
      "\n",
      "See the the caveats in the documentation: http://pandas.pydata.org/pandas-docs/stable/indexing.html#indexing-view-versus-copy\n",
      "  from ipykernel import kernelapp as app\n"
     ]
    }
   ],
   "source": [
    "df_traf_berth_ski_prim['all_day_east'] = df_traf_berth_ski_prim.morning_east + df_traf_ski_prim.evening_east\n",
    "df_traf_berth_ski_sec['all_day_west'] = df_traf_berth_ski_sec.morning_west + df_traf_ski_sec.evening_west"
   ]
  },
  {
   "cell_type": "code",
   "execution_count": 497,
   "metadata": {
    "collapsed": false,
    "scrolled": false
   },
   "outputs": [
    {
     "name": "stderr",
     "output_type": "stream",
     "text": [
      "/Library/Frameworks/Python.framework/Versions/2.7/lib/python2.7/site-packages/ipykernel/__main__.py:2: SettingWithCopyWarning: \n",
      "A value is trying to be set on a copy of a slice from a DataFrame.\n",
      "Try using .loc[row_indexer,col_indexer] = value instead\n",
      "\n",
      "See the the caveats in the documentation: http://pandas.pydata.org/pandas-docs/stable/indexing.html#indexing-view-versus-copy\n",
      "  from ipykernel import kernelapp as app\n",
      "/Library/Frameworks/Python.framework/Versions/2.7/lib/python2.7/site-packages/ipykernel/__main__.py:3: SettingWithCopyWarning: \n",
      "A value is trying to be set on a copy of a slice from a DataFrame.\n",
      "Try using .loc[row_indexer,col_indexer] = value instead\n",
      "\n",
      "See the the caveats in the documentation: http://pandas.pydata.org/pandas-docs/stable/indexing.html#indexing-view-versus-copy\n",
      "  app.launch_new_instance()\n",
      "/Library/Frameworks/Python.framework/Versions/2.7/lib/python2.7/site-packages/ipykernel/__main__.py:4: SettingWithCopyWarning: \n",
      "A value is trying to be set on a copy of a slice from a DataFrame.\n",
      "Try using .loc[row_indexer,col_indexer] = value instead\n",
      "\n",
      "See the the caveats in the documentation: http://pandas.pydata.org/pandas-docs/stable/indexing.html#indexing-view-versus-copy\n"
     ]
    }
   ],
   "source": [
    "df_traf_berth_ski_all = df_traf_ski_prim\n",
    "df_traf_berth_ski_all['morning_west'] = df_traf_berth_ski_sec.morning_west \n",
    "df_traf_berth_ski_all['evening_west'] = df_traf_berth_ski_sec.evening_west\n",
    "df_traf_berth_ski_all['all_day_west'] = df_traf_berth_ski_sec.all_day_west "
   ]
  },
  {
   "cell_type": "code",
   "execution_count": 498,
   "metadata": {
    "collapsed": true
   },
   "outputs": [],
   "source": [
    "df_traf_berth_all = df_traf_berth_ski_all.drop('COUNTDIR', axis = 1)"
   ]
  },
  {
   "cell_type": "code",
   "execution_count": 499,
   "metadata": {
    "collapsed": false
   },
   "outputs": [
    {
     "data": {
      "text/html": [
       "<div>\n",
       "<table border=\"1\" class=\"dataframe\">\n",
       "  <thead>\n",
       "    <tr style=\"text-align: right;\">\n",
       "      <th></th>\n",
       "      <th>COUNTDIR</th>\n",
       "      <th>morning_east</th>\n",
       "      <th>evening_east</th>\n",
       "      <th>all_day_east</th>\n",
       "      <th>morning_west</th>\n",
       "      <th>evening_west</th>\n",
       "      <th>all_day_west</th>\n",
       "    </tr>\n",
       "    <tr>\n",
       "      <th>FormattedDate</th>\n",
       "      <th></th>\n",
       "      <th></th>\n",
       "      <th></th>\n",
       "      <th></th>\n",
       "      <th></th>\n",
       "      <th></th>\n",
       "      <th></th>\n",
       "    </tr>\n",
       "  </thead>\n",
       "  <tbody>\n",
       "    <tr>\n",
       "      <th>2011-11-01</th>\n",
       "      <td>P</td>\n",
       "      <td>577</td>\n",
       "      <td>1045</td>\n",
       "      <td>1622</td>\n",
       "      <td>811</td>\n",
       "      <td>859</td>\n",
       "      <td>1670</td>\n",
       "    </tr>\n",
       "    <tr>\n",
       "      <th>2011-11-02</th>\n",
       "      <td>P</td>\n",
       "      <td>252</td>\n",
       "      <td>767</td>\n",
       "      <td>1019</td>\n",
       "      <td>481</td>\n",
       "      <td>610</td>\n",
       "      <td>1091</td>\n",
       "    </tr>\n",
       "    <tr>\n",
       "      <th>2011-11-03</th>\n",
       "      <td>P</td>\n",
       "      <td>495</td>\n",
       "      <td>1094</td>\n",
       "      <td>1589</td>\n",
       "      <td>767</td>\n",
       "      <td>1019</td>\n",
       "      <td>1786</td>\n",
       "    </tr>\n",
       "    <tr>\n",
       "      <th>2011-11-04</th>\n",
       "      <td>P</td>\n",
       "      <td>595</td>\n",
       "      <td>1309</td>\n",
       "      <td>1904</td>\n",
       "      <td>1124</td>\n",
       "      <td>2390</td>\n",
       "      <td>3514</td>\n",
       "    </tr>\n",
       "    <tr>\n",
       "      <th>2011-11-05</th>\n",
       "      <td>P</td>\n",
       "      <td>508</td>\n",
       "      <td>1129</td>\n",
       "      <td>1637</td>\n",
       "      <td>760</td>\n",
       "      <td>1289</td>\n",
       "      <td>2049</td>\n",
       "    </tr>\n",
       "  </tbody>\n",
       "</table>\n",
       "</div>"
      ],
      "text/plain": [
       "              COUNTDIR  morning_east  evening_east  all_day_east  \\\n",
       "FormattedDate                                                      \n",
       "2011-11-01           P           577          1045          1622   \n",
       "2011-11-02           P           252           767          1019   \n",
       "2011-11-03           P           495          1094          1589   \n",
       "2011-11-04           P           595          1309          1904   \n",
       "2011-11-05           P           508          1129          1637   \n",
       "\n",
       "               morning_west  evening_west  all_day_west  \n",
       "FormattedDate                                            \n",
       "2011-11-01              811           859          1670  \n",
       "2011-11-02              481           610          1091  \n",
       "2011-11-03              767          1019          1786  \n",
       "2011-11-04             1124          2390          3514  \n",
       "2011-11-05              760          1289          2049  "
      ]
     },
     "execution_count": 499,
     "metadata": {},
     "output_type": "execute_result"
    }
   ],
   "source": [
    "df_traf_berth_ski_all.head()"
   ]
  },
  {
   "cell_type": "code",
   "execution_count": 500,
   "metadata": {
    "collapsed": false
   },
   "outputs": [],
   "source": [
    "df_traf_berth_ski_plot = df_traf_berth_ski_all.drop(['morning_east','evening_east', 'morning_west', 'evening_west'], axis = 1)"
   ]
  },
  {
   "cell_type": "code",
   "execution_count": 502,
   "metadata": {
    "collapsed": false
   },
   "outputs": [
    {
     "data": {
      "text/plain": [
       "<matplotlib.axes._subplots.AxesSubplot at 0x118beb790>"
      ]
     },
     "execution_count": 502,
     "metadata": {},
     "output_type": "execute_result"
    },
    {
     "data": {
      "image/png": "[encoded data removed]",
      "text/plain": [
       "<matplotlib.figure.Figure at 0x118c01210>"
      ]
     },
     "metadata": {},
     "output_type": "display_data"
    }
   ],
   "source": [
    "df_traf_berth_ski_plot.plot(marker = 'o')"
   ]
  },
  {
   "cell_type": "code",
   "execution_count": 506,
   "metadata": {
    "collapsed": false
   },
   "outputs": [
    {
     "data": {
      "text/html": [
       "<div>\n",
       "<table border=\"1\" class=\"dataframe\">\n",
       "  <thead>\n",
       "    <tr style=\"text-align: right;\">\n",
       "      <th></th>\n",
       "      <th>COUNTDIR</th>\n",
       "      <th>all_day_west</th>\n",
       "      <th>all_day_east</th>\n",
       "    </tr>\n",
       "    <tr>\n",
       "      <th>FormattedDate</th>\n",
       "      <th></th>\n",
       "      <th></th>\n",
       "      <th></th>\n",
       "    </tr>\n",
       "  </thead>\n",
       "  <tbody>\n",
       "    <tr>\n",
       "      <th>2011-11-01</th>\n",
       "      <td>P</td>\n",
       "      <td>1622</td>\n",
       "      <td>1670</td>\n",
       "    </tr>\n",
       "    <tr>\n",
       "      <th>2011-11-02</th>\n",
       "      <td>P</td>\n",
       "      <td>1019</td>\n",
       "      <td>1091</td>\n",
       "    </tr>\n",
       "    <tr>\n",
       "      <th>2011-11-03</th>\n",
       "      <td>P</td>\n",
       "      <td>1589</td>\n",
       "      <td>1786</td>\n",
       "    </tr>\n",
       "    <tr>\n",
       "      <th>2011-11-04</th>\n",
       "      <td>P</td>\n",
       "      <td>1904</td>\n",
       "      <td>3514</td>\n",
       "    </tr>\n",
       "    <tr>\n",
       "      <th>2011-11-05</th>\n",
       "      <td>P</td>\n",
       "      <td>1637</td>\n",
       "      <td>2049</td>\n",
       "    </tr>\n",
       "  </tbody>\n",
       "</table>\n",
       "</div>"
      ],
      "text/plain": [
       "              COUNTDIR  all_day_west  all_day_east\n",
       "FormattedDate                                     \n",
       "2011-11-01           P          1622          1670\n",
       "2011-11-02           P          1019          1091\n",
       "2011-11-03           P          1589          1786\n",
       "2011-11-04           P          1904          3514\n",
       "2011-11-05           P          1637          2049"
      ]
     },
     "execution_count": 506,
     "metadata": {},
     "output_type": "execute_result"
    }
   ],
   "source": [
    "df_traf_berth_ski_plot.head()"
   ]
  },
  {
   "cell_type": "code",
   "execution_count": 512,
   "metadata": {
    "collapsed": true
   },
   "outputs": [],
   "source": [
    "df_traf_berth_ski_plot = df_traf_berth_ski_plot.rename(columns={'all_day_east':'away_WP', 'all_day_west':'to_WP'})"
   ]
  },
  {
   "cell_type": "markdown",
   "metadata": {},
   "source": [
    "## Opening/Closing Days\n",
    "2011/2012: 11/12/2011-4/22/2012\n",
    "2012/2013: 11/14/2012-4/21/2013\n",
    "2013/2014: 11/13/2013-4/27/2014\n",
    "2014/2015: 11/15/2014-4/26/2015"
   ]
  },
  {
   "cell_type": "code",
   "execution_count": 513,
   "metadata": {
    "collapsed": false
   },
   "outputs": [],
   "source": [
    "df_berthoud = df_traf_berth_ski_plot"
   ]
  },
  {
   "cell_type": "code",
   "execution_count": 514,
   "metadata": {
    "collapsed": false
   },
   "outputs": [
    {
     "data": {
      "text/html": [
       "<div>\n",
       "<table border=\"1\" class=\"dataframe\">\n",
       "  <thead>\n",
       "    <tr style=\"text-align: right;\">\n",
       "      <th></th>\n",
       "      <th>COUNTDIR</th>\n",
       "      <th>to_WP</th>\n",
       "      <th>away_WP</th>\n",
       "    </tr>\n",
       "    <tr>\n",
       "      <th>FormattedDate</th>\n",
       "      <th></th>\n",
       "      <th></th>\n",
       "      <th></th>\n",
       "    </tr>\n",
       "  </thead>\n",
       "  <tbody>\n",
       "    <tr>\n",
       "      <th>2011-11-01</th>\n",
       "      <td>P</td>\n",
       "      <td>1622</td>\n",
       "      <td>1670</td>\n",
       "    </tr>\n",
       "    <tr>\n",
       "      <th>2011-11-02</th>\n",
       "      <td>P</td>\n",
       "      <td>1019</td>\n",
       "      <td>1091</td>\n",
       "    </tr>\n",
       "    <tr>\n",
       "      <th>2011-11-03</th>\n",
       "      <td>P</td>\n",
       "      <td>1589</td>\n",
       "      <td>1786</td>\n",
       "    </tr>\n",
       "    <tr>\n",
       "      <th>2011-11-04</th>\n",
       "      <td>P</td>\n",
       "      <td>1904</td>\n",
       "      <td>3514</td>\n",
       "    </tr>\n",
       "    <tr>\n",
       "      <th>2011-11-05</th>\n",
       "      <td>P</td>\n",
       "      <td>1637</td>\n",
       "      <td>2049</td>\n",
       "    </tr>\n",
       "  </tbody>\n",
       "</table>\n",
       "</div>"
      ],
      "text/plain": [
       "              COUNTDIR  to_WP  away_WP\n",
       "FormattedDate                         \n",
       "2011-11-01           P   1622     1670\n",
       "2011-11-02           P   1019     1091\n",
       "2011-11-03           P   1589     1786\n",
       "2011-11-04           P   1904     3514\n",
       "2011-11-05           P   1637     2049"
      ]
     },
     "execution_count": 514,
     "metadata": {},
     "output_type": "execute_result"
    }
   ],
   "source": [
    "df_berthoud.head()"
   ]
  },
  {
   "cell_type": "code",
   "execution_count": 515,
   "metadata": {
    "collapsed": false
   },
   "outputs": [],
   "source": [
    "day_of_week = []\n",
    "for idx, day in df_berthoud.iterrows():\n",
    "    day_of_week.append(idx.weekday())\n",
    "    \n",
    "df_berthoud['day_of_week'] = day_of_week\n",
    "#4 = Friday\n",
    "#5 = Sat\n",
    "#6 = Sun"
   ]
  },
  {
   "cell_type": "code",
   "execution_count": 518,
   "metadata": {
    "collapsed": false
   },
   "outputs": [
    {
     "name": "stderr",
     "output_type": "stream",
     "text": [
      "/Library/Frameworks/Python.framework/Versions/2.7/lib/python2.7/site-packages/ipykernel/__main__.py:3: SettingWithCopyWarning: \n",
      "A value is trying to be set on a copy of a slice from a DataFrame\n",
      "\n",
      "See the the caveats in the documentation: http://pandas.pydata.org/pandas-docs/stable/indexing.html#indexing-view-versus-copy\n",
      "  app.launch_new_instance()\n"
     ]
    }
   ],
   "source": [
    "df_berthoud['net_cars'] = df_berthoud.to_WP - df_berthoud.away_WP\n",
    "df_berthoud['net_cars'] = df_berthoud['net_cars'].shift(1)\n",
    "df_berthoud['net_cars'][0] = 0"
   ]
  },
  {
   "cell_type": "code",
   "execution_count": 519,
   "metadata": {
    "collapsed": false,
    "scrolled": false
   },
   "outputs": [],
   "source": [
    "skiers = []\n",
    "count = 0\n",
    "for idx, row in df_berthoud.iterrows():\n",
    "    count += row.net_cars\n",
    "    skiers.append(count)"
   ]
  },
  {
   "cell_type": "code",
   "execution_count": 521,
   "metadata": {
    "collapsed": false
   },
   "outputs": [],
   "source": [
    "df_berthoud['skiers'] = skiers"
   ]
  },
  {
   "cell_type": "code",
   "execution_count": 522,
   "metadata": {
    "collapsed": false
   },
   "outputs": [
    {
     "data": {
      "text/plain": [
       "<matplotlib.axes._subplots.AxesSubplot at 0x118a293d0>"
      ]
     },
     "execution_count": 522,
     "metadata": {},
     "output_type": "execute_result"
    },
    {
     "data": {
      "image/png": "[encoded data removed]",
      "text/plain": [
       "<matplotlib.figure.Figure at 0x10d619f90>"
      ]
     },
     "metadata": {},
     "output_type": "display_data"
    }
   ],
   "source": [
    "df_berthoud['skiers'].plot(marker='o')"
   ]
  },
  {
   "cell_type": "code",
   "execution_count": 423,
   "metadata": {
    "collapsed": false
   },
   "outputs": [
    {
     "data": {
      "text/html": [
       "<div>\n",
       "<table border=\"1\" class=\"dataframe\">\n",
       "  <thead>\n",
       "    <tr style=\"text-align: right;\">\n",
       "      <th></th>\n",
       "      <th>berthoud_toward_i70</th>\n",
       "      <th>berthoud_away_i70</th>\n",
       "      <th>day_of_week</th>\n",
       "      <th>net_cars</th>\n",
       "      <th>skiers</th>\n",
       "    </tr>\n",
       "    <tr>\n",
       "      <th>FormattedDate</th>\n",
       "      <th></th>\n",
       "      <th></th>\n",
       "      <th></th>\n",
       "      <th></th>\n",
       "      <th></th>\n",
       "    </tr>\n",
       "  </thead>\n",
       "  <tbody>\n",
       "    <tr>\n",
       "      <th>2014-04-23</th>\n",
       "      <td>1642</td>\n",
       "      <td>1601</td>\n",
       "      <td>2</td>\n",
       "      <td>-96</td>\n",
       "      <td>735</td>\n",
       "    </tr>\n",
       "    <tr>\n",
       "      <th>2014-04-24</th>\n",
       "      <td>1704</td>\n",
       "      <td>1911</td>\n",
       "      <td>3</td>\n",
       "      <td>-41</td>\n",
       "      <td>694</td>\n",
       "    </tr>\n",
       "    <tr>\n",
       "      <th>2014-04-25</th>\n",
       "      <td>1956</td>\n",
       "      <td>2930</td>\n",
       "      <td>4</td>\n",
       "      <td>207</td>\n",
       "      <td>901</td>\n",
       "    </tr>\n",
       "    <tr>\n",
       "      <th>2014-04-26</th>\n",
       "      <td>2306</td>\n",
       "      <td>2641</td>\n",
       "      <td>5</td>\n",
       "      <td>974</td>\n",
       "      <td>1875</td>\n",
       "    </tr>\n",
       "    <tr>\n",
       "      <th>2014-04-27</th>\n",
       "      <td>3102</td>\n",
       "      <td>1675</td>\n",
       "      <td>6</td>\n",
       "      <td>335</td>\n",
       "      <td>2210</td>\n",
       "    </tr>\n",
       "  </tbody>\n",
       "</table>\n",
       "</div>"
      ],
      "text/plain": [
       "               berthoud_toward_i70  berthoud_away_i70  day_of_week  net_cars  \\\n",
       "FormattedDate                                                                  \n",
       "2014-04-23                    1642               1601            2       -96   \n",
       "2014-04-24                    1704               1911            3       -41   \n",
       "2014-04-25                    1956               2930            4       207   \n",
       "2014-04-26                    2306               2641            5       974   \n",
       "2014-04-27                    3102               1675            6       335   \n",
       "\n",
       "               skiers  \n",
       "FormattedDate          \n",
       "2014-04-23        735  \n",
       "2014-04-24        694  \n",
       "2014-04-25        901  \n",
       "2014-04-26       1875  \n",
       "2014-04-27       2210  "
      ]
     },
     "execution_count": 423,
     "metadata": {},
     "output_type": "execute_result"
    }
   ],
   "source": [
    "df_berthoud.tail()"
   ]
  },
  {
   "cell_type": "code",
   "execution_count": 424,
   "metadata": {
    "collapsed": false
   },
   "outputs": [
    {
     "data": {
      "text/plain": [
       "<matplotlib.axes._subplots.AxesSubplot at 0x1178a5d90>"
      ]
     },
     "execution_count": 424,
     "metadata": {},
     "output_type": "execute_result"
    },
    {
     "data": {
      "image/png": "[encoded data removed]",
      "text/plain": [
       "<matplotlib.figure.Figure at 0x116cce490>"
      ]
     },
     "metadata": {},
     "output_type": "display_data"
    }
   ],
   "source": [
    "df_berthoud.skiers.hist()"
   ]
  },
  {
   "cell_type": "code",
   "execution_count": 425,
   "metadata": {
    "collapsed": false
   },
   "outputs": [],
   "source": [
    "df_berthoud.drop(['net_cars'], axis=1, inplace=True)"
   ]
  },
  {
   "cell_type": "code",
   "execution_count": 426,
   "metadata": {
    "collapsed": false
   },
   "outputs": [
    {
     "data": {
      "text/html": [
       "<div>\n",
       "<table border=\"1\" class=\"dataframe\">\n",
       "  <thead>\n",
       "    <tr style=\"text-align: right;\">\n",
       "      <th></th>\n",
       "      <th>berthoud_toward_i70</th>\n",
       "      <th>berthoud_away_i70</th>\n",
       "      <th>day_of_week</th>\n",
       "      <th>skiers</th>\n",
       "    </tr>\n",
       "    <tr>\n",
       "      <th>FormattedDate</th>\n",
       "      <th></th>\n",
       "      <th></th>\n",
       "      <th></th>\n",
       "      <th></th>\n",
       "    </tr>\n",
       "  </thead>\n",
       "  <tbody>\n",
       "    <tr>\n",
       "      <th>2013-11-13</th>\n",
       "      <td>1659</td>\n",
       "      <td>1791</td>\n",
       "      <td>2</td>\n",
       "      <td>0</td>\n",
       "    </tr>\n",
       "    <tr>\n",
       "      <th>2013-11-14</th>\n",
       "      <td>1714</td>\n",
       "      <td>1923</td>\n",
       "      <td>3</td>\n",
       "      <td>132</td>\n",
       "    </tr>\n",
       "    <tr>\n",
       "      <th>2013-11-15</th>\n",
       "      <td>1935</td>\n",
       "      <td>3269</td>\n",
       "      <td>4</td>\n",
       "      <td>341</td>\n",
       "    </tr>\n",
       "    <tr>\n",
       "      <th>2013-11-16</th>\n",
       "      <td>2005</td>\n",
       "      <td>2211</td>\n",
       "      <td>5</td>\n",
       "      <td>1675</td>\n",
       "    </tr>\n",
       "    <tr>\n",
       "      <th>2013-11-17</th>\n",
       "      <td>3362</td>\n",
       "      <td>1453</td>\n",
       "      <td>6</td>\n",
       "      <td>1881</td>\n",
       "    </tr>\n",
       "  </tbody>\n",
       "</table>\n",
       "</div>"
      ],
      "text/plain": [
       "               berthoud_toward_i70  berthoud_away_i70  day_of_week  skiers\n",
       "FormattedDate                                                             \n",
       "2013-11-13                    1659               1791            2       0\n",
       "2013-11-14                    1714               1923            3     132\n",
       "2013-11-15                    1935               3269            4     341\n",
       "2013-11-16                    2005               2211            5    1675\n",
       "2013-11-17                    3362               1453            6    1881"
      ]
     },
     "execution_count": 426,
     "metadata": {},
     "output_type": "execute_result"
    }
   ],
   "source": [
    "df_berthoud.head()"
   ]
  },
  {
   "cell_type": "code",
   "execution_count": 455,
   "metadata": {
    "collapsed": true
   },
   "outputs": [],
   "source": [
    "df_berthoud.to_csv('data/berthoud_skiers_11_12.csv')"
   ]
  },
  {
   "cell_type": "code",
   "execution_count": null,
   "metadata": {
    "collapsed": true
   },
   "outputs": [],
   "source": []
  },
  {
   "cell_type": "code",
   "execution_count": null,
   "metadata": {
    "collapsed": true
   },
   "outputs": [],
   "source": []
  },
  {
   "cell_type": "code",
   "execution_count": null,
   "metadata": {
    "collapsed": true
   },
   "outputs": [],
   "source": []
  }
 ],
 "metadata": {
  "kernelspec": {
   "display_name": "Python 2",
   "language": "python",
   "name": "python2"
  },
  "language_info": {
   "codemirror_mode": {
    "name": "ipython",
    "version": 2
   },
   "file_extension": ".py",
   "mimetype": "text/x-python",
   "name": "python",
   "nbconvert_exporter": "python",
   "pygments_lexer": "ipython2",
   "version": "2.7.10"
  }
 },
 "nbformat": 4,
 "nbformat_minor": 0
}
