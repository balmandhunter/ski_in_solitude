{
 "cells": [
  {
   "cell_type": "code",
   "execution_count": 3,
   "metadata": {
    "collapsed": false
   },
   "outputs": [],
   "source": [
    "import pandas as pd \n",
    "import numpy as np\n",
    "import matplotlib.pyplot as plt\n",
    "from sklearn import linear_model\n",
    "import datetime\n",
    "import seaborn as sns\n",
    "from pandas.tseries.holiday import USFederalHolidayCalendar\n",
    "from sklearn import linear_model\n",
    "from sklearn.cross_validation import cross_val_predict\n",
    "from sklearn.cross_validation import cross_val_score\n",
    "import time\n",
    "\n",
    "%load_ext autoreload\n",
    "%autoreload 2\n",
    "from functions import *\n",
    "from plots import *\n",
    "\n",
    "%matplotlib inline\n",
    "plt.rcParams['figure.figsize'] = 12, 8  # plotsize "
   ]
  },
  {
   "cell_type": "markdown",
   "metadata": {},
   "source": [
    "# Import traffic data"
   ]
  },
  {
   "cell_type": "code",
   "execution_count": 38,
   "metadata": {
    "collapsed": false
   },
   "outputs": [],
   "source": [
    "df_traf = pd.DataFrame.from_csv('../data_ski_in_solitude/berthoud_skiers_14_15.csv', parse_dates=True, index_col=0)"
   ]
  },
  {
   "cell_type": "code",
   "execution_count": 39,
   "metadata": {
    "collapsed": false
   },
   "outputs": [
    {
     "data": {
      "text/html": [
       "<div>\n",
       "<table border=\"1\" class=\"dataframe\">\n",
       "  <thead>\n",
       "    <tr style=\"text-align: right;\">\n",
       "      <th></th>\n",
       "      <th>away_WP</th>\n",
       "      <th>to_WP</th>\n",
       "      <th>day_of_week</th>\n",
       "      <th>skiers</th>\n",
       "    </tr>\n",
       "    <tr>\n",
       "      <th>FormattedDate</th>\n",
       "      <th></th>\n",
       "      <th></th>\n",
       "      <th></th>\n",
       "      <th></th>\n",
       "    </tr>\n",
       "  </thead>\n",
       "  <tbody>\n",
       "    <tr>\n",
       "      <th>2014-11-14</th>\n",
       "      <td>0</td>\n",
       "      <td>1632</td>\n",
       "      <td>4</td>\n",
       "      <td>1632</td>\n",
       "    </tr>\n",
       "    <tr>\n",
       "      <th>2014-11-15</th>\n",
       "      <td>1695</td>\n",
       "      <td>1964</td>\n",
       "      <td>5</td>\n",
       "      <td>1901</td>\n",
       "    </tr>\n",
       "    <tr>\n",
       "      <th>2014-11-16</th>\n",
       "      <td>3390</td>\n",
       "      <td>1489</td>\n",
       "      <td>6</td>\n",
       "      <td>0</td>\n",
       "    </tr>\n",
       "    <tr>\n",
       "      <th>2014-11-17</th>\n",
       "      <td>1716</td>\n",
       "      <td>1493</td>\n",
       "      <td>0</td>\n",
       "      <td>-223</td>\n",
       "    </tr>\n",
       "    <tr>\n",
       "      <th>2014-11-18</th>\n",
       "      <td>1544</td>\n",
       "      <td>1531</td>\n",
       "      <td>1</td>\n",
       "      <td>-236</td>\n",
       "    </tr>\n",
       "  </tbody>\n",
       "</table>\n",
       "</div>"
      ],
      "text/plain": [
       "               away_WP  to_WP  day_of_week  skiers\n",
       "FormattedDate                                     \n",
       "2014-11-14           0   1632            4    1632\n",
       "2014-11-15        1695   1964            5    1901\n",
       "2014-11-16        3390   1489            6       0\n",
       "2014-11-17        1716   1493            0    -223\n",
       "2014-11-18        1544   1531            1    -236"
      ]
     },
     "execution_count": 39,
     "metadata": {},
     "output_type": "execute_result"
    }
   ],
   "source": [
    "df_traf.head()"
   ]
  },
  {
   "cell_type": "markdown",
   "metadata": {},
   "source": [
    "# Import snow data"
   ]
  },
  {
   "cell_type": "code",
   "execution_count": 40,
   "metadata": {
    "collapsed": false
   },
   "outputs": [],
   "source": [
    "df_met = pd.DataFrame.from_csv('../data_ski_in_solitude/clean_wp_14_15.csv', parse_dates=True, index_col=0)"
   ]
  },
  {
   "cell_type": "code",
   "execution_count": 41,
   "metadata": {
    "collapsed": false
   },
   "outputs": [],
   "source": [
    "resamp_time = '1440Min'\n",
    "df_met = df_met.resample(resamp_time)"
   ]
  },
  {
   "cell_type": "markdown",
   "metadata": {},
   "source": [
    "## Combine the traffic and met data."
   ]
  },
  {
   "cell_type": "code",
   "execution_count": 47,
   "metadata": {
    "collapsed": false
   },
   "outputs": [],
   "source": [
    "df_all = df_traf.join(df_met, how='outer')"
   ]
  },
  {
   "cell_type": "code",
   "execution_count": 49,
   "metadata": {
    "collapsed": false
   },
   "outputs": [],
   "source": [
    "df_all = df_all[1:]"
   ]
  },
  {
   "cell_type": "code",
   "execution_count": 51,
   "metadata": {
    "collapsed": false
   },
   "outputs": [
    {
     "data": {
      "text/html": [
       "<div>\n",
       "<table border=\"1\" class=\"dataframe\">\n",
       "  <thead>\n",
       "    <tr style=\"text-align: right;\">\n",
       "      <th></th>\n",
       "      <th>away_WP</th>\n",
       "      <th>to_WP</th>\n",
       "      <th>day_of_week</th>\n",
       "      <th>skiers</th>\n",
       "      <th>new_24</th>\n",
       "      <th>basedepth</th>\n",
       "      <th>open_trails</th>\n",
       "      <th>open_lifts</th>\n",
       "      <th>open_percent</th>\n",
       "      <th>tot_snow</th>\n",
       "      <th>week_snow_tot</th>\n",
       "      <th>2day_snow_tot</th>\n",
       "      <th>3day_snow_tot</th>\n",
       "      <th>4day_snow_tot</th>\n",
       "      <th>5day_snow_tot</th>\n",
       "      <th>6day_snow_tot</th>\n",
       "    </tr>\n",
       "  </thead>\n",
       "  <tbody>\n",
       "    <tr>\n",
       "      <th>2015-04-22</th>\n",
       "      <td>1958</td>\n",
       "      <td>1950</td>\n",
       "      <td>2</td>\n",
       "      <td>-4053</td>\n",
       "      <td>NaN</td>\n",
       "      <td>NaN</td>\n",
       "      <td>NaN</td>\n",
       "      <td>NaN</td>\n",
       "      <td>NaN</td>\n",
       "      <td>NaN</td>\n",
       "      <td>NaN</td>\n",
       "      <td>NaN</td>\n",
       "      <td>NaN</td>\n",
       "      <td>NaN</td>\n",
       "      <td>NaN</td>\n",
       "      <td>NaN</td>\n",
       "    </tr>\n",
       "    <tr>\n",
       "      <th>2015-04-23</th>\n",
       "      <td>1747</td>\n",
       "      <td>1977</td>\n",
       "      <td>3</td>\n",
       "      <td>-3823</td>\n",
       "      <td>0</td>\n",
       "      <td>76</td>\n",
       "      <td>99</td>\n",
       "      <td>9</td>\n",
       "      <td>69</td>\n",
       "      <td>245</td>\n",
       "      <td>23</td>\n",
       "      <td>4</td>\n",
       "      <td>7</td>\n",
       "      <td>12</td>\n",
       "      <td>23</td>\n",
       "      <td>23</td>\n",
       "    </tr>\n",
       "    <tr>\n",
       "      <th>2015-04-24</th>\n",
       "      <td>2223</td>\n",
       "      <td>3877</td>\n",
       "      <td>4</td>\n",
       "      <td>-2169</td>\n",
       "      <td>0</td>\n",
       "      <td>75</td>\n",
       "      <td>97</td>\n",
       "      <td>9</td>\n",
       "      <td>68</td>\n",
       "      <td>245</td>\n",
       "      <td>23</td>\n",
       "      <td>0</td>\n",
       "      <td>4</td>\n",
       "      <td>7</td>\n",
       "      <td>12</td>\n",
       "      <td>23</td>\n",
       "    </tr>\n",
       "    <tr>\n",
       "      <th>2015-04-25</th>\n",
       "      <td>2606</td>\n",
       "      <td>3399</td>\n",
       "      <td>5</td>\n",
       "      <td>-1376</td>\n",
       "      <td>0</td>\n",
       "      <td>72</td>\n",
       "      <td>97</td>\n",
       "      <td>10</td>\n",
       "      <td>68</td>\n",
       "      <td>245</td>\n",
       "      <td>23</td>\n",
       "      <td>0</td>\n",
       "      <td>0</td>\n",
       "      <td>4</td>\n",
       "      <td>7</td>\n",
       "      <td>12</td>\n",
       "    </tr>\n",
       "    <tr>\n",
       "      <th>2015-04-26</th>\n",
       "      <td>4610</td>\n",
       "      <td>2103</td>\n",
       "      <td>6</td>\n",
       "      <td>-3883</td>\n",
       "      <td>5</td>\n",
       "      <td>74</td>\n",
       "      <td>97</td>\n",
       "      <td>10</td>\n",
       "      <td>68</td>\n",
       "      <td>250</td>\n",
       "      <td>12</td>\n",
       "      <td>0</td>\n",
       "      <td>0</td>\n",
       "      <td>0</td>\n",
       "      <td>4</td>\n",
       "      <td>7</td>\n",
       "    </tr>\n",
       "  </tbody>\n",
       "</table>\n",
       "</div>"
      ],
      "text/plain": [
       "            away_WP  to_WP  day_of_week  skiers  new_24  basedepth  \\\n",
       "2015-04-22     1958   1950            2   -4053     NaN        NaN   \n",
       "2015-04-23     1747   1977            3   -3823       0         76   \n",
       "2015-04-24     2223   3877            4   -2169       0         75   \n",
       "2015-04-25     2606   3399            5   -1376       0         72   \n",
       "2015-04-26     4610   2103            6   -3883       5         74   \n",
       "\n",
       "            open_trails  open_lifts  open_percent  tot_snow  week_snow_tot  \\\n",
       "2015-04-22          NaN         NaN           NaN       NaN            NaN   \n",
       "2015-04-23           99           9            69       245             23   \n",
       "2015-04-24           97           9            68       245             23   \n",
       "2015-04-25           97          10            68       245             23   \n",
       "2015-04-26           97          10            68       250             12   \n",
       "\n",
       "            2day_snow_tot  3day_snow_tot  4day_snow_tot  5day_snow_tot  \\\n",
       "2015-04-22            NaN            NaN            NaN            NaN   \n",
       "2015-04-23              4              7             12             23   \n",
       "2015-04-24              0              4              7             12   \n",
       "2015-04-25              0              0              4              7   \n",
       "2015-04-26              0              0              0              4   \n",
       "\n",
       "            6day_snow_tot  \n",
       "2015-04-22            NaN  \n",
       "2015-04-23             23  \n",
       "2015-04-24             23  \n",
       "2015-04-25             12  \n",
       "2015-04-26              7  "
      ]
     },
     "execution_count": 51,
     "metadata": {},
     "output_type": "execute_result"
    }
   ],
   "source": [
    "df_all.tail()"
   ]
  },
  {
   "cell_type": "markdown",
   "metadata": {},
   "source": [
    "# Export Combined Dataframe"
   ]
  },
  {
   "cell_type": "code",
   "execution_count": 52,
   "metadata": {
    "collapsed": true
   },
   "outputs": [],
   "source": [
    "df_all.to_csv('../data_ski_in_solitude/combined_14_15.csv')"
   ]
  },
  {
   "cell_type": "code",
   "execution_count": null,
   "metadata": {
    "collapsed": true
   },
   "outputs": [],
   "source": []
  }
 ],
 "metadata": {
  "kernelspec": {
   "display_name": "Python 2",
   "language": "python",
   "name": "python2"
  },
  "language_info": {
   "codemirror_mode": {
    "name": "ipython",
    "version": 2
   },
   "file_extension": ".py",
   "mimetype": "text/x-python",
   "name": "python",
   "nbconvert_exporter": "python",
   "pygments_lexer": "ipython2",
   "version": "2.7.10"
  }
 },
 "nbformat": 4,
 "nbformat_minor": 0
}
