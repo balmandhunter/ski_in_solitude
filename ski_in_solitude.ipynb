{
 "cells": [
  {
   "cell_type": "code",
   "execution_count": 27,
   "metadata": {
    "collapsed": false
   },
   "outputs": [
    {
     "name": "stdout",
     "output_type": "stream",
     "text": [
      "The autoreload extension is already loaded. To reload it, use:\n",
      "  %reload_ext autoreload\n"
     ]
    }
   ],
   "source": [
    "import pandas as pd \n",
    "import numpy as np\n",
    "import matplotlib.pyplot as plt\n",
    "from sklearn.preprocessing import OneHotEncoder as OneHotEncoder\n",
    "import datetime\n",
    "import seaborn as sns\n",
    "\n",
    "%load_ext autoreload\n",
    "%autoreload 2\n",
    "from functions import *\n",
    "from plots import *\n",
    "\n",
    "\n",
    "%matplotlib inline\n",
    "plt.rcParams['figure.figsize'] = 12, 8  # plotsize "
   ]
  },
  {
   "cell_type": "code",
   "execution_count": 4,
   "metadata": {
    "collapsed": false
   },
   "outputs": [
    {
     "name": "stdout",
     "output_type": "stream",
     "text": [
      "Installed version_information.py. To use it, type:\n",
      "  %load_ext version_information\n",
      "The version_information extension is already loaded. To reload it, use:\n",
      "  %reload_ext version_information\n"
     ]
    },
    {
     "name": "stderr",
     "output_type": "stream",
     "text": [
      "[autoreload of version_information failed: Traceback (most recent call last):\n",
      "  File \"/Library/Frameworks/Python.framework/Versions/2.7/lib/python2.7/site-packages/IPython/extensions/autoreload.py\", line 247, in check\n",
      "    superreload(m, reload, self.old_objects)\n",
      "ImportError: No module named version_information\n",
      "]\n"
     ]
    },
    {
     "data": {
      "application/json": {
       "Software versions": [
        {
         "module": "Python",
         "version": "2.7.10 64bit [GCC 4.2.1 (Apple Inc. build 5666) (dot 3)]"
        },
        {
         "module": "IPython",
         "version": "4.0.0"
        },
        {
         "module": "OS",
         "version": "Darwin 14.5.0 x86_64 i386 64bit"
        },
        {
         "module": "numpy",
         "version": "1.9.2"
        },
        {
         "module": "scipy",
         "version": "0.16.0"
        },
        {
         "module": "matplotlib",
         "version": "1.4.3"
        },
        {
         "module": "pandas",
         "version": "0.16.2"
        }
       ]
      },
      "text/html": [
       "<table><tr><th>Software</th><th>Version</th></tr><tr><td>Python</td><td>2.7.10 64bit [GCC 4.2.1 (Apple Inc. build 5666) (dot 3)]</td></tr><tr><td>IPython</td><td>4.0.0</td></tr><tr><td>OS</td><td>Darwin 14.5.0 x86_64 i386 64bit</td></tr><tr><td>numpy</td><td>1.9.2</td></tr><tr><td>scipy</td><td>0.16.0</td></tr><tr><td>matplotlib</td><td>1.4.3</td></tr><tr><td>pandas</td><td>0.16.2</td></tr><tr><td colspan='2'>Sat Sep 12 19:52:05 2015 PDT</td></tr></table>"
      ],
      "text/latex": [
       "\\begin{tabular}{|l|l|}\\hline\n",
       "{\\bf Software} & {\\bf Version} \\\\ \\hline\\hline\n",
       "Python & 2.7.10 64bit [GCC 4.2.1 (Apple Inc. build 5666) (dot 3)] \\\\ \\hline\n",
       "IPython & 4.0.0 \\\\ \\hline\n",
       "OS & Darwin 14.5.0 x86\\_64 i386 64bit \\\\ \\hline\n",
       "numpy & 1.9.2 \\\\ \\hline\n",
       "scipy & 0.16.0 \\\\ \\hline\n",
       "matplotlib & 1.4.3 \\\\ \\hline\n",
       "pandas & 0.16.2 \\\\ \\hline\n",
       "\\hline \\multicolumn{2}{|l|}{Sat Sep 12 19:52:05 2015 PDT} \\\\ \\hline\n",
       "\\end{tabular}\n"
      ],
      "text/plain": [
       "Software versions\n",
       "Python 2.7.10 64bit [GCC 4.2.1 (Apple Inc. build 5666) (dot 3)]\n",
       "IPython 4.0.0\n",
       "OS Darwin 14.5.0 x86_64 i386 64bit\n",
       "numpy 1.9.2\n",
       "scipy 0.16.0\n",
       "matplotlib 1.4.3\n",
       "pandas 0.16.2\n",
       "Sat Sep 12 19:52:05 2015 PDT"
      ]
     },
     "execution_count": 4,
     "metadata": {},
     "output_type": "execute_result"
    }
   ],
   "source": [
    "%install_ext http://raw.github.com/jrjohansson/version_information/master/version_information.py\n",
    "%load_ext version_information\n",
    "%reload_ext version_information\n",
    "%version_information numpy, scipy, matplotlib, pandas"
   ]
  },
  {
   "cell_type": "markdown",
   "metadata": {},
   "source": [
    "Import ticket purchase data"
   ]
  },
  {
   "cell_type": "code",
   "execution_count": 15,
   "metadata": {
    "collapsed": true
   },
   "outputs": [],
   "source": [
    "df_ticket = pd.DataFrame.from_csv('data/cleaned_ticket_data.csv')"
   ]
  },
  {
   "cell_type": "code",
   "execution_count": 16,
   "metadata": {
    "collapsed": false
   },
   "outputs": [
    {
     "data": {
      "text/html": [
       "<div>\n",
       "<table border=\"1\" class=\"dataframe\">\n",
       "  <thead>\n",
       "    <tr style=\"text-align: right;\">\n",
       "      <th></th>\n",
       "      <th>tickets</th>\n",
       "      <th>is_CO</th>\n",
       "      <th>not_CO</th>\n",
       "      <th>search_vol</th>\n",
       "      <th>day_of_week</th>\n",
       "      <th>search*day</th>\n",
       "    </tr>\n",
       "    <tr>\n",
       "      <th>Date</th>\n",
       "      <th></th>\n",
       "      <th></th>\n",
       "      <th></th>\n",
       "      <th></th>\n",
       "      <th></th>\n",
       "      <th></th>\n",
       "    </tr>\n",
       "  </thead>\n",
       "  <tbody>\n",
       "    <tr>\n",
       "      <th>2014-10-31</th>\n",
       "      <td>77</td>\n",
       "      <td>27</td>\n",
       "      <td>10</td>\n",
       "      <td>509</td>\n",
       "      <td>4</td>\n",
       "      <td>2036</td>\n",
       "    </tr>\n",
       "    <tr>\n",
       "      <th>2014-11-01</th>\n",
       "      <td>64</td>\n",
       "      <td>14</td>\n",
       "      <td>21</td>\n",
       "      <td>683</td>\n",
       "      <td>5</td>\n",
       "      <td>3415</td>\n",
       "    </tr>\n",
       "    <tr>\n",
       "      <th>2014-11-02</th>\n",
       "      <td>79</td>\n",
       "      <td>18</td>\n",
       "      <td>11</td>\n",
       "      <td>419</td>\n",
       "      <td>6</td>\n",
       "      <td>2514</td>\n",
       "    </tr>\n",
       "    <tr>\n",
       "      <th>2014-11-03</th>\n",
       "      <td>35</td>\n",
       "      <td>9</td>\n",
       "      <td>10</td>\n",
       "      <td>341</td>\n",
       "      <td>0</td>\n",
       "      <td>0</td>\n",
       "    </tr>\n",
       "    <tr>\n",
       "      <th>2014-11-04</th>\n",
       "      <td>38</td>\n",
       "      <td>13</td>\n",
       "      <td>7</td>\n",
       "      <td>292</td>\n",
       "      <td>1</td>\n",
       "      <td>292</td>\n",
       "    </tr>\n",
       "  </tbody>\n",
       "</table>\n",
       "</div>"
      ],
      "text/plain": [
       "            tickets  is_CO  not_CO  search_vol  day_of_week  search*day\n",
       "Date                                                                   \n",
       "2014-10-31       77     27      10         509            4        2036\n",
       "2014-11-01       64     14      21         683            5        3415\n",
       "2014-11-02       79     18      11         419            6        2514\n",
       "2014-11-03       35      9      10         341            0           0\n",
       "2014-11-04       38     13       7         292            1         292"
      ]
     },
     "execution_count": 16,
     "metadata": {},
     "output_type": "execute_result"
    }
   ],
   "source": [
    "df_ticket.head()"
   ]
  },
  {
   "cell_type": "markdown",
   "metadata": {},
   "source": [
    "Import traffic data"
   ]
  },
  {
   "cell_type": "code",
   "execution_count": 19,
   "metadata": {
    "collapsed": false
   },
   "outputs": [],
   "source": [
    "df_traffic = pd.DataFrame.from_csv('data/clean_eagle_traffic.csv')"
   ]
  },
  {
   "cell_type": "code",
   "execution_count": 20,
   "metadata": {
    "collapsed": false
   },
   "outputs": [
    {
     "data": {
      "text/html": [
       "<div>\n",
       "<table border=\"1\" class=\"dataframe\">\n",
       "  <thead>\n",
       "    <tr style=\"text-align: right;\">\n",
       "      <th></th>\n",
       "      <th>morning_away</th>\n",
       "      <th>evening_away</th>\n",
       "      <th>all_day_away</th>\n",
       "      <th>morning_to</th>\n",
       "      <th>evening_to</th>\n",
       "      <th>all_day_to</th>\n",
       "    </tr>\n",
       "    <tr>\n",
       "      <th>FormattedDate</th>\n",
       "      <th></th>\n",
       "      <th></th>\n",
       "      <th></th>\n",
       "      <th></th>\n",
       "      <th></th>\n",
       "      <th></th>\n",
       "    </tr>\n",
       "  </thead>\n",
       "  <tbody>\n",
       "    <tr>\n",
       "      <th>2014-10-31</th>\n",
       "      <td>4849</td>\n",
       "      <td>11980</td>\n",
       "      <td>16829</td>\n",
       "      <td>8015</td>\n",
       "      <td>13111</td>\n",
       "      <td>21126</td>\n",
       "    </tr>\n",
       "    <tr>\n",
       "      <th>2014-11-01</th>\n",
       "      <td>4903</td>\n",
       "      <td>11920</td>\n",
       "      <td>16823</td>\n",
       "      <td>8587</td>\n",
       "      <td>11379</td>\n",
       "      <td>19966</td>\n",
       "    </tr>\n",
       "    <tr>\n",
       "      <th>2014-11-02</th>\n",
       "      <td>5859</td>\n",
       "      <td>12952</td>\n",
       "      <td>18811</td>\n",
       "      <td>6283</td>\n",
       "      <td>9006</td>\n",
       "      <td>15289</td>\n",
       "    </tr>\n",
       "    <tr>\n",
       "      <th>2014-11-03</th>\n",
       "      <td>4961</td>\n",
       "      <td>7820</td>\n",
       "      <td>12781</td>\n",
       "      <td>5924</td>\n",
       "      <td>7217</td>\n",
       "      <td>13141</td>\n",
       "    </tr>\n",
       "    <tr>\n",
       "      <th>2014-11-04</th>\n",
       "      <td>5023</td>\n",
       "      <td>9255</td>\n",
       "      <td>14278</td>\n",
       "      <td>6290</td>\n",
       "      <td>7940</td>\n",
       "      <td>14230</td>\n",
       "    </tr>\n",
       "  </tbody>\n",
       "</table>\n",
       "</div>"
      ],
      "text/plain": [
       "               morning_away  evening_away  all_day_away  morning_to  \\\n",
       "FormattedDate                                                         \n",
       "2014-10-31             4849         11980         16829        8015   \n",
       "2014-11-01             4903         11920         16823        8587   \n",
       "2014-11-02             5859         12952         18811        6283   \n",
       "2014-11-03             4961          7820         12781        5924   \n",
       "2014-11-04             5023          9255         14278        6290   \n",
       "\n",
       "               evening_to  all_day_to  \n",
       "FormattedDate                          \n",
       "2014-10-31          13111       21126  \n",
       "2014-11-01          11379       19966  \n",
       "2014-11-02           9006       15289  \n",
       "2014-11-03           7217       13141  \n",
       "2014-11-04           7940       14230  "
      ]
     },
     "execution_count": 20,
     "metadata": {},
     "output_type": "execute_result"
    }
   ],
   "source": [
    "df_traffic.head()"
   ]
  },
  {
   "cell_type": "markdown",
   "metadata": {},
   "source": [
    "Combine the traffic and ticket sales data"
   ]
  },
  {
   "cell_type": "code",
   "execution_count": 24,
   "metadata": {
    "collapsed": false
   },
   "outputs": [],
   "source": [
    "df_all = pd.concat([df_ticket, df_traffic], axis=1)"
   ]
  },
  {
   "cell_type": "code",
   "execution_count": 25,
   "metadata": {
    "collapsed": false
   },
   "outputs": [
    {
     "data": {
      "text/html": [
       "<div>\n",
       "<table border=\"1\" class=\"dataframe\">\n",
       "  <thead>\n",
       "    <tr style=\"text-align: right;\">\n",
       "      <th></th>\n",
       "      <th>tickets</th>\n",
       "      <th>is_CO</th>\n",
       "      <th>not_CO</th>\n",
       "      <th>search_vol</th>\n",
       "      <th>day_of_week</th>\n",
       "      <th>search*day</th>\n",
       "      <th>morning_away</th>\n",
       "      <th>evening_away</th>\n",
       "      <th>all_day_away</th>\n",
       "      <th>morning_to</th>\n",
       "      <th>evening_to</th>\n",
       "      <th>all_day_to</th>\n",
       "    </tr>\n",
       "  </thead>\n",
       "  <tbody>\n",
       "    <tr>\n",
       "      <th>2014-10-31</th>\n",
       "      <td>77</td>\n",
       "      <td>27</td>\n",
       "      <td>10</td>\n",
       "      <td>509</td>\n",
       "      <td>4</td>\n",
       "      <td>2036</td>\n",
       "      <td>4849</td>\n",
       "      <td>11980</td>\n",
       "      <td>16829</td>\n",
       "      <td>8015</td>\n",
       "      <td>13111</td>\n",
       "      <td>21126</td>\n",
       "    </tr>\n",
       "    <tr>\n",
       "      <th>2014-11-01</th>\n",
       "      <td>64</td>\n",
       "      <td>14</td>\n",
       "      <td>21</td>\n",
       "      <td>683</td>\n",
       "      <td>5</td>\n",
       "      <td>3415</td>\n",
       "      <td>4903</td>\n",
       "      <td>11920</td>\n",
       "      <td>16823</td>\n",
       "      <td>8587</td>\n",
       "      <td>11379</td>\n",
       "      <td>19966</td>\n",
       "    </tr>\n",
       "    <tr>\n",
       "      <th>2014-11-02</th>\n",
       "      <td>79</td>\n",
       "      <td>18</td>\n",
       "      <td>11</td>\n",
       "      <td>419</td>\n",
       "      <td>6</td>\n",
       "      <td>2514</td>\n",
       "      <td>5859</td>\n",
       "      <td>12952</td>\n",
       "      <td>18811</td>\n",
       "      <td>6283</td>\n",
       "      <td>9006</td>\n",
       "      <td>15289</td>\n",
       "    </tr>\n",
       "    <tr>\n",
       "      <th>2014-11-03</th>\n",
       "      <td>35</td>\n",
       "      <td>9</td>\n",
       "      <td>10</td>\n",
       "      <td>341</td>\n",
       "      <td>0</td>\n",
       "      <td>0</td>\n",
       "      <td>4961</td>\n",
       "      <td>7820</td>\n",
       "      <td>12781</td>\n",
       "      <td>5924</td>\n",
       "      <td>7217</td>\n",
       "      <td>13141</td>\n",
       "    </tr>\n",
       "    <tr>\n",
       "      <th>2014-11-04</th>\n",
       "      <td>38</td>\n",
       "      <td>13</td>\n",
       "      <td>7</td>\n",
       "      <td>292</td>\n",
       "      <td>1</td>\n",
       "      <td>292</td>\n",
       "      <td>5023</td>\n",
       "      <td>9255</td>\n",
       "      <td>14278</td>\n",
       "      <td>6290</td>\n",
       "      <td>7940</td>\n",
       "      <td>14230</td>\n",
       "    </tr>\n",
       "  </tbody>\n",
       "</table>\n",
       "</div>"
      ],
      "text/plain": [
       "            tickets  is_CO  not_CO  search_vol  day_of_week  search*day  \\\n",
       "2014-10-31       77     27      10         509            4        2036   \n",
       "2014-11-01       64     14      21         683            5        3415   \n",
       "2014-11-02       79     18      11         419            6        2514   \n",
       "2014-11-03       35      9      10         341            0           0   \n",
       "2014-11-04       38     13       7         292            1         292   \n",
       "\n",
       "            morning_away  evening_away  all_day_away  morning_to  evening_to  \\\n",
       "2014-10-31          4849         11980         16829        8015       13111   \n",
       "2014-11-01          4903         11920         16823        8587       11379   \n",
       "2014-11-02          5859         12952         18811        6283        9006   \n",
       "2014-11-03          4961          7820         12781        5924        7217   \n",
       "2014-11-04          5023          9255         14278        6290        7940   \n",
       "\n",
       "            all_day_to  \n",
       "2014-10-31       21126  \n",
       "2014-11-01       19966  \n",
       "2014-11-02       15289  \n",
       "2014-11-03       13141  \n",
       "2014-11-04       14230  "
      ]
     },
     "execution_count": 25,
     "metadata": {},
     "output_type": "execute_result"
    }
   ],
   "source": [
    "df_all.head()"
   ]
  },
  {
   "cell_type": "code",
   "execution_count": 33,
   "metadata": {
    "collapsed": false
   },
   "outputs": [],
   "source": [
    "df_corr_plot = df_all.drop(['search*day', 'morning_away', 'evening_away', 'morning_to', 'morning_to', 'evening_to'], axis=1)"
   ]
  },
  {
   "cell_type": "code",
   "execution_count": 38,
   "metadata": {
    "collapsed": true
   },
   "outputs": [],
   "source": [
    "df_corr_plot['to_day_before'] = df_corr_plot.all_day_to.shift(1)"
   ]
  },
  {
   "cell_type": "code",
   "execution_count": 39,
   "metadata": {
    "collapsed": false
   },
   "outputs": [
    {
     "data": {
      "text/html": [
       "<div>\n",
       "<table border=\"1\" class=\"dataframe\">\n",
       "  <thead>\n",
       "    <tr style=\"text-align: right;\">\n",
       "      <th></th>\n",
       "      <th>tickets</th>\n",
       "      <th>is_CO</th>\n",
       "      <th>not_CO</th>\n",
       "      <th>search_vol</th>\n",
       "      <th>day_of_week</th>\n",
       "      <th>all_day_away</th>\n",
       "      <th>all_day_to</th>\n",
       "      <th>to_day_before</th>\n",
       "    </tr>\n",
       "  </thead>\n",
       "  <tbody>\n",
       "    <tr>\n",
       "      <th>2014-10-31</th>\n",
       "      <td>77</td>\n",
       "      <td>27</td>\n",
       "      <td>10</td>\n",
       "      <td>509</td>\n",
       "      <td>4</td>\n",
       "      <td>16829</td>\n",
       "      <td>21126</td>\n",
       "      <td>NaN</td>\n",
       "    </tr>\n",
       "    <tr>\n",
       "      <th>2014-11-01</th>\n",
       "      <td>64</td>\n",
       "      <td>14</td>\n",
       "      <td>21</td>\n",
       "      <td>683</td>\n",
       "      <td>5</td>\n",
       "      <td>16823</td>\n",
       "      <td>19966</td>\n",
       "      <td>21126</td>\n",
       "    </tr>\n",
       "    <tr>\n",
       "      <th>2014-11-02</th>\n",
       "      <td>79</td>\n",
       "      <td>18</td>\n",
       "      <td>11</td>\n",
       "      <td>419</td>\n",
       "      <td>6</td>\n",
       "      <td>18811</td>\n",
       "      <td>15289</td>\n",
       "      <td>19966</td>\n",
       "    </tr>\n",
       "    <tr>\n",
       "      <th>2014-11-03</th>\n",
       "      <td>35</td>\n",
       "      <td>9</td>\n",
       "      <td>10</td>\n",
       "      <td>341</td>\n",
       "      <td>0</td>\n",
       "      <td>12781</td>\n",
       "      <td>13141</td>\n",
       "      <td>15289</td>\n",
       "    </tr>\n",
       "    <tr>\n",
       "      <th>2014-11-04</th>\n",
       "      <td>38</td>\n",
       "      <td>13</td>\n",
       "      <td>7</td>\n",
       "      <td>292</td>\n",
       "      <td>1</td>\n",
       "      <td>14278</td>\n",
       "      <td>14230</td>\n",
       "      <td>13141</td>\n",
       "    </tr>\n",
       "  </tbody>\n",
       "</table>\n",
       "</div>"
      ],
      "text/plain": [
       "            tickets  is_CO  not_CO  search_vol  day_of_week  all_day_away  \\\n",
       "2014-10-31       77     27      10         509            4         16829   \n",
       "2014-11-01       64     14      21         683            5         16823   \n",
       "2014-11-02       79     18      11         419            6         18811   \n",
       "2014-11-03       35      9      10         341            0         12781   \n",
       "2014-11-04       38     13       7         292            1         14278   \n",
       "\n",
       "            all_day_to  to_day_before  \n",
       "2014-10-31       21126            NaN  \n",
       "2014-11-01       19966          21126  \n",
       "2014-11-02       15289          19966  \n",
       "2014-11-03       13141          15289  \n",
       "2014-11-04       14230          13141  "
      ]
     },
     "execution_count": 39,
     "metadata": {},
     "output_type": "execute_result"
    }
   ],
   "source": [
    "df_corr_plot.head()"
   ]
  },
  {
   "cell_type": "code",
   "execution_count": 40,
   "metadata": {
    "collapsed": false
   },
   "outputs": [
    {
     "data": {
      "image/png": "[encoded data removed]",
      "text/plain": [
       "<matplotlib.figure.Figure at 0x10c841190>"
      ]
     },
     "metadata": {},
     "output_type": "display_data"
    }
   ],
   "source": [
    "make_correlation_plot(df_corr_plot)"
   ]
  },
  {
   "cell_type": "code",
   "execution_count": null,
   "metadata": {
    "collapsed": true
   },
   "outputs": [],
   "source": [
    "#do traffic friday befopre"
   ]
  }
 ],
 "metadata": {
  "kernelspec": {
   "display_name": "Python 2",
   "language": "python",
   "name": "python2"
  },
  "language_info": {
   "codemirror_mode": {
    "name": "ipython",
    "version": 2
   },
   "file_extension": ".py",
   "mimetype": "text/x-python",
   "name": "python",
   "nbconvert_exporter": "python",
   "pygments_lexer": "ipython2",
   "version": "2.7.10"
  }
 },
 "nbformat": 4,
 "nbformat_minor": 0
}
