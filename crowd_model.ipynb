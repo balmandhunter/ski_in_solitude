{
 "cells": [
  {
   "cell_type": "code",
   "execution_count": 358,
   "metadata": {
    "collapsed": false
   },
   "outputs": [
    {
     "name": "stdout",
     "output_type": "stream",
     "text": [
      "Installed version_information.py. To use it, type:\n",
      "  %load_ext version_information\n",
      "The version_information extension is already loaded. To reload it, use:\n",
      "  %reload_ext version_information\n"
     ]
    },
    {
     "data": {
      "application/json": {
       "Software versions": [
        {
         "module": "Python",
         "version": "2.7.10 64bit [GCC 4.2.1 (Apple Inc. build 5666) (dot 3)]"
        },
        {
         "module": "IPython",
         "version": "4.0.0"
        },
        {
         "module": "OS",
         "version": "Darwin 14.5.0 x86_64 i386 64bit"
        },
        {
         "module": "numpy",
         "version": "1.9.2"
        },
        {
         "module": "scipy",
         "version": "0.16.0"
        },
        {
         "module": "matplotlib",
         "version": "1.4.3"
        },
        {
         "module": "pandas",
         "version": "0.16.2"
        }
       ]
      },
      "text/html": [
       "<table><tr><th>Software</th><th>Version</th></tr><tr><td>Python</td><td>2.7.10 64bit [GCC 4.2.1 (Apple Inc. build 5666) (dot 3)]</td></tr><tr><td>IPython</td><td>4.0.0</td></tr><tr><td>OS</td><td>Darwin 14.5.0 x86_64 i386 64bit</td></tr><tr><td>numpy</td><td>1.9.2</td></tr><tr><td>scipy</td><td>0.16.0</td></tr><tr><td>matplotlib</td><td>1.4.3</td></tr><tr><td>pandas</td><td>0.16.2</td></tr><tr><td colspan='2'>Mon Sep 14 16:00:56 2015 PDT</td></tr></table>"
      ],
      "text/latex": [
       "\\begin{tabular}{|l|l|}\\hline\n",
       "{\\bf Software} & {\\bf Version} \\\\ \\hline\\hline\n",
       "Python & 2.7.10 64bit [GCC 4.2.1 (Apple Inc. build 5666) (dot 3)] \\\\ \\hline\n",
       "IPython & 4.0.0 \\\\ \\hline\n",
       "OS & Darwin 14.5.0 x86\\_64 i386 64bit \\\\ \\hline\n",
       "numpy & 1.9.2 \\\\ \\hline\n",
       "scipy & 0.16.0 \\\\ \\hline\n",
       "matplotlib & 1.4.3 \\\\ \\hline\n",
       "pandas & 0.16.2 \\\\ \\hline\n",
       "\\hline \\multicolumn{2}{|l|}{Mon Sep 14 16:00:56 2015 PDT} \\\\ \\hline\n",
       "\\end{tabular}\n"
      ],
      "text/plain": [
       "Software versions\n",
       "Python 2.7.10 64bit [GCC 4.2.1 (Apple Inc. build 5666) (dot 3)]\n",
       "IPython 4.0.0\n",
       "OS Darwin 14.5.0 x86_64 i386 64bit\n",
       "numpy 1.9.2\n",
       "scipy 0.16.0\n",
       "matplotlib 1.4.3\n",
       "pandas 0.16.2\n",
       "Mon Sep 14 16:00:56 2015 PDT"
      ]
     },
     "execution_count": 358,
     "metadata": {},
     "output_type": "execute_result"
    }
   ],
   "source": [
    "%install_ext http://raw.github.com/jrjohansson/version_information/master/version_information.py\n",
    "%load_ext version_information\n",
    "%reload_ext version_information\n",
    "%version_information numpy, scipy, matplotlib, pandas"
   ]
  },
  {
   "cell_type": "code",
   "execution_count": 359,
   "metadata": {
    "collapsed": false
   },
   "outputs": [
    {
     "name": "stdout",
     "output_type": "stream",
     "text": [
      "/Users/berkeleyalmand/repos/ski_in_solitude\r\n"
     ]
    },
    {
     "name": "stderr",
     "output_type": "stream",
     "text": [
      "[autoreload of version_information failed: Traceback (most recent call last):\n",
      "  File \"/Library/Frameworks/Python.framework/Versions/2.7/lib/python2.7/site-packages/IPython/extensions/autoreload.py\", line 247, in check\n",
      "    superreload(m, reload, self.old_objects)\n",
      "ImportError: No module named version_information\n",
      "]\n"
     ]
    }
   ],
   "source": [
    "!pwd"
   ]
  },
  {
   "cell_type": "code",
   "execution_count": 360,
   "metadata": {
    "collapsed": false
   },
   "outputs": [
    {
     "name": "stdout",
     "output_type": "stream",
     "text": [
      "The autoreload extension is already loaded. To reload it, use:\n",
      "  %reload_ext autoreload\n"
     ]
    }
   ],
   "source": [
    "import pandas as pd \n",
    "import numpy as np\n",
    "import matplotlib.pyplot as plt\n",
    "from sklearn.preprocessing import OneHotEncoder as OneHotEncoder\n",
    "import datetime\n",
    "import seaborn as sns\n",
    "\n",
    "%load_ext autoreload\n",
    "%autoreload 2\n",
    "from functions import *\n",
    "from plots import *\n",
    "\n",
    "%matplotlib inline\n",
    "plt.rcParams['figure.figsize'] = 12, 8  # plotsize "
   ]
  },
  {
   "cell_type": "markdown",
   "metadata": {},
   "source": [
    "# Import traffic data"
   ]
  },
  {
   "cell_type": "code",
   "execution_count": 412,
   "metadata": {
    "collapsed": false
   },
   "outputs": [],
   "source": [
    "df_traf = pd.DataFrame.from_csv('data/berthoud_skiers.csv')"
   ]
  },
  {
   "cell_type": "code",
   "execution_count": 413,
   "metadata": {
    "collapsed": false
   },
   "outputs": [
    {
     "data": {
      "text/html": [
       "<div>\n",
       "<table border=\"1\" class=\"dataframe\">\n",
       "  <thead>\n",
       "    <tr style=\"text-align: right;\">\n",
       "      <th></th>\n",
       "      <th>berthoud_toward_i70</th>\n",
       "      <th>berthoud_away_i70</th>\n",
       "      <th>day_of_week</th>\n",
       "      <th>skiers</th>\n",
       "    </tr>\n",
       "    <tr>\n",
       "      <th>FormattedDate</th>\n",
       "      <th></th>\n",
       "      <th></th>\n",
       "      <th></th>\n",
       "      <th></th>\n",
       "    </tr>\n",
       "  </thead>\n",
       "  <tbody>\n",
       "    <tr>\n",
       "      <th>2014-10-31</th>\n",
       "      <td>1803</td>\n",
       "      <td>2822</td>\n",
       "      <td>4</td>\n",
       "      <td>0.971232</td>\n",
       "    </tr>\n",
       "    <tr>\n",
       "      <th>2014-11-01</th>\n",
       "      <td>1938</td>\n",
       "      <td>2686</td>\n",
       "      <td>5</td>\n",
       "      <td>1.169169</td>\n",
       "    </tr>\n",
       "    <tr>\n",
       "      <th>2014-11-02</th>\n",
       "      <td>2679</td>\n",
       "      <td>1379</td>\n",
       "      <td>6</td>\n",
       "      <td>1.314465</td>\n",
       "    </tr>\n",
       "    <tr>\n",
       "      <th>2014-11-03</th>\n",
       "      <td>1539</td>\n",
       "      <td>1290</td>\n",
       "      <td>0</td>\n",
       "      <td>1.061945</td>\n",
       "    </tr>\n",
       "    <tr>\n",
       "      <th>2014-11-04</th>\n",
       "      <td>1624</td>\n",
       "      <td>1529</td>\n",
       "      <td>1</td>\n",
       "      <td>1.013577</td>\n",
       "    </tr>\n",
       "  </tbody>\n",
       "</table>\n",
       "</div>"
      ],
      "text/plain": [
       "               berthoud_toward_i70  berthoud_away_i70  day_of_week    skiers\n",
       "FormattedDate                                                               \n",
       "2014-10-31                    1803               2822            4  0.971232\n",
       "2014-11-01                    1938               2686            5  1.169169\n",
       "2014-11-02                    2679               1379            6  1.314465\n",
       "2014-11-03                    1539               1290            0  1.061945\n",
       "2014-11-04                    1624               1529            1  1.013577"
      ]
     },
     "execution_count": 413,
     "metadata": {},
     "output_type": "execute_result"
    }
   ],
   "source": [
    "df_traf.head()"
   ]
  },
  {
   "cell_type": "code",
   "execution_count": 414,
   "metadata": {
    "collapsed": false
   },
   "outputs": [],
   "source": [
    "resamp_time = '1440Min'\n",
    "df_all = pd.concat([df_traf.resample(resamp_time), df_met.resample(resamp_time)], axis=1).dropna()"
   ]
  },
  {
   "cell_type": "code",
   "execution_count": 415,
   "metadata": {
    "collapsed": false
   },
   "outputs": [
    {
     "data": {
      "text/html": [
       "<div>\n",
       "<table border=\"1\" class=\"dataframe\">\n",
       "  <thead>\n",
       "    <tr style=\"text-align: right;\">\n",
       "      <th></th>\n",
       "      <th>berthoud_toward_i70</th>\n",
       "      <th>berthoud_away_i70</th>\n",
       "      <th>day_of_week</th>\n",
       "      <th>skiers</th>\n",
       "      <th>Time</th>\n",
       "      <th>Visibility</th>\n",
       "      <th>freezing_fog</th>\n",
       "      <th>heavy_snow</th>\n",
       "      <th>light_snow</th>\n",
       "      <th>mist</th>\n",
       "      <th>...</th>\n",
       "      <th>broken_sky</th>\n",
       "      <th>scattered_sky</th>\n",
       "      <th>overcast</th>\n",
       "      <th>snowfall</th>\n",
       "      <th>high_temp_C</th>\n",
       "      <th>low_temp_C</th>\n",
       "      <th>max_windspeed</th>\n",
       "      <th>mean_windspeed</th>\n",
       "      <th>max_rh</th>\n",
       "      <th>mean_rh</th>\n",
       "    </tr>\n",
       "    <tr>\n",
       "      <th>FormattedDate</th>\n",
       "      <th></th>\n",
       "      <th></th>\n",
       "      <th></th>\n",
       "      <th></th>\n",
       "      <th></th>\n",
       "      <th></th>\n",
       "      <th></th>\n",
       "      <th></th>\n",
       "      <th></th>\n",
       "      <th></th>\n",
       "      <th></th>\n",
       "      <th></th>\n",
       "      <th></th>\n",
       "      <th></th>\n",
       "      <th></th>\n",
       "      <th></th>\n",
       "      <th></th>\n",
       "      <th></th>\n",
       "      <th></th>\n",
       "      <th></th>\n",
       "      <th></th>\n",
       "    </tr>\n",
       "  </thead>\n",
       "  <tbody>\n",
       "    <tr>\n",
       "      <th>2014-11-01</th>\n",
       "      <td>1938</td>\n",
       "      <td>2686</td>\n",
       "      <td>5</td>\n",
       "      <td>1.169169</td>\n",
       "      <td>1179.805556</td>\n",
       "      <td>10.000000</td>\n",
       "      <td>0.000000</td>\n",
       "      <td>0.000000</td>\n",
       "      <td>0.000000</td>\n",
       "      <td>0.000000</td>\n",
       "      <td>...</td>\n",
       "      <td>0.013889</td>\n",
       "      <td>0.138889</td>\n",
       "      <td>0.000000</td>\n",
       "      <td>0.00</td>\n",
       "      <td>5</td>\n",
       "      <td>-1</td>\n",
       "      <td>37</td>\n",
       "      <td>18.270270</td>\n",
       "      <td>96</td>\n",
       "      <td>88.430556</td>\n",
       "    </tr>\n",
       "    <tr>\n",
       "      <th>2014-11-02</th>\n",
       "      <td>2679</td>\n",
       "      <td>1379</td>\n",
       "      <td>6</td>\n",
       "      <td>1.314465</td>\n",
       "      <td>1211.217391</td>\n",
       "      <td>8.623188</td>\n",
       "      <td>0.043478</td>\n",
       "      <td>0.014493</td>\n",
       "      <td>0.028986</td>\n",
       "      <td>0.072464</td>\n",
       "      <td>...</td>\n",
       "      <td>0.086957</td>\n",
       "      <td>0.289855</td>\n",
       "      <td>0.115942</td>\n",
       "      <td>0.06</td>\n",
       "      <td>-1</td>\n",
       "      <td>-6</td>\n",
       "      <td>36</td>\n",
       "      <td>15.444444</td>\n",
       "      <td>96</td>\n",
       "      <td>86.623188</td>\n",
       "    </tr>\n",
       "    <tr>\n",
       "      <th>2014-11-03</th>\n",
       "      <td>1539</td>\n",
       "      <td>1290</td>\n",
       "      <td>0</td>\n",
       "      <td>1.061945</td>\n",
       "      <td>1243.306452</td>\n",
       "      <td>2.281250</td>\n",
       "      <td>0.370968</td>\n",
       "      <td>0.048387</td>\n",
       "      <td>0.096774</td>\n",
       "      <td>0.080645</td>\n",
       "      <td>...</td>\n",
       "      <td>0.096774</td>\n",
       "      <td>0.080645</td>\n",
       "      <td>0.725806</td>\n",
       "      <td>0.14</td>\n",
       "      <td>-6</td>\n",
       "      <td>-11</td>\n",
       "      <td>33</td>\n",
       "      <td>16.163265</td>\n",
       "      <td>92</td>\n",
       "      <td>85.919355</td>\n",
       "    </tr>\n",
       "    <tr>\n",
       "      <th>2014-11-04</th>\n",
       "      <td>1624</td>\n",
       "      <td>1529</td>\n",
       "      <td>1</td>\n",
       "      <td>1.013577</td>\n",
       "      <td>1179.819444</td>\n",
       "      <td>9.425000</td>\n",
       "      <td>0.000000</td>\n",
       "      <td>0.000000</td>\n",
       "      <td>0.000000</td>\n",
       "      <td>0.013889</td>\n",
       "      <td>...</td>\n",
       "      <td>0.000000</td>\n",
       "      <td>0.000000</td>\n",
       "      <td>0.291667</td>\n",
       "      <td>0.45</td>\n",
       "      <td>-5</td>\n",
       "      <td>-13</td>\n",
       "      <td>44</td>\n",
       "      <td>19.014286</td>\n",
       "      <td>96</td>\n",
       "      <td>83.986111</td>\n",
       "    </tr>\n",
       "    <tr>\n",
       "      <th>2014-11-05</th>\n",
       "      <td>1672</td>\n",
       "      <td>1667</td>\n",
       "      <td>2</td>\n",
       "      <td>0.995124</td>\n",
       "      <td>1179.875000</td>\n",
       "      <td>9.013889</td>\n",
       "      <td>0.055556</td>\n",
       "      <td>0.000000</td>\n",
       "      <td>0.013889</td>\n",
       "      <td>0.055556</td>\n",
       "      <td>...</td>\n",
       "      <td>0.041667</td>\n",
       "      <td>0.055556</td>\n",
       "      <td>0.208333</td>\n",
       "      <td>0.00</td>\n",
       "      <td>-1</td>\n",
       "      <td>-10</td>\n",
       "      <td>43</td>\n",
       "      <td>19.628571</td>\n",
       "      <td>92</td>\n",
       "      <td>84.708333</td>\n",
       "    </tr>\n",
       "  </tbody>\n",
       "</table>\n",
       "<p>5 rows × 23 columns</p>\n",
       "</div>"
      ],
      "text/plain": [
       "               berthoud_toward_i70  berthoud_away_i70  day_of_week    skiers  \\\n",
       "FormattedDate                                                                  \n",
       "2014-11-01                    1938               2686            5  1.169169   \n",
       "2014-11-02                    2679               1379            6  1.314465   \n",
       "2014-11-03                    1539               1290            0  1.061945   \n",
       "2014-11-04                    1624               1529            1  1.013577   \n",
       "2014-11-05                    1672               1667            2  0.995124   \n",
       "\n",
       "                      Time  Visibility  freezing_fog  heavy_snow  light_snow  \\\n",
       "FormattedDate                                                                  \n",
       "2014-11-01     1179.805556   10.000000      0.000000    0.000000    0.000000   \n",
       "2014-11-02     1211.217391    8.623188      0.043478    0.014493    0.028986   \n",
       "2014-11-03     1243.306452    2.281250      0.370968    0.048387    0.096774   \n",
       "2014-11-04     1179.819444    9.425000      0.000000    0.000000    0.000000   \n",
       "2014-11-05     1179.875000    9.013889      0.055556    0.000000    0.013889   \n",
       "\n",
       "                   mist    ...      broken_sky  scattered_sky  overcast  \\\n",
       "FormattedDate              ...                                            \n",
       "2014-11-01     0.000000    ...        0.013889       0.138889  0.000000   \n",
       "2014-11-02     0.072464    ...        0.086957       0.289855  0.115942   \n",
       "2014-11-03     0.080645    ...        0.096774       0.080645  0.725806   \n",
       "2014-11-04     0.013889    ...        0.000000       0.000000  0.291667   \n",
       "2014-11-05     0.055556    ...        0.041667       0.055556  0.208333   \n",
       "\n",
       "               snowfall  high_temp_C  low_temp_C  max_windspeed  \\\n",
       "FormattedDate                                                     \n",
       "2014-11-01         0.00            5          -1             37   \n",
       "2014-11-02         0.06           -1          -6             36   \n",
       "2014-11-03         0.14           -6         -11             33   \n",
       "2014-11-04         0.45           -5         -13             44   \n",
       "2014-11-05         0.00           -1         -10             43   \n",
       "\n",
       "               mean_windspeed  max_rh    mean_rh  \n",
       "FormattedDate                                     \n",
       "2014-11-01          18.270270      96  88.430556  \n",
       "2014-11-02          15.444444      96  86.623188  \n",
       "2014-11-03          16.163265      92  85.919355  \n",
       "2014-11-04          19.014286      96  83.986111  \n",
       "2014-11-05          19.628571      92  84.708333  \n",
       "\n",
       "[5 rows x 23 columns]"
      ]
     },
     "execution_count": 415,
     "metadata": {},
     "output_type": "execute_result"
    }
   ],
   "source": [
    "df_all.head()"
   ]
  },
  {
   "cell_type": "code",
   "execution_count": 416,
   "metadata": {
    "collapsed": false
   },
   "outputs": [
    {
     "ename": "ValueError",
     "evalue": "labels ['morning_away' 'evening_away' 'morning_to' 'evening_to' 'WeatherType'] not contained in axis",
     "output_type": "error",
     "traceback": [
      "\u001b[0;31m---------------------------------------------------------------------------\u001b[0m",
      "\u001b[0;31mValueError\u001b[0m                                Traceback (most recent call last)",
      "\u001b[0;32m<ipython-input-416-b8f4ed546cc5>\u001b[0m in \u001b[0;36m<module>\u001b[0;34m()\u001b[0m\n\u001b[0;32m----> 1\u001b[0;31m \u001b[0mdf_all_corr\u001b[0m \u001b[0;34m=\u001b[0m \u001b[0mdf_all\u001b[0m\u001b[0;34m.\u001b[0m\u001b[0mdrop\u001b[0m\u001b[0;34m(\u001b[0m\u001b[0;34m[\u001b[0m\u001b[0;34m'morning_away'\u001b[0m\u001b[0;34m,\u001b[0m \u001b[0;34m'evening_away'\u001b[0m\u001b[0;34m,\u001b[0m \u001b[0;34m'morning_to'\u001b[0m\u001b[0;34m,\u001b[0m \u001b[0;34m'evening_to'\u001b[0m\u001b[0;34m,\u001b[0m \u001b[0;34m'Time'\u001b[0m\u001b[0;34m,\u001b[0m \u001b[0;34m'WeatherType'\u001b[0m\u001b[0;34m]\u001b[0m\u001b[0;34m,\u001b[0m \u001b[0maxis\u001b[0m \u001b[0;34m=\u001b[0m \u001b[0;36m1\u001b[0m\u001b[0;34m)\u001b[0m\u001b[0;34m\u001b[0m\u001b[0m\n\u001b[0m",
      "\u001b[0;32m/Library/Frameworks/Python.framework/Versions/2.7/lib/python2.7/site-packages/pandas/core/generic.pyc\u001b[0m in \u001b[0;36mdrop\u001b[0;34m(self, labels, axis, level, inplace, errors)\u001b[0m\n\u001b[1;32m   1595\u001b[0m                 \u001b[0mnew_axis\u001b[0m \u001b[0;34m=\u001b[0m \u001b[0maxis\u001b[0m\u001b[0;34m.\u001b[0m\u001b[0mdrop\u001b[0m\u001b[0;34m(\u001b[0m\u001b[0mlabels\u001b[0m\u001b[0;34m,\u001b[0m \u001b[0mlevel\u001b[0m\u001b[0;34m=\u001b[0m\u001b[0mlevel\u001b[0m\u001b[0;34m,\u001b[0m \u001b[0merrors\u001b[0m\u001b[0;34m=\u001b[0m\u001b[0merrors\u001b[0m\u001b[0;34m)\u001b[0m\u001b[0;34m\u001b[0m\u001b[0m\n\u001b[1;32m   1596\u001b[0m             \u001b[0;32melse\u001b[0m\u001b[0;34m:\u001b[0m\u001b[0;34m\u001b[0m\u001b[0m\n\u001b[0;32m-> 1597\u001b[0;31m                 \u001b[0mnew_axis\u001b[0m \u001b[0;34m=\u001b[0m \u001b[0maxis\u001b[0m\u001b[0;34m.\u001b[0m\u001b[0mdrop\u001b[0m\u001b[0;34m(\u001b[0m\u001b[0mlabels\u001b[0m\u001b[0;34m,\u001b[0m \u001b[0merrors\u001b[0m\u001b[0;34m=\u001b[0m\u001b[0merrors\u001b[0m\u001b[0;34m)\u001b[0m\u001b[0;34m\u001b[0m\u001b[0m\n\u001b[0m\u001b[1;32m   1598\u001b[0m             \u001b[0mdropped\u001b[0m \u001b[0;34m=\u001b[0m \u001b[0mself\u001b[0m\u001b[0;34m.\u001b[0m\u001b[0mreindex\u001b[0m\u001b[0;34m(\u001b[0m\u001b[0;34m**\u001b[0m\u001b[0;34m{\u001b[0m\u001b[0maxis_name\u001b[0m\u001b[0;34m:\u001b[0m \u001b[0mnew_axis\u001b[0m\u001b[0;34m}\u001b[0m\u001b[0;34m)\u001b[0m\u001b[0;34m\u001b[0m\u001b[0m\n\u001b[1;32m   1599\u001b[0m             \u001b[0;32mtry\u001b[0m\u001b[0;34m:\u001b[0m\u001b[0;34m\u001b[0m\u001b[0m\n",
      "\u001b[0;32m/Library/Frameworks/Python.framework/Versions/2.7/lib/python2.7/site-packages/pandas/core/index.pyc\u001b[0m in \u001b[0;36mdrop\u001b[0;34m(self, labels, errors)\u001b[0m\n\u001b[1;32m   2568\u001b[0m         \u001b[0;32mif\u001b[0m \u001b[0mmask\u001b[0m\u001b[0;34m.\u001b[0m\u001b[0many\u001b[0m\u001b[0;34m(\u001b[0m\u001b[0;34m)\u001b[0m\u001b[0;34m:\u001b[0m\u001b[0;34m\u001b[0m\u001b[0m\n\u001b[1;32m   2569\u001b[0m             \u001b[0;32mif\u001b[0m \u001b[0merrors\u001b[0m \u001b[0;34m!=\u001b[0m \u001b[0;34m'ignore'\u001b[0m\u001b[0;34m:\u001b[0m\u001b[0;34m\u001b[0m\u001b[0m\n\u001b[0;32m-> 2570\u001b[0;31m                 \u001b[0;32mraise\u001b[0m \u001b[0mValueError\u001b[0m\u001b[0;34m(\u001b[0m\u001b[0;34m'labels %s not contained in axis'\u001b[0m \u001b[0;34m%\u001b[0m \u001b[0mlabels\u001b[0m\u001b[0;34m[\u001b[0m\u001b[0mmask\u001b[0m\u001b[0;34m]\u001b[0m\u001b[0;34m)\u001b[0m\u001b[0;34m\u001b[0m\u001b[0m\n\u001b[0m\u001b[1;32m   2571\u001b[0m             \u001b[0mindexer\u001b[0m \u001b[0;34m=\u001b[0m \u001b[0mindexer\u001b[0m\u001b[0;34m[\u001b[0m\u001b[0;34m~\u001b[0m\u001b[0mmask\u001b[0m\u001b[0;34m]\u001b[0m\u001b[0;34m\u001b[0m\u001b[0m\n\u001b[1;32m   2572\u001b[0m         \u001b[0;32mreturn\u001b[0m \u001b[0mself\u001b[0m\u001b[0;34m.\u001b[0m\u001b[0mdelete\u001b[0m\u001b[0;34m(\u001b[0m\u001b[0mindexer\u001b[0m\u001b[0;34m)\u001b[0m\u001b[0;34m\u001b[0m\u001b[0m\n",
      "\u001b[0;31mValueError\u001b[0m: labels ['morning_away' 'evening_away' 'morning_to' 'evening_to' 'WeatherType'] not contained in axis"
     ]
    }
   ],
   "source": [
    "df_all_corr = df_all.drop(['morning_away', 'evening_away', 'morning_to', 'evening_to', 'Time', 'WeatherType'], axis = 1)"
   ]
  },
  {
   "cell_type": "code",
   "execution_count": null,
   "metadata": {
    "collapsed": false
   },
   "outputs": [],
   "source": [
    "day_of_week = []\n",
    "for idx, day in df_all_corr.iterrows():\n",
    "    day_of_week.append(idx.weekday())\n",
    "    \n",
    "df_all_corr['day_of_week'] = day_of_week"
   ]
  },
  {
   "cell_type": "code",
   "execution_count": null,
   "metadata": {
    "collapsed": false,
    "scrolled": false
   },
   "outputs": [],
   "source": [
    "f, ax = plt.subplots(figsize=(12, 12))\n",
    "sns.corrplot(df_all_corr, annot=True, sig_stars=False,\n",
    "             diag_names=False, ax=ax)"
   ]
  },
  {
   "cell_type": "code",
   "execution_count": null,
   "metadata": {
    "collapsed": false
   },
   "outputs": [],
   "source": [
    "from pandas.tseries.holiday import USFederalHolidayCalendar\n",
    "calendar = USFederalHolidayCalendar()"
   ]
  },
  {
   "cell_type": "code",
   "execution_count": null,
   "metadata": {
    "collapsed": false
   },
   "outputs": [],
   "source": [
    "df_all_corr['day_of_week'].unique()"
   ]
  },
  {
   "cell_type": "code",
   "execution_count": null,
   "metadata": {
    "collapsed": false
   },
   "outputs": [],
   "source": [
    "ref_col = 'all_day_to'"
   ]
  },
  {
   "cell_type": "code",
   "execution_count": null,
   "metadata": {
    "collapsed": false
   },
   "outputs": [],
   "source": [
    "list(df_all_corr.columns.values)"
   ]
  },
  {
   "cell_type": "code",
   "execution_count": null,
   "metadata": {
    "collapsed": true
   },
   "outputs": [],
   "source": [
    "features = ['Visibility',\n",
    " 'DryBulbCelsius',\n",
    " 'WindSpeed',\n",
    " 'HourlyPrecip',\n",
    " 'day_of_week']"
   ]
  },
  {
   "cell_type": "code",
   "execution_count": null,
   "metadata": {
    "collapsed": false
   },
   "outputs": [],
   "source": [
    "def numpy_arrays_for_tr_and_cv(features, df_T, df_CV, ref_column):\n",
    "    X_T = df_T[features].values\n",
    "    X_CV = df_CV[features].values\n",
    "    y_T = df_T[ref_column].values\n",
    "    y_CV = df_CV[ref_column].values\n",
    "    return X_T, y_T, X_CV, y_CV"
   ]
  },
  {
   "cell_type": "code",
   "execution_count": null,
   "metadata": {
    "collapsed": false
   },
   "outputs": [],
   "source": [
    "X_T, y_T, X_CV, y_CV = numpy_arrays_for_tr_and_cv(features, df_all_corr, df_all_corr, ref_col)"
   ]
  },
  {
   "cell_type": "code",
   "execution_count": null,
   "metadata": {
    "collapsed": false
   },
   "outputs": [],
   "source": [
    "from sklearn import linear_model\n",
    "\n",
    "#Define the model.\n",
    "lin_regr = linear_model.LinearRegression()\n",
    "fit1 = lin_regr.fit(X_T, y_T) \n",
    "df_all_corr['traffic_fit'] = fit1.predict(X_T)"
   ]
  },
  {
   "cell_type": "code",
   "execution_count": null,
   "metadata": {
    "collapsed": true
   },
   "outputs": [],
   "source": [
    "def plot_fitted_and_ref(fitted_data, df_H):\n",
    "    plt.figure(figsize=(15,5))\n",
    "    plt.title('Predicted and Reference Traffic Data', fontsize = 30)\n",
    "    fitted_data.plot(color=\"r\", marker = '.', label = 'fitted')\n",
    "    plt.xlabel('Time', fontsize = 18)\n",
    "    plt.ylabel('Number of Cars', fontsize = 18)\n",
    "    plt.legend() \n",
    "    df_H['O3_ppb'].plot(label = 'reference')\n",
    "    plt.show()"
   ]
  },
  {
   "cell_type": "code",
   "execution_count": null,
   "metadata": {
    "collapsed": false
   },
   "outputs": [],
   "source": [
    "df_all_corr['traffic_fit'].plot(marker = 'o')"
   ]
  },
  {
   "cell_type": "code",
   "execution_count": null,
   "metadata": {
    "collapsed": true
   },
   "outputs": [],
   "source": []
  },
  {
   "cell_type": "code",
   "execution_count": null,
   "metadata": {
    "collapsed": true
   },
   "outputs": [],
   "source": []
  },
  {
   "cell_type": "code",
   "execution_count": null,
   "metadata": {
    "collapsed": true
   },
   "outputs": [],
   "source": []
  },
  {
   "cell_type": "code",
   "execution_count": null,
   "metadata": {
    "collapsed": true
   },
   "outputs": [],
   "source": []
  },
  {
   "cell_type": "code",
   "execution_count": null,
   "metadata": {
    "collapsed": true
   },
   "outputs": [],
   "source": []
  },
  {
   "cell_type": "code",
   "execution_count": null,
   "metadata": {
    "collapsed": true
   },
   "outputs": [],
   "source": []
  },
  {
   "cell_type": "code",
   "execution_count": null,
   "metadata": {
    "collapsed": true
   },
   "outputs": [],
   "source": []
  },
  {
   "cell_type": "code",
   "execution_count": null,
   "metadata": {
    "collapsed": true
   },
   "outputs": [],
   "source": []
  },
  {
   "cell_type": "code",
   "execution_count": null,
   "metadata": {
    "collapsed": true
   },
   "outputs": [],
   "source": []
  },
  {
   "cell_type": "code",
   "execution_count": null,
   "metadata": {
    "collapsed": true
   },
   "outputs": [],
   "source": []
  },
  {
   "cell_type": "code",
   "execution_count": null,
   "metadata": {
    "collapsed": true
   },
   "outputs": [],
   "source": []
  },
  {
   "cell_type": "code",
   "execution_count": null,
   "metadata": {
    "collapsed": true
   },
   "outputs": [],
   "source": []
  }
 ],
 "metadata": {
  "kernelspec": {
   "display_name": "Python 2",
   "language": "python",
   "name": "python2"
  },
  "language_info": {
   "codemirror_mode": {
    "name": "ipython",
    "version": 2
   },
   "file_extension": ".py",
   "mimetype": "text/x-python",
   "name": "python",
   "nbconvert_exporter": "python",
   "pygments_lexer": "ipython2",
   "version": "2.7.10"
  }
 },
 "nbformat": 4,
 "nbformat_minor": 0
}
