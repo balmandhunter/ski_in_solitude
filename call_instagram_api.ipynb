{
 "cells": [
  {
   "cell_type": "code",
   "execution_count": 1,
   "metadata": {
    "collapsed": false
   },
   "outputs": [],
   "source": [
    "import pandas as pd \n",
    "import numpy as np\n",
    "import matplotlib.pyplot as plt\n",
    "import time\n",
    "import datetime\n",
    "import pytz\n",
    "import seaborn as sns\n",
    "import requests\n",
    "\n",
    "%load_ext autoreload\n",
    "%autoreload 2\n",
    "from functions import *\n",
    "\n",
    "%matplotlib inline\n",
    "plt.rcParams['figure.figsize'] = 12, 8  # plotsize "
   ]
  },
  {
   "cell_type": "code",
   "execution_count": 2,
   "metadata": {
    "collapsed": true
   },
   "outputs": [],
   "source": [
    "def get_photos(**params):\n",
    "    base = 'https://api.instagram.com/v1/media/search'\n",
    "    return requests.get(base, params=params)"
   ]
  },
  {
   "cell_type": "code",
   "execution_count": 28,
   "metadata": {
    "collapsed": false
   },
   "outputs": [
    {
     "data": {
      "text/plain": [
       "1420272000.0"
      ]
     },
     "execution_count": 28,
     "metadata": {},
     "output_type": "execute_result"
    }
   ],
   "source": [
    "time.mktime(datetime.datetime(2015, 1, 3, 0, 0, 0, 0).timetuple())\n"
   ]
  },
  {
   "cell_type": "code",
   "execution_count": 89,
   "metadata": {
    "collapsed": true
   },
   "outputs": [],
   "source": [
    "count = 0\n",
    "#access_token = '1149145788.1fb234f.39804cedb358458695609678e729884d' #4:00\n",
    "#access_token = '23142855.1fb234f.cb217460c38d4afdb7aa4fa139c17578' #6:41\n",
    "access_token = '39018388.1fb234f.bfe119307600451a947e31409ccc77ac' #10:00 PM\n",
    "#access_token = '1639284236.1fb234f.8098a0dc5ce042628557a8dc1d423d72' #8:24 PM"
   ]
  },
  {
   "cell_type": "code",
   "execution_count": null,
   "metadata": {
    "collapsed": true
   },
   "outputs": [],
   "source": []
  },
  {
   "cell_type": "code",
   "execution_count": null,
   "metadata": {
    "collapsed": true
   },
   "outputs": [],
   "source": []
  },
  {
   "cell_type": "code",
   "execution_count": null,
   "metadata": {
    "collapsed": true
   },
   "outputs": [],
   "source": []
  },
  {
   "cell_type": "code",
   "execution_count": null,
   "metadata": {
    "collapsed": true
   },
   "outputs": [],
   "source": []
  },
  {
   "cell_type": "code",
   "execution_count": null,
   "metadata": {
    "collapsed": false,
    "scrolled": false
   },
   "outputs": [],
   "source": [
    "enter_start_time = 1422684000\n",
    "\n",
    "lat = 39.8667856\n",
    "lng = -105.7811816\n",
    "min_timestamp = enter_start_time\n",
    "#time.mktime(datetime.datetime(2014, 12, 28, 10, 10, 0, 0).timetuple())\n",
    "distance = 5000\n",
    "tot_pics = 0\n",
    "time_jump = 60*5\n",
    "time1 = 0\n",
    "\n",
    "max_timestamp = min_timestamp + time_jump\n",
    "while max_timestamp <= (enter_start_time + 86400):\n",
    "    r = get_photos(lat=lat, \n",
    "               lng=lng, \n",
    "               min_timestamp=min_timestamp, \n",
    "               max_timestamp=max_timestamp,\n",
    "               distance=distance,\n",
    "               access_token=access_token)\n",
    "    count += 1\n",
    "    while r.status_code != 200:\n",
    "        r = get_photos(lat=lat, \n",
    "               lng=lng, \n",
    "               min_timestamp=min_timestamp, \n",
    "               max_timestamp=max_timestamp,\n",
    "               distance=distance,\n",
    "               access_token=access_token)\n",
    "        count += 1\n",
    "    #time1 += 1\n",
    "\n",
    "    results  = r.json()\n",
    "    #print 'time:', time1, 'pictures:', len(results['data'])\n",
    "    min_timestamp += time_jump\n",
    "    max_timestamp += time_jump\n",
    "    \n",
    "    tot_pics += len(results['data'])\n",
    "    "
   ]
  },
  {
   "cell_type": "code",
   "execution_count": null,
   "metadata": {
    "collapsed": false
   },
   "outputs": [],
   "source": [
    "count"
   ]
  },
  {
   "cell_type": "code",
   "execution_count": null,
   "metadata": {
    "collapsed": false
   },
   "outputs": [],
   "source": [
    "tot_pics"
   ]
  },
  {
   "cell_type": "code",
   "execution_count": null,
   "metadata": {
    "collapsed": true
   },
   "outputs": [],
   "source": [
    "#jan_wp_pics = []"
   ]
  },
  {
   "cell_type": "code",
   "execution_count": null,
   "metadata": {
    "collapsed": false
   },
   "outputs": [],
   "source": [
    "jan_wp_pics.append(tot_pics)\n",
    "jan_wp_pics"
   ]
  },
  {
   "cell_type": "markdown",
   "metadata": {},
   "source": [
    "Print Results"
   ]
  },
  {
   "cell_type": "code",
   "execution_count": 202,
   "metadata": {
    "collapsed": false
   },
   "outputs": [],
   "source": [
    "results  = r.json()"
   ]
  },
  {
   "cell_type": "code",
   "execution_count": 203,
   "metadata": {
    "collapsed": false
   },
   "outputs": [
    {
     "data": {
      "text/plain": [
       "1"
      ]
     },
     "execution_count": 203,
     "metadata": {},
     "output_type": "execute_result"
    }
   ],
   "source": [
    "len(results['data'])"
   ]
  },
  {
   "cell_type": "code",
   "execution_count": 204,
   "metadata": {
    "collapsed": false
   },
   "outputs": [],
   "source": [
    "images = []\n",
    "for d in results['data']:\n",
    "    images.append(d['images']['standard_resolution']['url'])"
   ]
  },
  {
   "cell_type": "code",
   "execution_count": 205,
   "metadata": {
    "collapsed": false,
    "scrolled": true
   },
   "outputs": [
    {
     "data": {
      "text/plain": [
       "[u'https://scontent.cdninstagram.com/hphotos-xtf1/t51.2885-15/e15/10852728_1525986394342111_122632366_n.jpg']"
      ]
     },
     "execution_count": 205,
     "metadata": {},
     "output_type": "execute_result"
    }
   ],
   "source": [
    "images"
   ]
  },
  {
   "cell_type": "code",
   "execution_count": null,
   "metadata": {
    "collapsed": true
   },
   "outputs": [],
   "source": []
  },
  {
   "cell_type": "code",
   "execution_count": null,
   "metadata": {
    "collapsed": true
   },
   "outputs": [],
   "source": []
  }
 ],
 "metadata": {
  "kernelspec": {
   "display_name": "Python 2",
   "language": "python",
   "name": "python2"
  },
  "language_info": {
   "codemirror_mode": {
    "name": "ipython",
    "version": 2
   },
   "file_extension": ".py",
   "mimetype": "text/x-python",
   "name": "python",
   "nbconvert_exporter": "python",
   "pygments_lexer": "ipython2",
   "version": "2.7.10"
  }
 },
 "nbformat": 4,
 "nbformat_minor": 0
}
